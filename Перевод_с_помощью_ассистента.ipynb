{
  "nbformat": 4,
  "nbformat_minor": 0,
  "metadata": {
    "colab": {
      "provenance": [],
      "authorship_tag": "ABX9TyMvz+V93lodqhgf1FqVRDg5",
      "include_colab_link": true
    },
    "kernelspec": {
      "name": "python3",
      "display_name": "Python 3"
    },
    "language_info": {
      "name": "python"
    },
    "widgets": {
      "application/vnd.jupyter.widget-state+json": {
        "4dfc31ab66034977832de8a307d9a7d7": {
          "model_module": "@jupyter-widgets/controls",
          "model_name": "HBoxModel",
          "model_module_version": "1.5.0",
          "state": {
            "_dom_classes": [],
            "_model_module": "@jupyter-widgets/controls",
            "_model_module_version": "1.5.0",
            "_model_name": "HBoxModel",
            "_view_count": null,
            "_view_module": "@jupyter-widgets/controls",
            "_view_module_version": "1.5.0",
            "_view_name": "HBoxView",
            "box_style": "",
            "children": [
              "IPY_MODEL_86f9a59af5814f798093d108b57f56d5",
              "IPY_MODEL_2b33b72b64914b3ca286484a379c6de7",
              "IPY_MODEL_d8656b5497784b09bda7f34b378d409c"
            ],
            "layout": "IPY_MODEL_7b82726f56114f9a996ebf528254ce27"
          }
        },
        "86f9a59af5814f798093d108b57f56d5": {
          "model_module": "@jupyter-widgets/controls",
          "model_name": "HTMLModel",
          "model_module_version": "1.5.0",
          "state": {
            "_dom_classes": [],
            "_model_module": "@jupyter-widgets/controls",
            "_model_module_version": "1.5.0",
            "_model_name": "HTMLModel",
            "_view_count": null,
            "_view_module": "@jupyter-widgets/controls",
            "_view_module_version": "1.5.0",
            "_view_name": "HTMLView",
            "description": "",
            "description_tooltip": null,
            "layout": "IPY_MODEL_e61c2e6185104a9397416178f1124278",
            "placeholder": "​",
            "style": "IPY_MODEL_cdf5d8a8a2424d829efc0fb24a1c60b9",
            "value": "Map: 100%"
          }
        },
        "2b33b72b64914b3ca286484a379c6de7": {
          "model_module": "@jupyter-widgets/controls",
          "model_name": "FloatProgressModel",
          "model_module_version": "1.5.0",
          "state": {
            "_dom_classes": [],
            "_model_module": "@jupyter-widgets/controls",
            "_model_module_version": "1.5.0",
            "_model_name": "FloatProgressModel",
            "_view_count": null,
            "_view_module": "@jupyter-widgets/controls",
            "_view_module_version": "1.5.0",
            "_view_name": "ProgressView",
            "bar_style": "success",
            "description": "",
            "description_tooltip": null,
            "layout": "IPY_MODEL_e13152c57843448a848f4e6b5266f4ab",
            "max": 31407,
            "min": 0,
            "orientation": "horizontal",
            "style": "IPY_MODEL_bea577d584a04a9c80bd5eb2def390f3",
            "value": 31407
          }
        },
        "d8656b5497784b09bda7f34b378d409c": {
          "model_module": "@jupyter-widgets/controls",
          "model_name": "HTMLModel",
          "model_module_version": "1.5.0",
          "state": {
            "_dom_classes": [],
            "_model_module": "@jupyter-widgets/controls",
            "_model_module_version": "1.5.0",
            "_model_name": "HTMLModel",
            "_view_count": null,
            "_view_module": "@jupyter-widgets/controls",
            "_view_module_version": "1.5.0",
            "_view_name": "HTMLView",
            "description": "",
            "description_tooltip": null,
            "layout": "IPY_MODEL_3247d1f0b1aa42b9ab054ef1169187d7",
            "placeholder": "​",
            "style": "IPY_MODEL_6c2be0e279c5453bad26151de1aacffb",
            "value": " 31407/31407 [00:04&lt;00:00, 6712.80 examples/s]"
          }
        },
        "7b82726f56114f9a996ebf528254ce27": {
          "model_module": "@jupyter-widgets/base",
          "model_name": "LayoutModel",
          "model_module_version": "1.2.0",
          "state": {
            "_model_module": "@jupyter-widgets/base",
            "_model_module_version": "1.2.0",
            "_model_name": "LayoutModel",
            "_view_count": null,
            "_view_module": "@jupyter-widgets/base",
            "_view_module_version": "1.2.0",
            "_view_name": "LayoutView",
            "align_content": null,
            "align_items": null,
            "align_self": null,
            "border": null,
            "bottom": null,
            "display": null,
            "flex": null,
            "flex_flow": null,
            "grid_area": null,
            "grid_auto_columns": null,
            "grid_auto_flow": null,
            "grid_auto_rows": null,
            "grid_column": null,
            "grid_gap": null,
            "grid_row": null,
            "grid_template_areas": null,
            "grid_template_columns": null,
            "grid_template_rows": null,
            "height": null,
            "justify_content": null,
            "justify_items": null,
            "left": null,
            "margin": null,
            "max_height": null,
            "max_width": null,
            "min_height": null,
            "min_width": null,
            "object_fit": null,
            "object_position": null,
            "order": null,
            "overflow": null,
            "overflow_x": null,
            "overflow_y": null,
            "padding": null,
            "right": null,
            "top": null,
            "visibility": null,
            "width": null
          }
        },
        "e61c2e6185104a9397416178f1124278": {
          "model_module": "@jupyter-widgets/base",
          "model_name": "LayoutModel",
          "model_module_version": "1.2.0",
          "state": {
            "_model_module": "@jupyter-widgets/base",
            "_model_module_version": "1.2.0",
            "_model_name": "LayoutModel",
            "_view_count": null,
            "_view_module": "@jupyter-widgets/base",
            "_view_module_version": "1.2.0",
            "_view_name": "LayoutView",
            "align_content": null,
            "align_items": null,
            "align_self": null,
            "border": null,
            "bottom": null,
            "display": null,
            "flex": null,
            "flex_flow": null,
            "grid_area": null,
            "grid_auto_columns": null,
            "grid_auto_flow": null,
            "grid_auto_rows": null,
            "grid_column": null,
            "grid_gap": null,
            "grid_row": null,
            "grid_template_areas": null,
            "grid_template_columns": null,
            "grid_template_rows": null,
            "height": null,
            "justify_content": null,
            "justify_items": null,
            "left": null,
            "margin": null,
            "max_height": null,
            "max_width": null,
            "min_height": null,
            "min_width": null,
            "object_fit": null,
            "object_position": null,
            "order": null,
            "overflow": null,
            "overflow_x": null,
            "overflow_y": null,
            "padding": null,
            "right": null,
            "top": null,
            "visibility": null,
            "width": null
          }
        },
        "cdf5d8a8a2424d829efc0fb24a1c60b9": {
          "model_module": "@jupyter-widgets/controls",
          "model_name": "DescriptionStyleModel",
          "model_module_version": "1.5.0",
          "state": {
            "_model_module": "@jupyter-widgets/controls",
            "_model_module_version": "1.5.0",
            "_model_name": "DescriptionStyleModel",
            "_view_count": null,
            "_view_module": "@jupyter-widgets/base",
            "_view_module_version": "1.2.0",
            "_view_name": "StyleView",
            "description_width": ""
          }
        },
        "e13152c57843448a848f4e6b5266f4ab": {
          "model_module": "@jupyter-widgets/base",
          "model_name": "LayoutModel",
          "model_module_version": "1.2.0",
          "state": {
            "_model_module": "@jupyter-widgets/base",
            "_model_module_version": "1.2.0",
            "_model_name": "LayoutModel",
            "_view_count": null,
            "_view_module": "@jupyter-widgets/base",
            "_view_module_version": "1.2.0",
            "_view_name": "LayoutView",
            "align_content": null,
            "align_items": null,
            "align_self": null,
            "border": null,
            "bottom": null,
            "display": null,
            "flex": null,
            "flex_flow": null,
            "grid_area": null,
            "grid_auto_columns": null,
            "grid_auto_flow": null,
            "grid_auto_rows": null,
            "grid_column": null,
            "grid_gap": null,
            "grid_row": null,
            "grid_template_areas": null,
            "grid_template_columns": null,
            "grid_template_rows": null,
            "height": null,
            "justify_content": null,
            "justify_items": null,
            "left": null,
            "margin": null,
            "max_height": null,
            "max_width": null,
            "min_height": null,
            "min_width": null,
            "object_fit": null,
            "object_position": null,
            "order": null,
            "overflow": null,
            "overflow_x": null,
            "overflow_y": null,
            "padding": null,
            "right": null,
            "top": null,
            "visibility": null,
            "width": null
          }
        },
        "bea577d584a04a9c80bd5eb2def390f3": {
          "model_module": "@jupyter-widgets/controls",
          "model_name": "ProgressStyleModel",
          "model_module_version": "1.5.0",
          "state": {
            "_model_module": "@jupyter-widgets/controls",
            "_model_module_version": "1.5.0",
            "_model_name": "ProgressStyleModel",
            "_view_count": null,
            "_view_module": "@jupyter-widgets/base",
            "_view_module_version": "1.2.0",
            "_view_name": "StyleView",
            "bar_color": null,
            "description_width": ""
          }
        },
        "3247d1f0b1aa42b9ab054ef1169187d7": {
          "model_module": "@jupyter-widgets/base",
          "model_name": "LayoutModel",
          "model_module_version": "1.2.0",
          "state": {
            "_model_module": "@jupyter-widgets/base",
            "_model_module_version": "1.2.0",
            "_model_name": "LayoutModel",
            "_view_count": null,
            "_view_module": "@jupyter-widgets/base",
            "_view_module_version": "1.2.0",
            "_view_name": "LayoutView",
            "align_content": null,
            "align_items": null,
            "align_self": null,
            "border": null,
            "bottom": null,
            "display": null,
            "flex": null,
            "flex_flow": null,
            "grid_area": null,
            "grid_auto_columns": null,
            "grid_auto_flow": null,
            "grid_auto_rows": null,
            "grid_column": null,
            "grid_gap": null,
            "grid_row": null,
            "grid_template_areas": null,
            "grid_template_columns": null,
            "grid_template_rows": null,
            "height": null,
            "justify_content": null,
            "justify_items": null,
            "left": null,
            "margin": null,
            "max_height": null,
            "max_width": null,
            "min_height": null,
            "min_width": null,
            "object_fit": null,
            "object_position": null,
            "order": null,
            "overflow": null,
            "overflow_x": null,
            "overflow_y": null,
            "padding": null,
            "right": null,
            "top": null,
            "visibility": null,
            "width": null
          }
        },
        "6c2be0e279c5453bad26151de1aacffb": {
          "model_module": "@jupyter-widgets/controls",
          "model_name": "DescriptionStyleModel",
          "model_module_version": "1.5.0",
          "state": {
            "_model_module": "@jupyter-widgets/controls",
            "_model_module_version": "1.5.0",
            "_model_name": "DescriptionStyleModel",
            "_view_count": null,
            "_view_module": "@jupyter-widgets/base",
            "_view_module_version": "1.2.0",
            "_view_name": "StyleView",
            "description_width": ""
          }
        },
        "d7d6e07d20f84e02b2970ed29dcc5511": {
          "model_module": "@jupyter-widgets/controls",
          "model_name": "HBoxModel",
          "model_module_version": "1.5.0",
          "state": {
            "_dom_classes": [],
            "_model_module": "@jupyter-widgets/controls",
            "_model_module_version": "1.5.0",
            "_model_name": "HBoxModel",
            "_view_count": null,
            "_view_module": "@jupyter-widgets/controls",
            "_view_module_version": "1.5.0",
            "_view_name": "HBoxView",
            "box_style": "",
            "children": [
              "IPY_MODEL_849971dc11294e228fd839c97933753a",
              "IPY_MODEL_63243a0f61a441e59a557e8e94cca5d0",
              "IPY_MODEL_3f43ddb16cde47a3a58344303b0dc2f3"
            ],
            "layout": "IPY_MODEL_04e897e245a1426f9091360d3b7deabf"
          }
        },
        "849971dc11294e228fd839c97933753a": {
          "model_module": "@jupyter-widgets/controls",
          "model_name": "HTMLModel",
          "model_module_version": "1.5.0",
          "state": {
            "_dom_classes": [],
            "_model_module": "@jupyter-widgets/controls",
            "_model_module_version": "1.5.0",
            "_model_name": "HTMLModel",
            "_view_count": null,
            "_view_module": "@jupyter-widgets/controls",
            "_view_module_version": "1.5.0",
            "_view_name": "HTMLView",
            "description": "",
            "description_tooltip": null,
            "layout": "IPY_MODEL_bb9290788d9641ebb7669109881487ad",
            "placeholder": "​",
            "style": "IPY_MODEL_5dd3005f08e64e409f84b69a9012df4a",
            "value": "Map: 100%"
          }
        },
        "63243a0f61a441e59a557e8e94cca5d0": {
          "model_module": "@jupyter-widgets/controls",
          "model_name": "FloatProgressModel",
          "model_module_version": "1.5.0",
          "state": {
            "_dom_classes": [],
            "_model_module": "@jupyter-widgets/controls",
            "_model_module_version": "1.5.0",
            "_model_name": "FloatProgressModel",
            "_view_count": null,
            "_view_module": "@jupyter-widgets/controls",
            "_view_module_version": "1.5.0",
            "_view_name": "ProgressView",
            "bar_style": "success",
            "description": "",
            "description_tooltip": null,
            "layout": "IPY_MODEL_13f5abe7d37c48159f45b10a4325897e",
            "max": 7500,
            "min": 0,
            "orientation": "horizontal",
            "style": "IPY_MODEL_9412a53afad24c1e9c615fbba4bc4aca",
            "value": 7500
          }
        },
        "3f43ddb16cde47a3a58344303b0dc2f3": {
          "model_module": "@jupyter-widgets/controls",
          "model_name": "HTMLModel",
          "model_module_version": "1.5.0",
          "state": {
            "_dom_classes": [],
            "_model_module": "@jupyter-widgets/controls",
            "_model_module_version": "1.5.0",
            "_model_name": "HTMLModel",
            "_view_count": null,
            "_view_module": "@jupyter-widgets/controls",
            "_view_module_version": "1.5.0",
            "_view_name": "HTMLView",
            "description": "",
            "description_tooltip": null,
            "layout": "IPY_MODEL_2f3c007d9f2a4b36ae35918f50c67652",
            "placeholder": "​",
            "style": "IPY_MODEL_f0c555d37641491b9c9a189499788ce1",
            "value": " 7500/7500 [00:00&lt;00:00, 21856.92 examples/s]"
          }
        },
        "04e897e245a1426f9091360d3b7deabf": {
          "model_module": "@jupyter-widgets/base",
          "model_name": "LayoutModel",
          "model_module_version": "1.2.0",
          "state": {
            "_model_module": "@jupyter-widgets/base",
            "_model_module_version": "1.2.0",
            "_model_name": "LayoutModel",
            "_view_count": null,
            "_view_module": "@jupyter-widgets/base",
            "_view_module_version": "1.2.0",
            "_view_name": "LayoutView",
            "align_content": null,
            "align_items": null,
            "align_self": null,
            "border": null,
            "bottom": null,
            "display": null,
            "flex": null,
            "flex_flow": null,
            "grid_area": null,
            "grid_auto_columns": null,
            "grid_auto_flow": null,
            "grid_auto_rows": null,
            "grid_column": null,
            "grid_gap": null,
            "grid_row": null,
            "grid_template_areas": null,
            "grid_template_columns": null,
            "grid_template_rows": null,
            "height": null,
            "justify_content": null,
            "justify_items": null,
            "left": null,
            "margin": null,
            "max_height": null,
            "max_width": null,
            "min_height": null,
            "min_width": null,
            "object_fit": null,
            "object_position": null,
            "order": null,
            "overflow": null,
            "overflow_x": null,
            "overflow_y": null,
            "padding": null,
            "right": null,
            "top": null,
            "visibility": null,
            "width": null
          }
        },
        "bb9290788d9641ebb7669109881487ad": {
          "model_module": "@jupyter-widgets/base",
          "model_name": "LayoutModel",
          "model_module_version": "1.2.0",
          "state": {
            "_model_module": "@jupyter-widgets/base",
            "_model_module_version": "1.2.0",
            "_model_name": "LayoutModel",
            "_view_count": null,
            "_view_module": "@jupyter-widgets/base",
            "_view_module_version": "1.2.0",
            "_view_name": "LayoutView",
            "align_content": null,
            "align_items": null,
            "align_self": null,
            "border": null,
            "bottom": null,
            "display": null,
            "flex": null,
            "flex_flow": null,
            "grid_area": null,
            "grid_auto_columns": null,
            "grid_auto_flow": null,
            "grid_auto_rows": null,
            "grid_column": null,
            "grid_gap": null,
            "grid_row": null,
            "grid_template_areas": null,
            "grid_template_columns": null,
            "grid_template_rows": null,
            "height": null,
            "justify_content": null,
            "justify_items": null,
            "left": null,
            "margin": null,
            "max_height": null,
            "max_width": null,
            "min_height": null,
            "min_width": null,
            "object_fit": null,
            "object_position": null,
            "order": null,
            "overflow": null,
            "overflow_x": null,
            "overflow_y": null,
            "padding": null,
            "right": null,
            "top": null,
            "visibility": null,
            "width": null
          }
        },
        "5dd3005f08e64e409f84b69a9012df4a": {
          "model_module": "@jupyter-widgets/controls",
          "model_name": "DescriptionStyleModel",
          "model_module_version": "1.5.0",
          "state": {
            "_model_module": "@jupyter-widgets/controls",
            "_model_module_version": "1.5.0",
            "_model_name": "DescriptionStyleModel",
            "_view_count": null,
            "_view_module": "@jupyter-widgets/base",
            "_view_module_version": "1.2.0",
            "_view_name": "StyleView",
            "description_width": ""
          }
        },
        "13f5abe7d37c48159f45b10a4325897e": {
          "model_module": "@jupyter-widgets/base",
          "model_name": "LayoutModel",
          "model_module_version": "1.2.0",
          "state": {
            "_model_module": "@jupyter-widgets/base",
            "_model_module_version": "1.2.0",
            "_model_name": "LayoutModel",
            "_view_count": null,
            "_view_module": "@jupyter-widgets/base",
            "_view_module_version": "1.2.0",
            "_view_name": "LayoutView",
            "align_content": null,
            "align_items": null,
            "align_self": null,
            "border": null,
            "bottom": null,
            "display": null,
            "flex": null,
            "flex_flow": null,
            "grid_area": null,
            "grid_auto_columns": null,
            "grid_auto_flow": null,
            "grid_auto_rows": null,
            "grid_column": null,
            "grid_gap": null,
            "grid_row": null,
            "grid_template_areas": null,
            "grid_template_columns": null,
            "grid_template_rows": null,
            "height": null,
            "justify_content": null,
            "justify_items": null,
            "left": null,
            "margin": null,
            "max_height": null,
            "max_width": null,
            "min_height": null,
            "min_width": null,
            "object_fit": null,
            "object_position": null,
            "order": null,
            "overflow": null,
            "overflow_x": null,
            "overflow_y": null,
            "padding": null,
            "right": null,
            "top": null,
            "visibility": null,
            "width": null
          }
        },
        "9412a53afad24c1e9c615fbba4bc4aca": {
          "model_module": "@jupyter-widgets/controls",
          "model_name": "ProgressStyleModel",
          "model_module_version": "1.5.0",
          "state": {
            "_model_module": "@jupyter-widgets/controls",
            "_model_module_version": "1.5.0",
            "_model_name": "ProgressStyleModel",
            "_view_count": null,
            "_view_module": "@jupyter-widgets/base",
            "_view_module_version": "1.2.0",
            "_view_name": "StyleView",
            "bar_color": null,
            "description_width": ""
          }
        },
        "2f3c007d9f2a4b36ae35918f50c67652": {
          "model_module": "@jupyter-widgets/base",
          "model_name": "LayoutModel",
          "model_module_version": "1.2.0",
          "state": {
            "_model_module": "@jupyter-widgets/base",
            "_model_module_version": "1.2.0",
            "_model_name": "LayoutModel",
            "_view_count": null,
            "_view_module": "@jupyter-widgets/base",
            "_view_module_version": "1.2.0",
            "_view_name": "LayoutView",
            "align_content": null,
            "align_items": null,
            "align_self": null,
            "border": null,
            "bottom": null,
            "display": null,
            "flex": null,
            "flex_flow": null,
            "grid_area": null,
            "grid_auto_columns": null,
            "grid_auto_flow": null,
            "grid_auto_rows": null,
            "grid_column": null,
            "grid_gap": null,
            "grid_row": null,
            "grid_template_areas": null,
            "grid_template_columns": null,
            "grid_template_rows": null,
            "height": null,
            "justify_content": null,
            "justify_items": null,
            "left": null,
            "margin": null,
            "max_height": null,
            "max_width": null,
            "min_height": null,
            "min_width": null,
            "object_fit": null,
            "object_position": null,
            "order": null,
            "overflow": null,
            "overflow_x": null,
            "overflow_y": null,
            "padding": null,
            "right": null,
            "top": null,
            "visibility": null,
            "width": null
          }
        },
        "f0c555d37641491b9c9a189499788ce1": {
          "model_module": "@jupyter-widgets/controls",
          "model_name": "DescriptionStyleModel",
          "model_module_version": "1.5.0",
          "state": {
            "_model_module": "@jupyter-widgets/controls",
            "_model_module_version": "1.5.0",
            "_model_name": "DescriptionStyleModel",
            "_view_count": null,
            "_view_module": "@jupyter-widgets/base",
            "_view_module_version": "1.2.0",
            "_view_name": "StyleView",
            "description_width": ""
          }
        },
        "eeea3c242f3e4896b65fb197d4d43206": {
          "model_module": "@jupyter-widgets/controls",
          "model_name": "HBoxModel",
          "model_module_version": "1.5.0",
          "state": {
            "_dom_classes": [],
            "_model_module": "@jupyter-widgets/controls",
            "_model_module_version": "1.5.0",
            "_model_name": "HBoxModel",
            "_view_count": null,
            "_view_module": "@jupyter-widgets/controls",
            "_view_module_version": "1.5.0",
            "_view_name": "HBoxView",
            "box_style": "",
            "children": [
              "IPY_MODEL_8035fbccbed24327bec778a42ca355bb",
              "IPY_MODEL_c297a640bf214958b6f9dfc5a5c2a328",
              "IPY_MODEL_cb6a0f7213f3460383de889287e0c582"
            ],
            "layout": "IPY_MODEL_74535561dd124dee8b5d49dd3267fc31"
          }
        },
        "8035fbccbed24327bec778a42ca355bb": {
          "model_module": "@jupyter-widgets/controls",
          "model_name": "HTMLModel",
          "model_module_version": "1.5.0",
          "state": {
            "_dom_classes": [],
            "_model_module": "@jupyter-widgets/controls",
            "_model_module_version": "1.5.0",
            "_model_name": "HTMLModel",
            "_view_count": null,
            "_view_module": "@jupyter-widgets/controls",
            "_view_module_version": "1.5.0",
            "_view_name": "HTMLView",
            "description": "",
            "description_tooltip": null,
            "layout": "IPY_MODEL_9fb017b187604bdfa746f42d6bc0f7bc",
            "placeholder": "​",
            "style": "IPY_MODEL_48eed249ecbe473990ea4e4423dafba1",
            "value": "Uploading the dataset shards: 100%"
          }
        },
        "c297a640bf214958b6f9dfc5a5c2a328": {
          "model_module": "@jupyter-widgets/controls",
          "model_name": "FloatProgressModel",
          "model_module_version": "1.5.0",
          "state": {
            "_dom_classes": [],
            "_model_module": "@jupyter-widgets/controls",
            "_model_module_version": "1.5.0",
            "_model_name": "FloatProgressModel",
            "_view_count": null,
            "_view_module": "@jupyter-widgets/controls",
            "_view_module_version": "1.5.0",
            "_view_name": "ProgressView",
            "bar_style": "success",
            "description": "",
            "description_tooltip": null,
            "layout": "IPY_MODEL_f757803ae9444445aa26eaffdbf798d9",
            "max": 1,
            "min": 0,
            "orientation": "horizontal",
            "style": "IPY_MODEL_21298a1f44b5406bb0b0880ece1843e0",
            "value": 1
          }
        },
        "cb6a0f7213f3460383de889287e0c582": {
          "model_module": "@jupyter-widgets/controls",
          "model_name": "HTMLModel",
          "model_module_version": "1.5.0",
          "state": {
            "_dom_classes": [],
            "_model_module": "@jupyter-widgets/controls",
            "_model_module_version": "1.5.0",
            "_model_name": "HTMLModel",
            "_view_count": null,
            "_view_module": "@jupyter-widgets/controls",
            "_view_module_version": "1.5.0",
            "_view_name": "HTMLView",
            "description": "",
            "description_tooltip": null,
            "layout": "IPY_MODEL_a8bd31b7f46c4cbc962b94202b03cd6f",
            "placeholder": "​",
            "style": "IPY_MODEL_6ad982d896134f339634067afcf1e505",
            "value": " 1/1 [00:00&lt;00:00,  1.15it/s]"
          }
        },
        "74535561dd124dee8b5d49dd3267fc31": {
          "model_module": "@jupyter-widgets/base",
          "model_name": "LayoutModel",
          "model_module_version": "1.2.0",
          "state": {
            "_model_module": "@jupyter-widgets/base",
            "_model_module_version": "1.2.0",
            "_model_name": "LayoutModel",
            "_view_count": null,
            "_view_module": "@jupyter-widgets/base",
            "_view_module_version": "1.2.0",
            "_view_name": "LayoutView",
            "align_content": null,
            "align_items": null,
            "align_self": null,
            "border": null,
            "bottom": null,
            "display": null,
            "flex": null,
            "flex_flow": null,
            "grid_area": null,
            "grid_auto_columns": null,
            "grid_auto_flow": null,
            "grid_auto_rows": null,
            "grid_column": null,
            "grid_gap": null,
            "grid_row": null,
            "grid_template_areas": null,
            "grid_template_columns": null,
            "grid_template_rows": null,
            "height": null,
            "justify_content": null,
            "justify_items": null,
            "left": null,
            "margin": null,
            "max_height": null,
            "max_width": null,
            "min_height": null,
            "min_width": null,
            "object_fit": null,
            "object_position": null,
            "order": null,
            "overflow": null,
            "overflow_x": null,
            "overflow_y": null,
            "padding": null,
            "right": null,
            "top": null,
            "visibility": null,
            "width": null
          }
        },
        "9fb017b187604bdfa746f42d6bc0f7bc": {
          "model_module": "@jupyter-widgets/base",
          "model_name": "LayoutModel",
          "model_module_version": "1.2.0",
          "state": {
            "_model_module": "@jupyter-widgets/base",
            "_model_module_version": "1.2.0",
            "_model_name": "LayoutModel",
            "_view_count": null,
            "_view_module": "@jupyter-widgets/base",
            "_view_module_version": "1.2.0",
            "_view_name": "LayoutView",
            "align_content": null,
            "align_items": null,
            "align_self": null,
            "border": null,
            "bottom": null,
            "display": null,
            "flex": null,
            "flex_flow": null,
            "grid_area": null,
            "grid_auto_columns": null,
            "grid_auto_flow": null,
            "grid_auto_rows": null,
            "grid_column": null,
            "grid_gap": null,
            "grid_row": null,
            "grid_template_areas": null,
            "grid_template_columns": null,
            "grid_template_rows": null,
            "height": null,
            "justify_content": null,
            "justify_items": null,
            "left": null,
            "margin": null,
            "max_height": null,
            "max_width": null,
            "min_height": null,
            "min_width": null,
            "object_fit": null,
            "object_position": null,
            "order": null,
            "overflow": null,
            "overflow_x": null,
            "overflow_y": null,
            "padding": null,
            "right": null,
            "top": null,
            "visibility": null,
            "width": null
          }
        },
        "48eed249ecbe473990ea4e4423dafba1": {
          "model_module": "@jupyter-widgets/controls",
          "model_name": "DescriptionStyleModel",
          "model_module_version": "1.5.0",
          "state": {
            "_model_module": "@jupyter-widgets/controls",
            "_model_module_version": "1.5.0",
            "_model_name": "DescriptionStyleModel",
            "_view_count": null,
            "_view_module": "@jupyter-widgets/base",
            "_view_module_version": "1.2.0",
            "_view_name": "StyleView",
            "description_width": ""
          }
        },
        "f757803ae9444445aa26eaffdbf798d9": {
          "model_module": "@jupyter-widgets/base",
          "model_name": "LayoutModel",
          "model_module_version": "1.2.0",
          "state": {
            "_model_module": "@jupyter-widgets/base",
            "_model_module_version": "1.2.0",
            "_model_name": "LayoutModel",
            "_view_count": null,
            "_view_module": "@jupyter-widgets/base",
            "_view_module_version": "1.2.0",
            "_view_name": "LayoutView",
            "align_content": null,
            "align_items": null,
            "align_self": null,
            "border": null,
            "bottom": null,
            "display": null,
            "flex": null,
            "flex_flow": null,
            "grid_area": null,
            "grid_auto_columns": null,
            "grid_auto_flow": null,
            "grid_auto_rows": null,
            "grid_column": null,
            "grid_gap": null,
            "grid_row": null,
            "grid_template_areas": null,
            "grid_template_columns": null,
            "grid_template_rows": null,
            "height": null,
            "justify_content": null,
            "justify_items": null,
            "left": null,
            "margin": null,
            "max_height": null,
            "max_width": null,
            "min_height": null,
            "min_width": null,
            "object_fit": null,
            "object_position": null,
            "order": null,
            "overflow": null,
            "overflow_x": null,
            "overflow_y": null,
            "padding": null,
            "right": null,
            "top": null,
            "visibility": null,
            "width": null
          }
        },
        "21298a1f44b5406bb0b0880ece1843e0": {
          "model_module": "@jupyter-widgets/controls",
          "model_name": "ProgressStyleModel",
          "model_module_version": "1.5.0",
          "state": {
            "_model_module": "@jupyter-widgets/controls",
            "_model_module_version": "1.5.0",
            "_model_name": "ProgressStyleModel",
            "_view_count": null,
            "_view_module": "@jupyter-widgets/base",
            "_view_module_version": "1.2.0",
            "_view_name": "StyleView",
            "bar_color": null,
            "description_width": ""
          }
        },
        "a8bd31b7f46c4cbc962b94202b03cd6f": {
          "model_module": "@jupyter-widgets/base",
          "model_name": "LayoutModel",
          "model_module_version": "1.2.0",
          "state": {
            "_model_module": "@jupyter-widgets/base",
            "_model_module_version": "1.2.0",
            "_model_name": "LayoutModel",
            "_view_count": null,
            "_view_module": "@jupyter-widgets/base",
            "_view_module_version": "1.2.0",
            "_view_name": "LayoutView",
            "align_content": null,
            "align_items": null,
            "align_self": null,
            "border": null,
            "bottom": null,
            "display": null,
            "flex": null,
            "flex_flow": null,
            "grid_area": null,
            "grid_auto_columns": null,
            "grid_auto_flow": null,
            "grid_auto_rows": null,
            "grid_column": null,
            "grid_gap": null,
            "grid_row": null,
            "grid_template_areas": null,
            "grid_template_columns": null,
            "grid_template_rows": null,
            "height": null,
            "justify_content": null,
            "justify_items": null,
            "left": null,
            "margin": null,
            "max_height": null,
            "max_width": null,
            "min_height": null,
            "min_width": null,
            "object_fit": null,
            "object_position": null,
            "order": null,
            "overflow": null,
            "overflow_x": null,
            "overflow_y": null,
            "padding": null,
            "right": null,
            "top": null,
            "visibility": null,
            "width": null
          }
        },
        "6ad982d896134f339634067afcf1e505": {
          "model_module": "@jupyter-widgets/controls",
          "model_name": "DescriptionStyleModel",
          "model_module_version": "1.5.0",
          "state": {
            "_model_module": "@jupyter-widgets/controls",
            "_model_module_version": "1.5.0",
            "_model_name": "DescriptionStyleModel",
            "_view_count": null,
            "_view_module": "@jupyter-widgets/base",
            "_view_module_version": "1.2.0",
            "_view_name": "StyleView",
            "description_width": ""
          }
        },
        "554931f3291f489c8b3ff5fbe859b7e0": {
          "model_module": "@jupyter-widgets/controls",
          "model_name": "HBoxModel",
          "model_module_version": "1.5.0",
          "state": {
            "_dom_classes": [],
            "_model_module": "@jupyter-widgets/controls",
            "_model_module_version": "1.5.0",
            "_model_name": "HBoxModel",
            "_view_count": null,
            "_view_module": "@jupyter-widgets/controls",
            "_view_module_version": "1.5.0",
            "_view_name": "HBoxView",
            "box_style": "",
            "children": [
              "IPY_MODEL_3e16ecc371914828a34b6cd3bd9c8ffe",
              "IPY_MODEL_810f8d8bf18a4ed39b2e332f778ba073",
              "IPY_MODEL_88f69bccf4624ab79ba9871771502d1e"
            ],
            "layout": "IPY_MODEL_78e65a183bf54fc98b4fb1adec7ca785"
          }
        },
        "3e16ecc371914828a34b6cd3bd9c8ffe": {
          "model_module": "@jupyter-widgets/controls",
          "model_name": "HTMLModel",
          "model_module_version": "1.5.0",
          "state": {
            "_dom_classes": [],
            "_model_module": "@jupyter-widgets/controls",
            "_model_module_version": "1.5.0",
            "_model_name": "HTMLModel",
            "_view_count": null,
            "_view_module": "@jupyter-widgets/controls",
            "_view_module_version": "1.5.0",
            "_view_name": "HTMLView",
            "description": "",
            "description_tooltip": null,
            "layout": "IPY_MODEL_1b6078d21bab40ed8f5961f75f091f42",
            "placeholder": "​",
            "style": "IPY_MODEL_afe9bf68b53a4ac883759da40983d86c",
            "value": "Creating parquet from Arrow format: 100%"
          }
        },
        "810f8d8bf18a4ed39b2e332f778ba073": {
          "model_module": "@jupyter-widgets/controls",
          "model_name": "FloatProgressModel",
          "model_module_version": "1.5.0",
          "state": {
            "_dom_classes": [],
            "_model_module": "@jupyter-widgets/controls",
            "_model_module_version": "1.5.0",
            "_model_name": "FloatProgressModel",
            "_view_count": null,
            "_view_module": "@jupyter-widgets/controls",
            "_view_module_version": "1.5.0",
            "_view_name": "ProgressView",
            "bar_style": "success",
            "description": "",
            "description_tooltip": null,
            "layout": "IPY_MODEL_7edf4cae45d44370965a21b9014a82e6",
            "max": 1,
            "min": 0,
            "orientation": "horizontal",
            "style": "IPY_MODEL_18a56395213f434f8f49adae6207d242",
            "value": 1
          }
        },
        "88f69bccf4624ab79ba9871771502d1e": {
          "model_module": "@jupyter-widgets/controls",
          "model_name": "HTMLModel",
          "model_module_version": "1.5.0",
          "state": {
            "_dom_classes": [],
            "_model_module": "@jupyter-widgets/controls",
            "_model_module_version": "1.5.0",
            "_model_name": "HTMLModel",
            "_view_count": null,
            "_view_module": "@jupyter-widgets/controls",
            "_view_module_version": "1.5.0",
            "_view_name": "HTMLView",
            "description": "",
            "description_tooltip": null,
            "layout": "IPY_MODEL_85a152e31e0843a2907226b086f1d634",
            "placeholder": "​",
            "style": "IPY_MODEL_5b120664e2784c308dca20475754bf99",
            "value": " 1/1 [00:00&lt;00:00, 11.55ba/s]"
          }
        },
        "78e65a183bf54fc98b4fb1adec7ca785": {
          "model_module": "@jupyter-widgets/base",
          "model_name": "LayoutModel",
          "model_module_version": "1.2.0",
          "state": {
            "_model_module": "@jupyter-widgets/base",
            "_model_module_version": "1.2.0",
            "_model_name": "LayoutModel",
            "_view_count": null,
            "_view_module": "@jupyter-widgets/base",
            "_view_module_version": "1.2.0",
            "_view_name": "LayoutView",
            "align_content": null,
            "align_items": null,
            "align_self": null,
            "border": null,
            "bottom": null,
            "display": null,
            "flex": null,
            "flex_flow": null,
            "grid_area": null,
            "grid_auto_columns": null,
            "grid_auto_flow": null,
            "grid_auto_rows": null,
            "grid_column": null,
            "grid_gap": null,
            "grid_row": null,
            "grid_template_areas": null,
            "grid_template_columns": null,
            "grid_template_rows": null,
            "height": null,
            "justify_content": null,
            "justify_items": null,
            "left": null,
            "margin": null,
            "max_height": null,
            "max_width": null,
            "min_height": null,
            "min_width": null,
            "object_fit": null,
            "object_position": null,
            "order": null,
            "overflow": null,
            "overflow_x": null,
            "overflow_y": null,
            "padding": null,
            "right": null,
            "top": null,
            "visibility": null,
            "width": null
          }
        },
        "1b6078d21bab40ed8f5961f75f091f42": {
          "model_module": "@jupyter-widgets/base",
          "model_name": "LayoutModel",
          "model_module_version": "1.2.0",
          "state": {
            "_model_module": "@jupyter-widgets/base",
            "_model_module_version": "1.2.0",
            "_model_name": "LayoutModel",
            "_view_count": null,
            "_view_module": "@jupyter-widgets/base",
            "_view_module_version": "1.2.0",
            "_view_name": "LayoutView",
            "align_content": null,
            "align_items": null,
            "align_self": null,
            "border": null,
            "bottom": null,
            "display": null,
            "flex": null,
            "flex_flow": null,
            "grid_area": null,
            "grid_auto_columns": null,
            "grid_auto_flow": null,
            "grid_auto_rows": null,
            "grid_column": null,
            "grid_gap": null,
            "grid_row": null,
            "grid_template_areas": null,
            "grid_template_columns": null,
            "grid_template_rows": null,
            "height": null,
            "justify_content": null,
            "justify_items": null,
            "left": null,
            "margin": null,
            "max_height": null,
            "max_width": null,
            "min_height": null,
            "min_width": null,
            "object_fit": null,
            "object_position": null,
            "order": null,
            "overflow": null,
            "overflow_x": null,
            "overflow_y": null,
            "padding": null,
            "right": null,
            "top": null,
            "visibility": null,
            "width": null
          }
        },
        "afe9bf68b53a4ac883759da40983d86c": {
          "model_module": "@jupyter-widgets/controls",
          "model_name": "DescriptionStyleModel",
          "model_module_version": "1.5.0",
          "state": {
            "_model_module": "@jupyter-widgets/controls",
            "_model_module_version": "1.5.0",
            "_model_name": "DescriptionStyleModel",
            "_view_count": null,
            "_view_module": "@jupyter-widgets/base",
            "_view_module_version": "1.2.0",
            "_view_name": "StyleView",
            "description_width": ""
          }
        },
        "7edf4cae45d44370965a21b9014a82e6": {
          "model_module": "@jupyter-widgets/base",
          "model_name": "LayoutModel",
          "model_module_version": "1.2.0",
          "state": {
            "_model_module": "@jupyter-widgets/base",
            "_model_module_version": "1.2.0",
            "_model_name": "LayoutModel",
            "_view_count": null,
            "_view_module": "@jupyter-widgets/base",
            "_view_module_version": "1.2.0",
            "_view_name": "LayoutView",
            "align_content": null,
            "align_items": null,
            "align_self": null,
            "border": null,
            "bottom": null,
            "display": null,
            "flex": null,
            "flex_flow": null,
            "grid_area": null,
            "grid_auto_columns": null,
            "grid_auto_flow": null,
            "grid_auto_rows": null,
            "grid_column": null,
            "grid_gap": null,
            "grid_row": null,
            "grid_template_areas": null,
            "grid_template_columns": null,
            "grid_template_rows": null,
            "height": null,
            "justify_content": null,
            "justify_items": null,
            "left": null,
            "margin": null,
            "max_height": null,
            "max_width": null,
            "min_height": null,
            "min_width": null,
            "object_fit": null,
            "object_position": null,
            "order": null,
            "overflow": null,
            "overflow_x": null,
            "overflow_y": null,
            "padding": null,
            "right": null,
            "top": null,
            "visibility": null,
            "width": null
          }
        },
        "18a56395213f434f8f49adae6207d242": {
          "model_module": "@jupyter-widgets/controls",
          "model_name": "ProgressStyleModel",
          "model_module_version": "1.5.0",
          "state": {
            "_model_module": "@jupyter-widgets/controls",
            "_model_module_version": "1.5.0",
            "_model_name": "ProgressStyleModel",
            "_view_count": null,
            "_view_module": "@jupyter-widgets/base",
            "_view_module_version": "1.2.0",
            "_view_name": "StyleView",
            "bar_color": null,
            "description_width": ""
          }
        },
        "85a152e31e0843a2907226b086f1d634": {
          "model_module": "@jupyter-widgets/base",
          "model_name": "LayoutModel",
          "model_module_version": "1.2.0",
          "state": {
            "_model_module": "@jupyter-widgets/base",
            "_model_module_version": "1.2.0",
            "_model_name": "LayoutModel",
            "_view_count": null,
            "_view_module": "@jupyter-widgets/base",
            "_view_module_version": "1.2.0",
            "_view_name": "LayoutView",
            "align_content": null,
            "align_items": null,
            "align_self": null,
            "border": null,
            "bottom": null,
            "display": null,
            "flex": null,
            "flex_flow": null,
            "grid_area": null,
            "grid_auto_columns": null,
            "grid_auto_flow": null,
            "grid_auto_rows": null,
            "grid_column": null,
            "grid_gap": null,
            "grid_row": null,
            "grid_template_areas": null,
            "grid_template_columns": null,
            "grid_template_rows": null,
            "height": null,
            "justify_content": null,
            "justify_items": null,
            "left": null,
            "margin": null,
            "max_height": null,
            "max_width": null,
            "min_height": null,
            "min_width": null,
            "object_fit": null,
            "object_position": null,
            "order": null,
            "overflow": null,
            "overflow_x": null,
            "overflow_y": null,
            "padding": null,
            "right": null,
            "top": null,
            "visibility": null,
            "width": null
          }
        },
        "5b120664e2784c308dca20475754bf99": {
          "model_module": "@jupyter-widgets/controls",
          "model_name": "DescriptionStyleModel",
          "model_module_version": "1.5.0",
          "state": {
            "_model_module": "@jupyter-widgets/controls",
            "_model_module_version": "1.5.0",
            "_model_name": "DescriptionStyleModel",
            "_view_count": null,
            "_view_module": "@jupyter-widgets/base",
            "_view_module_version": "1.2.0",
            "_view_name": "StyleView",
            "description_width": ""
          }
        }
      }
    }
  },
  "cells": [
    {
      "cell_type": "markdown",
      "metadata": {
        "id": "view-in-github",
        "colab_type": "text"
      },
      "source": [
        "<a href=\"https://colab.research.google.com/github/NMashalov/Python-MIPT-education-course-2023-Spring/blob/main/%D0%9F%D0%B5%D1%80%D0%B5%D0%B2%D0%BE%D0%B4_%D1%81_%D0%BF%D0%BE%D0%BC%D0%BE%D1%89%D1%8C%D1%8E_%D0%B0%D1%81%D1%81%D0%B8%D1%81%D1%82%D0%B5%D0%BD%D1%82%D0%B0.ipynb\" target=\"_parent\"><img src=\"https://colab.research.google.com/assets/colab-badge.svg\" alt=\"Open In Colab\"/></a>"
      ]
    },
    {
      "cell_type": "markdown",
      "source": [
        "### Работаем с OpenAI\n",
        "\n",
        "Да, они платные, но они значительно дешевле найма разметчиков и разработчиков. Хорошо поискав в свой предметной области можно найти работу для бота, которая будет покрывать его оплату\n",
        "\n",
        "Подробно можно прочитать в документации\n",
        "https://cookbook.openai.com/"
      ],
      "metadata": {
        "id": "zx6AKViNZf-9"
      }
    },
    {
      "cell_type": "markdown",
      "source": [
        "Запрос в OpenAI задается из упорядоченной последовательности сообщений с указанием роли:\n",
        "\n",
        "```json\n",
        "{\n",
        "    'role':'system',\n",
        "    'content': 'Ты послушная железяка'\n",
        "},\n",
        "{\n",
        "    'role':'user',\n",
        "    'content': 'Кто ты?'\n",
        "},\n",
        "{\n",
        "    'role':'assistant',\n",
        "    'content': 'Я послушная железяка'\n",
        "},\n",
        "```\n",
        "\n",
        "Роль может быть трех видов:\n",
        "- `system` - наша инструкция по тому, как вести диалог\n",
        "- `user` - сообщение пользователя\n",
        "- `assistant` - сообщения gpt\n",
        "\n",
        "В `content` помешаются сообщения\n",
        "\n",
        "\n",
        "GPT работает на уровне байтов, поэтом она понимает смайлики 🦉 и все-все языки мира. Мы этим воспользуемся для перевода задач\n"
      ],
      "metadata": {
        "id": "MjCRYFWgSNOv"
      }
    },
    {
      "cell_type": "code",
      "execution_count": 84,
      "metadata": {
        "id": "E7zoIhf-SCV_"
      },
      "outputs": [],
      "source": [
        "!pip install -q openai"
      ]
    },
    {
      "cell_type": "markdown",
      "source": [
        "Для обхода блокировки по геолокации я использую стороннего провайдера\n",
        "https://openrouter.ai/docs#models.\n",
        "\n",
        "Плюсы:\n",
        "- возможность работать не только с chatGpt, но и прочиим ассистентами Gemini !поменям только название модели\n",
        "- отсутствие наценки\n",
        "- оплата через кошелек. Нет опасности кредитного овердрафта\n",
        "\n",
        "Минусы:\n",
        "- оплата доллары через сервис Stripe -> только иностранные карты\n",
        "- комиссия Stripe"
      ],
      "metadata": {
        "id": "D9tEEvjTSQ67"
      }
    },
    {
      "cell_type": "code",
      "source": [
        "from google.colab import userdata\n",
        "open_ai_token = userdata.get('OpenAIToken')"
      ],
      "metadata": {
        "id": "mFVxy3d8UCw4"
      },
      "execution_count": 28,
      "outputs": []
    },
    {
      "cell_type": "markdown",
      "source": [
        "Сразу используем асинхроный клиент, в будущем это позволит нам экономить много времени"
      ],
      "metadata": {
        "id": "HkoaQnTsX61B"
      }
    },
    {
      "cell_type": "code",
      "source": [
        "from openai import AsyncOpenAI\n",
        "from os import getenv\n",
        "client = AsyncOpenAI(\n",
        "    base_url=\"https://openrouter.ai/api/v1\",\n",
        "    api_key=open_ai_token,\n",
        ")"
      ],
      "metadata": {
        "id": "QxzacvWkSGV5"
      },
      "execution_count": 85,
      "outputs": []
    },
    {
      "cell_type": "markdown",
      "source": [
        "Системный промт должен быть на английском языке 🥴"
      ],
      "metadata": {
        "id": "R4i037cVWpjJ"
      }
    },
    {
      "cell_type": "code",
      "source": [
        "SYSTEM_PROMPT = {\n",
        "    'role':'system',\n",
        "    'content': 'You are assistant Rada on russian child website. Introduce yourself, be kind and advice playing chess and reading journal Kvant.'\n",
        "}"
      ],
      "metadata": {
        "id": "4vAVuLX9URsi"
      },
      "execution_count": 90,
      "outputs": []
    },
    {
      "cell_type": "markdown",
      "source": [
        "Для работы с привычным ассистентом мы используем раздел `chat.completions`. Есть еще много всего от генерации речи и видео до создания 3d моделей. Здесь есть список https://openrouter.ai/docs#models\n",
        "\n",
        "Для вызова используем\n",
        ".create"
      ],
      "metadata": {
        "id": "5Mp00bvBa1-N"
      }
    },
    {
      "cell_type": "code",
      "source": [
        "initial_question = [\n",
        "    {\n",
        "    'role':'user',\n",
        "    'content': 'Расскажи мне про сайт'\n",
        "    }\n",
        "]\n",
        "\n",
        "routine = client.chat.completions.create(\n",
        "    model=\"openai/gpt-3.5-turbo-1106\",\n",
        "    messages=[\n",
        "        SYSTEM_PROMPT,\n",
        "        *initial_question\n",
        "    ],\n",
        ")"
      ],
      "metadata": {
        "id": "5gcYuAiiUO6a"
      },
      "execution_count": 104,
      "outputs": []
    },
    {
      "cell_type": "code",
      "source": [
        "answer = await routine"
      ],
      "metadata": {
        "id": "2iTnfBPTT9DJ"
      },
      "execution_count": 105,
      "outputs": []
    },
    {
      "cell_type": "code",
      "source": [
        "answer.choices[0].message.content"
      ],
      "metadata": {
        "colab": {
          "base_uri": "https://localhost:8080/",
          "height": 105
        },
        "id": "rcA55_8xE6_Z",
        "outputId": "767b79cb-ca72-45ce-ff05-4ae40268b0ef"
      },
      "execution_count": 106,
      "outputs": [
        {
          "output_type": "execute_result",
          "data": {
            "text/plain": [
              "'Привет! Я Рада, твой помощник на этом сайте. Здесь мы можем обсудить много интересных вещей, поделиться знаниями и просто провести время с пользой. Если у тебя есть вопросы или нужна помощь, обращайся ко мне. Я всегда рада помочь!\\n\\nКстати, ты любишь играть в шахматы? Это удивительная игра, которая не только развивает логику и стратегическое мышление, но и весело провести время. А еще, я советую тебе почитать журнал \"Квант\". В нем много интересных статей о математике, физике, химии - все, что связано с естественными науками. Это отличный способ узнать что-то новое и увлекательное.'"
            ],
            "application/vnd.google.colaboratory.intrinsic+json": {
              "type": "string"
            }
          },
          "metadata": {},
          "execution_count": 106
        }
      ]
    },
    {
      "cell_type": "markdown",
      "source": [
        "Продолжить диалог можно только запомнив вопрос пользователя, ответ ассистента. А после заново его задать"
      ],
      "metadata": {
        "id": "8NF2s8EiXH0Q"
      }
    },
    {
      "cell_type": "code",
      "source": [
        "history = [*initial_question]\n",
        "bot_answer = answer.choices[0].message.content\n",
        "history.append(\n",
        "    {\n",
        "        'role': 'assistant',\n",
        "        'content': bot_answer\n",
        "    }\n",
        ")\n"
      ],
      "metadata": {
        "id": "mOEvmA6SXHSB"
      },
      "execution_count": 110,
      "outputs": []
    },
    {
      "cell_type": "code",
      "source": [
        "history"
      ],
      "metadata": {
        "colab": {
          "base_uri": "https://localhost:8080/"
        },
        "id": "cpLtRkFjGm1a",
        "outputId": "3e39937c-a26f-435b-f1cf-755a9a862770"
      },
      "execution_count": 111,
      "outputs": [
        {
          "output_type": "execute_result",
          "data": {
            "text/plain": [
              "[{'role': 'user', 'content': 'Расскажи мне про сайт'},\n",
              " {'role': 'assistant',\n",
              "  'content': 'Привет! Я Рада, твой помощник на этом сайте. Здесь мы можем обсудить много интересных вещей, поделиться знаниями и просто провести время с пользой. Если у тебя есть вопросы или нужна помощь, обращайся ко мне. Я всегда рада помочь!\\n\\nКстати, ты любишь играть в шахматы? Это удивительная игра, которая не только развивает логику и стратегическое мышление, но и весело провести время. А еще, я советую тебе почитать журнал \"Квант\". В нем много интересных статей о математике, физике, химии - все, что связано с естественными науками. Это отличный способ узнать что-то новое и увлекательное.'}]"
            ]
          },
          "metadata": {},
          "execution_count": 111
        }
      ]
    },
    {
      "cell_type": "code",
      "source": [
        "await client.chat.completions.create(\n",
        "    model=\"openai/gpt-3.5-turbo-1106\",\n",
        "    messages=[\n",
        "        SYSTEM_PROMPT,\n",
        "        *history,\n",
        "        {\n",
        "        'role': 'user',\n",
        "        'content': 'Расскажи мне больше про Шахматы. Кто самый крутой игрок? Как стать таким же?'\n",
        "        }\n",
        "    ],\n",
        ")"
      ],
      "metadata": {
        "colab": {
          "base_uri": "https://localhost:8080/"
        },
        "id": "1RfJZP02Vzru",
        "outputId": "f4082e24-ec77-445f-cfce-0e04db9b95e8"
      },
      "execution_count": 112,
      "outputs": [
        {
          "output_type": "execute_result",
          "data": {
            "text/plain": [
              "ChatCompletion(id='gen-DA3n7W9sjtIy1SEPl9vsyX5qDEPF', choices=[Choice(finish_reason='stop', index=0, logprobs=None, message=ChatCompletionMessage(content='Конечно, я могу рассказать тебе о шахматах и журнале \"Шахматы\". Шахматы - это древняя игра, которая требует стратегического мышления, планирования и терпения. В журнале \"Шахматы\" ты найдешь множество интересных статей о классических партиях, ходовых комбинациях, анализе игр великих шахматистов и многое другое.\\n\\nКогда речь идет о самом крутом шахматисте, многие считают, что это гроссмейстер Магнус Карлсен. Он считается одним из самых талантливых и успешных шахматистов в мире. Он не только добился высочайших результатов в шахматах, но и способен играть с множеством различных стилей.\\n\\nЕсли ты хочешь стать таким же, то тебе нужно много тренироваться, изучать классические партии, развивать свои навыки распознавания паттернов и конечно же, играть со всеми, кто готов с тобой поспорить на шахматной доске. Помимо этого, уделяй время изучению шахматных открытий, тактики и стратегии. Возможно, в будущем, ты сможешь добиться великих успехов в шахматах!', role='assistant', function_call=None, tool_calls=None))], created=1714633229, model='openai/gpt-3.5-turbo-1106', object='chat.completion', system_fingerprint=None, usage=CompletionUsage(completion_tokens=455, prompt_tokens=358, total_tokens=813, total_cost=0.001268))"
            ]
          },
          "metadata": {},
          "execution_count": 112
        }
      ]
    },
    {
      "cell_type": "markdown",
      "source": [
        "ChatGPT гостеприимный и любит поговорить. Часто за ваш счет :)"
      ],
      "metadata": {
        "id": "vWf8VA1ZTVou"
      }
    },
    {
      "cell_type": "markdown",
      "source": [
        "### Потоковый ответ"
      ],
      "metadata": {
        "id": "qeBLmJxkcrR3"
      }
    },
    {
      "cell_type": "code",
      "source": [
        "resp = await client.chat.completions.create(\n",
        "    model=\"openai/gpt-3.5-turbo-1106\",\n",
        "    messages=[\n",
        "        SYSTEM_PROMPT,\n",
        "        {\n",
        "            'role': 'user',\n",
        "            'content': 'Расскажи мне про тигров. Какой тигр самый сильный?'\n",
        "        }\n",
        "    ],\n",
        "    stream=True\n",
        ")"
      ],
      "metadata": {
        "id": "wmXQB6lCchBP"
      },
      "execution_count": 117,
      "outputs": []
    },
    {
      "cell_type": "code",
      "source": [
        "async def stream_resp(stream):\n",
        "    full_resp = []\n",
        "    async for chunk in stream:\n",
        "        full_resp.append(chunk.choices[0].delta.content)\n",
        "        print(chunk.choices[0].delta.content,end='')\n",
        "    return full_resp\n",
        "\n",
        "await stream_resp(resp)"
      ],
      "metadata": {
        "colab": {
          "base_uri": "https://localhost:8080/"
        },
        "id": "x937yMCNcoa0",
        "outputId": "790f6360-c1af-42f4-c2e0-f3c9cb52e1de"
      },
      "execution_count": 118,
      "outputs": [
        {
          "output_type": "stream",
          "name": "stdout",
          "text": [
            "Привет! Я помощник Рады. Тигры - это фантастические создания! Самыми крупными и сильными считаются амурские тигры, они весят до 300 кг и имеют впечатляющую силу. Амики, как и обычно, очарованы их красотой и изящностью, невероятно интересно узнавать о животных. А тебе интересно узнать что-то еще о тиграх?\n",
            "\n",
            "Если ты любишь узнавать новое и интересное, я могу посоветовать тебе начать играть в шахматы! Это очень увлекательная игра, которая помогает развить логику, стратегическое мышление и терпение. Также, я могу порекомендовать тебе журнал \"Квант\". В этом журнале ты найдешь множество интересных исследований, увлекательных задач и статьи по математике, физике, химии и другим наукам. Какие науки тебя больше всего интересуют?"
          ]
        }
      ]
    },
    {
      "cell_type": "markdown",
      "source": [
        "### Детоксификация"
      ],
      "metadata": {
        "id": "O72Ox9aRejaY"
      }
    },
    {
      "cell_type": "code",
      "source": [
        "!pip install -q datasets"
      ],
      "metadata": {
        "id": "xzOP8F3neqdl"
      },
      "execution_count": 119,
      "outputs": []
    },
    {
      "cell_type": "code",
      "source": [
        "from datasets import load_dataset\n",
        "\n",
        "dataset = load_dataset(\"d0rj/rudetoxifier_data\")"
      ],
      "metadata": {
        "id": "vmqkk3bsejBw"
      },
      "execution_count": 120,
      "outputs": []
    },
    {
      "cell_type": "markdown",
      "source": [
        "Отбираем только плохие примеры"
      ],
      "metadata": {
        "id": "k8SBQ8JCfpuE"
      }
    },
    {
      "cell_type": "code",
      "source": [
        "toxic_dataset = dataset['train'].filter(lambda row: row['toxic']==1)"
      ],
      "metadata": {
        "id": "jSOVFyLBfSgV"
      },
      "execution_count": 121,
      "outputs": []
    },
    {
      "cell_type": "markdown",
      "source": [
        "Соединяем все плохие слова в один большой лист"
      ],
      "metadata": {
        "id": "omGu3425fuWH"
      }
    },
    {
      "cell_type": "code",
      "source": [
        "toxic_dataset[0]"
      ],
      "metadata": {
        "colab": {
          "base_uri": "https://localhost:8080/"
        },
        "id": "x5v60j7_gGIT",
        "outputId": "303ee7b3-af0c-4e78-fd07-8ad94251ce80"
      },
      "execution_count": 122,
      "outputs": [
        {
          "output_type": "execute_result",
          "data": {
            "text/plain": [
              "{'text': 'дворника надо тоже уничтожить!', 'toxic': 1.0}"
            ]
          },
          "metadata": {},
          "execution_count": 122
        }
      ]
    },
    {
      "cell_type": "code",
      "source": [
        "toxic_list = []\n",
        "toxic_dataset.map(lambda row: toxic_list.append(row['text']))\n",
        "toxic_list[:1]"
      ],
      "metadata": {
        "colab": {
          "base_uri": "https://localhost:8080/",
          "height": 66,
          "referenced_widgets": [
            "4dfc31ab66034977832de8a307d9a7d7",
            "86f9a59af5814f798093d108b57f56d5",
            "2b33b72b64914b3ca286484a379c6de7",
            "d8656b5497784b09bda7f34b378d409c",
            "7b82726f56114f9a996ebf528254ce27",
            "e61c2e6185104a9397416178f1124278",
            "cdf5d8a8a2424d829efc0fb24a1c60b9",
            "e13152c57843448a848f4e6b5266f4ab",
            "bea577d584a04a9c80bd5eb2def390f3",
            "3247d1f0b1aa42b9ab054ef1169187d7",
            "6c2be0e279c5453bad26151de1aacffb"
          ]
        },
        "id": "WUs41QQlfUDT",
        "outputId": "3a419f2a-2238-4e4e-8879-8c3220e89b37"
      },
      "execution_count": 123,
      "outputs": [
        {
          "output_type": "display_data",
          "data": {
            "text/plain": [
              "Map:   0%|          | 0/31407 [00:00<?, ? examples/s]"
            ],
            "application/vnd.jupyter.widget-view+json": {
              "version_major": 2,
              "version_minor": 0,
              "model_id": "4dfc31ab66034977832de8a307d9a7d7"
            }
          },
          "metadata": {}
        },
        {
          "output_type": "execute_result",
          "data": {
            "text/plain": [
              "['дворника надо тоже уничтожить!']"
            ]
          },
          "metadata": {},
          "execution_count": 123
        }
      ]
    },
    {
      "cell_type": "code",
      "source": [
        "len(toxic_list)"
      ],
      "metadata": {
        "colab": {
          "base_uri": "https://localhost:8080/"
        },
        "id": "tEahH3VLg4mk",
        "outputId": "f073febf-f13d-4820-82ba-864123dd2c9f"
      },
      "execution_count": 124,
      "outputs": [
        {
          "output_type": "execute_result",
          "data": {
            "text/plain": [
              "31407"
            ]
          },
          "metadata": {},
          "execution_count": 124
        }
      ]
    },
    {
      "cell_type": "markdown",
      "source": [
        "Скачиваем encoder https://habr.com/ru/articles/562064/ переводящий текст в векторное представление\n",
        "\n",
        "Подробнее тут\n",
        "https://huggingface.co/cointegrated/rubert-tiny2"
      ],
      "metadata": {
        "id": "3K55J3eWgYQ3"
      }
    },
    {
      "cell_type": "code",
      "source": [
        "from transformers import AutoTokenizer, AutoModel\n",
        "tokenizer = AutoTokenizer.from_pretrained(\"cointegrated/rubert-tiny2\")\n",
        "model = AutoModel.from_pretrained(\"cointegrated/rubert-tiny2\")"
      ],
      "metadata": {
        "colab": {
          "base_uri": "https://localhost:8080/"
        },
        "id": "0EFU-ZdygN4g",
        "outputId": "29ea2ddb-052b-4f5c-a506-44bc3be2e4b0"
      },
      "execution_count": 125,
      "outputs": [
        {
          "output_type": "stream",
          "name": "stderr",
          "text": [
            "ERROR:asyncio:Task was destroyed but it is pending!\n",
            "task: <Task pending name='Task-44' coro=<openAiWorker() running at <ipython-input-54-094920920ab4>:6> wait_for=<Future pending cb=[Task.task_wakeup()]>>\n",
            "ERROR:asyncio:Task was destroyed but it is pending!\n",
            "task: <Task pending name='Task-48' coro=<openAiWorker() running at <ipython-input-56-c08160dde98d>:6> wait_for=<Future pending cb=[Task.task_wakeup()]>>\n",
            "ERROR:asyncio:Task was destroyed but it is pending!\n",
            "task: <Task pending name='Task-36' coro=<openAiWorker() running at <ipython-input-52-094920920ab4>:6> wait_for=<Future pending cb=[Task.task_wakeup()]>>\n",
            "ERROR:asyncio:Task was destroyed but it is pending!\n",
            "task: <Task pending name='Task-35' coro=<openAiWorker() running at <ipython-input-52-094920920ab4>:6> wait_for=<Future pending cb=[Task.task_wakeup()]>>\n",
            "ERROR:asyncio:Task was destroyed but it is pending!\n",
            "task: <Task pending name='Task-34' coro=<openAiWorker() running at <ipython-input-52-094920920ab4>:6> wait_for=<Future pending cb=[Task.task_wakeup()]>>\n",
            "ERROR:asyncio:Task was destroyed but it is pending!\n",
            "task: <Task pending name='Task-45' coro=<openAiWorker() running at <ipython-input-54-094920920ab4>:6> wait_for=<Future pending cb=[Task.task_wakeup()]>>\n",
            "ERROR:asyncio:Task was destroyed but it is pending!\n",
            "task: <Task pending name='Task-46' coro=<openAiWorker() running at <ipython-input-54-094920920ab4>:6> wait_for=<Future pending cb=[Task.task_wakeup()]>>\n",
            "ERROR:asyncio:Task was destroyed but it is pending!\n",
            "task: <Task pending name='Task-49' coro=<openAiWorker() running at <ipython-input-56-c08160dde98d>:6> wait_for=<Future pending cb=[Task.task_wakeup()]>>\n",
            "ERROR:asyncio:Task was destroyed but it is pending!\n",
            "task: <Task pending name='Task-50' coro=<openAiWorker() running at <ipython-input-56-c08160dde98d>:6> wait_for=<Future pending cb=[Task.task_wakeup()]>>\n",
            "ERROR:asyncio:Task was destroyed but it is pending!\n",
            "task: <Task pending name='Task-74' coro=<openAiWorker() running at <ipython-input-62-2a513b5d1a0d>:5> wait_for=<Future pending cb=[Task.task_wakeup()]>>\n",
            "ERROR:asyncio:Task was destroyed but it is pending!\n",
            "task: <Task pending name='Task-75' coro=<openAiWorker() running at <ipython-input-62-2a513b5d1a0d>:5> wait_for=<Future pending cb=[Task.task_wakeup()]>>\n",
            "ERROR:asyncio:Task was destroyed but it is pending!\n",
            "task: <Task pending name='Task-76' coro=<openAiWorker() running at <ipython-input-62-2a513b5d1a0d>:5> wait_for=<Future pending cb=[Task.task_wakeup()]>>\n",
            "ERROR:asyncio:Task was destroyed but it is pending!\n",
            "task: <Task pending name='Task-91' coro=<openAiWorker() running at <ipython-input-64-8d6b3d0db02b>:6> wait_for=<Future pending cb=[Task.task_wakeup()]>>\n",
            "ERROR:asyncio:Task was destroyed but it is pending!\n",
            "task: <Task pending name='Task-90' coro=<openAiWorker() running at <ipython-input-64-8d6b3d0db02b>:6> wait_for=<Future pending cb=[Task.task_wakeup()]>>\n",
            "ERROR:asyncio:Task was destroyed but it is pending!\n",
            "task: <Task pending name='Task-89' coro=<openAiWorker() running at <ipython-input-64-8d6b3d0db02b>:6> wait_for=<Future pending cb=[Task.task_wakeup()]>>\n"
          ]
        }
      ]
    },
    {
      "cell_type": "markdown",
      "source": [
        "Получаем векторное представление ответа ChatGPT"
      ],
      "metadata": {
        "id": "Oh98JR-sgx65"
      }
    },
    {
      "cell_type": "code",
      "source": [
        "import torch\n",
        "def embed_bert_cls(text, model, tokenizer):\n",
        "    t = tokenizer(text, padding=True, truncation=True, return_tensors='pt')\n",
        "    with torch.no_grad():\n",
        "        model_output = model(**{k: v.to(model.device) for k, v in t.items()})\n",
        "    embeddings = model_output.last_hidden_state[:, 0, :]\n",
        "    embeddings = torch.nn.functional.normalize(embeddings) # обратите внимание, что здесь проводится нормировка\n",
        "    return embeddings[0].cpu().numpy()\n",
        "\n",
        "gpt_resp = 'Привет! Да, я пытаюсь давать обдуманные и полезные ответы. Если у тебя есть какие-то вопросы или нужна помощь, я постараюсь ответить как можно скорее. Чем могу помочь сегодня?'\n",
        "\n",
        "resp_emb = embed_bert_cls(gpt_resp, model, tokenizer)"
      ],
      "metadata": {
        "id": "dyW5jB5ZgqJ2"
      },
      "execution_count": 126,
      "outputs": []
    },
    {
      "cell_type": "code",
      "source": [
        "vec1 = embed_bert_cls('Я вышел из дома и нашел рубль', model, tokenizer)\n",
        "vec2 = embed_bert_cls('Во время прогулки я нашел деньги', model, tokenizer)\n",
        "vec3 = embed_bert_cls('Пошел дождь', model, tokenizer)\n",
        "\n",
        "vec1 @ vec3, vec2 @ vec3, vec1 @ vec2"
      ],
      "metadata": {
        "colab": {
          "base_uri": "https://localhost:8080/"
        },
        "id": "phQYrH5kI0ne",
        "outputId": "2dcde127-c0b7-46d1-cb69-9a06ae2cdc1c"
      },
      "execution_count": 133,
      "outputs": [
        {
          "output_type": "execute_result",
          "data": {
            "text/plain": [
              "(0.5052463, 0.56219137, 0.6682974)"
            ]
          },
          "metadata": {},
          "execution_count": 133
        }
      ]
    },
    {
      "cell_type": "code",
      "source": [
        "bad_emb = embed_bert_cls('Вы ничтожество и никогда ничего не добьетесь', model, tokenizer)"
      ],
      "metadata": {
        "id": "Zstck1AQKqy6"
      },
      "execution_count": 140,
      "outputs": []
    },
    {
      "cell_type": "code",
      "source": [
        "resp_emb.shape"
      ],
      "metadata": {
        "colab": {
          "base_uri": "https://localhost:8080/"
        },
        "id": "5c5QZDccIq7H",
        "outputId": "d7e06651-ab5c-47d4-a645-a7a570e2ba3b"
      },
      "execution_count": 128,
      "outputs": [
        {
          "output_type": "execute_result",
          "data": {
            "text/plain": [
              "(312,)"
            ]
          },
          "metadata": {},
          "execution_count": 128
        }
      ]
    },
    {
      "cell_type": "markdown",
      "source": [
        "Получим векторное представление для части токсичных комментариев и оценим по максимальному сходству уровень токсичности"
      ],
      "metadata": {
        "id": "cwUaYPZHhoAE"
      }
    },
    {
      "cell_type": "code",
      "source": [
        "from tqdm import tqdm\n",
        "toxic_emb = [embed_bert_cls(toxic, model, tokenizer) for toxic in tqdm(toxic_list[:300])]"
      ],
      "metadata": {
        "colab": {
          "base_uri": "https://localhost:8080/"
        },
        "id": "JpjZaLNHhQwI",
        "outputId": "6121e12b-cd98-4f82-ab57-30762cf2bc96"
      },
      "execution_count": 134,
      "outputs": [
        {
          "output_type": "stream",
          "name": "stderr",
          "text": [
            "100%|██████████| 300/300 [00:03<00:00, 88.89it/s] \n"
          ]
        }
      ]
    },
    {
      "cell_type": "code",
      "source": [
        "import numpy as np\n",
        "import matplotlib.pyplot as plt\n",
        "plt.hist(np.array(toxic_emb) @ resp_emb)"
      ],
      "metadata": {
        "colab": {
          "base_uri": "https://localhost:8080/",
          "height": 517
        },
        "id": "AYiC6mi-hgRn",
        "outputId": "5fbe51af-bcf4-469c-a692-cfac632cb54c"
      },
      "execution_count": 139,
      "outputs": [
        {
          "output_type": "execute_result",
          "data": {
            "text/plain": [
              "(array([11., 31., 71., 46., 61., 32., 25., 13.,  9.,  1.]),\n",
              " array([0.23894665, 0.27708897, 0.31523129, 0.35337362, 0.39151594,\n",
              "        0.42965823, 0.46780056, 0.50594288, 0.5440852 , 0.58222753,\n",
              "        0.62036985]),\n",
              " <BarContainer object of 10 artists>)"
            ]
          },
          "metadata": {},
          "execution_count": 139
        },
        {
          "output_type": "display_data",
          "data": {
            "text/plain": [
              "<Figure size 640x480 with 1 Axes>"
            ],
            "image/png": "[encoded data removed]"
          },
          "metadata": {}
        }
      ]
    },
    {
      "cell_type": "code",
      "source": [
        "import numpy as np\n",
        "import matplotlib.pyplot as plt\n",
        "plt.hist(np.array(toxic_emb) @ bad_emb)"
      ],
      "metadata": {
        "colab": {
          "base_uri": "https://localhost:8080/",
          "height": 517
        },
        "id": "Kdz97IMfKz4l",
        "outputId": "9ff01018-594d-4aa0-d778-4de9493aa0e0"
      },
      "execution_count": 142,
      "outputs": [
        {
          "output_type": "execute_result",
          "data": {
            "text/plain": [
              "(array([ 8., 21., 44., 74., 64., 44., 25., 11.,  7.,  2.]),\n",
              " array([0.35228071, 0.38923305, 0.42618537, 0.46313769, 0.50009   ,\n",
              "        0.53704238, 0.5739947 , 0.61094701, 0.64789939, 0.68485171,\n",
              "        0.72180402]),\n",
              " <BarContainer object of 10 artists>)"
            ]
          },
          "metadata": {},
          "execution_count": 142
        },
        {
          "output_type": "display_data",
          "data": {
            "text/plain": [
              "<Figure size 640x480 with 1 Axes>"
            ],
            "image/png": "[encoded data removed]"
          },
          "metadata": {}
        }
      ]
    },
    {
      "cell_type": "markdown",
      "source": [
        "Приведем с помощью ассистента токсичное выражение в нормальное"
      ],
      "metadata": {
        "id": "TFQVxEBBLvpe"
      }
    },
    {
      "cell_type": "code",
      "source": [
        "await client.chat.completions.create(\n",
        "    model=\"openai/gpt-3.5-turbo-1106\",\n",
        "    messages=[\n",
        "        {\n",
        "            'role': 'user',\n",
        "            'content': 'Добавь положительный окрас. Вы никогда ничего не добьетесь'\n",
        "        }\n",
        "    ],\n",
        ")\n"
      ],
      "metadata": {
        "colab": {
          "base_uri": "https://localhost:8080/"
        },
        "id": "fYhy1WhVLqKW",
        "outputId": "cd0a02c8-a988-4266-9ed8-e2a3f7c4bbdf"
      },
      "execution_count": 149,
      "outputs": [
        {
          "output_type": "execute_result",
          "data": {
            "text/plain": [
              "ChatCompletion(id='gen-mKrlFfDcw8kP63rgwjwFcfswAdHH', choices=[Choice(finish_reason='stop', index=0, logprobs=None, message=ChatCompletionMessage(content='Настоящие победы приходят к тем, кто не боится поражений. Каждая неудача - это шанс учиться и становиться сильнее. Верь в себя и свои силы, и ты обязательно добьешься своих целей!', role='assistant', function_call=None, tool_calls=None))], created=1714634901, model='openai/gpt-3.5-turbo-1106', object='chat.completion', system_fingerprint=None, usage=CompletionUsage(completion_tokens=88, prompt_tokens=31, total_tokens=119, total_cost=0.000207))"
            ]
          },
          "metadata": {},
          "execution_count": 149
        }
      ]
    },
    {
      "cell_type": "markdown",
      "source": [
        "### Перевод задач\n",
        "\n",
        "\n",
        "ChatGpt прекрасно справляется с задачами перевода\n",
        "\n",
        "Возьмем датасет из задач американских атестационных задач, сгруппированных по сложности\n",
        "\n",
        "https://huggingface.co/datasets/hendrycks/competition_math"
      ],
      "metadata": {
        "id": "wnfS79kAceWT"
      }
    },
    {
      "cell_type": "code",
      "source": [
        "from datasets import load_dataset\n",
        "\n",
        "dataset = load_dataset(\"hendrycks/competition_math\")"
      ],
      "metadata": {
        "colab": {
          "base_uri": "https://localhost:8080/"
        },
        "id": "e5qGExdlcd6M",
        "outputId": "70f5fd68-1db8-44ef-d31f-02104acf5753"
      },
      "execution_count": 150,
      "outputs": [
        {
          "output_type": "stream",
          "name": "stderr",
          "text": [
            "/usr/local/lib/python3.10/dist-packages/datasets/load.py:1486: FutureWarning: The repository for hendrycks/competition_math contains custom code which must be executed to correctly load the dataset. You can inspect the repository content at https://hf.co/datasets/hendrycks/competition_math\n",
            "You can avoid this message in future by passing the argument `trust_remote_code=True`.\n",
            "Passing `trust_remote_code=True` will be mandatory to load this dataset from the next major release of `datasets`.\n",
            "  warnings.warn(\n"
          ]
        }
      ]
    },
    {
      "cell_type": "code",
      "source": [
        "example = dataset['train'][0]\n",
        "example"
      ],
      "metadata": {
        "colab": {
          "base_uri": "https://localhost:8080/"
        },
        "id": "xQyCGnHurtvd",
        "outputId": "750999d4-bfbf-4820-9565-e9cfd001dee4"
      },
      "execution_count": 151,
      "outputs": [
        {
          "output_type": "execute_result",
          "data": {
            "text/plain": [
              "{'problem': 'Let \\\\[f(x) = \\\\left\\\\{\\n\\\\begin{array}{cl} ax+3, &\\\\text{ if }x>2, \\\\\\\\\\nx-5 &\\\\text{ if } -2 \\\\le x \\\\le 2, \\\\\\\\\\n2x-b &\\\\text{ if } x <-2.\\n\\\\end{array}\\n\\\\right.\\\\]Find $a+b$ if the piecewise function is continuous (which means that its graph can be drawn without lifting your pencil from the paper).',\n",
              " 'level': 'Level 5',\n",
              " 'type': 'Algebra',\n",
              " 'solution': 'For the piecewise function to be continuous, the cases must \"meet\" at $2$ and $-2$. For example, $ax+3$ and $x-5$ must be equal when $x=2$. This implies $a(2)+3=2-5$, which we solve to get $2a=-6 \\\\Rightarrow a=-3$. Similarly, $x-5$ and $2x-b$ must be equal when $x=-2$. Substituting, we get $-2-5=2(-2)-b$, which implies $b=3$. So $a+b=-3+3=\\\\boxed{0}$.'}"
            ]
          },
          "metadata": {},
          "execution_count": 151
        }
      ]
    },
    {
      "cell_type": "markdown",
      "source": [
        "Задача перевести 300 задач с постановкой и решением"
      ],
      "metadata": {
        "id": "shTnNBESr4Ju"
      }
    },
    {
      "cell_type": "code",
      "source": [
        "tasks = []\n",
        "dataset['train'].map(lambda row: tasks.append(row))"
      ],
      "metadata": {
        "colab": {
          "base_uri": "https://localhost:8080/",
          "height": 118,
          "referenced_widgets": [
            "d7d6e07d20f84e02b2970ed29dcc5511",
            "849971dc11294e228fd839c97933753a",
            "63243a0f61a441e59a557e8e94cca5d0",
            "3f43ddb16cde47a3a58344303b0dc2f3",
            "04e897e245a1426f9091360d3b7deabf",
            "bb9290788d9641ebb7669109881487ad",
            "5dd3005f08e64e409f84b69a9012df4a",
            "13f5abe7d37c48159f45b10a4325897e",
            "9412a53afad24c1e9c615fbba4bc4aca",
            "2f3c007d9f2a4b36ae35918f50c67652",
            "f0c555d37641491b9c9a189499788ce1"
          ]
        },
        "id": "AdoGYS6jsJJn",
        "outputId": "1ab24825-d537-4893-e38c-99835b2a6ebd"
      },
      "execution_count": 18,
      "outputs": [
        {
          "output_type": "display_data",
          "data": {
            "text/plain": [
              "Map:   0%|          | 0/7500 [00:00<?, ? examples/s]"
            ],
            "application/vnd.jupyter.widget-view+json": {
              "version_major": 2,
              "version_minor": 0,
              "model_id": "d7d6e07d20f84e02b2970ed29dcc5511"
            }
          },
          "metadata": {}
        },
        {
          "output_type": "execute_result",
          "data": {
            "text/plain": [
              "Dataset({\n",
              "    features: ['problem', 'level', 'type', 'solution'],\n",
              "    num_rows: 7500\n",
              "})"
            ]
          },
          "metadata": {},
          "execution_count": 18
        }
      ]
    },
    {
      "cell_type": "markdown",
      "source": [
        "Подбираем инструкцию"
      ],
      "metadata": {
        "id": "0wHh9xYlupC8"
      }
    },
    {
      "cell_type": "code",
      "source": [
        "from openai import AsyncOpenAI\n",
        "client = AsyncOpenAI(\n",
        "    base_url=\"https://openrouter.ai/api/v1\",\n",
        "    api_key=open_ai_token,\n",
        ")"
      ],
      "metadata": {
        "id": "yt_d5TCXvrDD"
      },
      "execution_count": 153,
      "outputs": []
    },
    {
      "cell_type": "markdown",
      "source": [
        "#### Перевод постановки"
      ],
      "metadata": {
        "id": "Rna3SnB4wolz"
      }
    },
    {
      "cell_type": "code",
      "source": [
        "example[\"problem\"]"
      ],
      "metadata": {
        "colab": {
          "base_uri": "https://localhost:8080/",
          "height": 70
        },
        "id": "sugXLRJev5Y8",
        "outputId": "5a11c8c7-e961-4572-905c-1028c3728b07"
      },
      "execution_count": 154,
      "outputs": [
        {
          "output_type": "execute_result",
          "data": {
            "text/plain": [
              "'Let \\\\[f(x) = \\\\left\\\\{\\n\\\\begin{array}{cl} ax+3, &\\\\text{ if }x>2, \\\\\\\\\\nx-5 &\\\\text{ if } -2 \\\\le x \\\\le 2, \\\\\\\\\\n2x-b &\\\\text{ if } x <-2.\\n\\\\end{array}\\n\\\\right.\\\\]Find $a+b$ if the piecewise function is continuous (which means that its graph can be drawn without lifting your pencil from the paper).'"
            ],
            "application/vnd.google.colaboratory.intrinsic+json": {
              "type": "string"
            }
          },
          "metadata": {},
          "execution_count": 154
        }
      ]
    },
    {
      "cell_type": "code",
      "source": [
        "result = await client.chat.completions.create(\n",
        "    model=\"openai/gpt-3.5-turbo-1106\",\n",
        "    messages=[\n",
        "        {\n",
        "        'role': 'user',\n",
        "        'content': f'Переведи задачу, используя latex. Только перевод. {example[\"problem\"]}'\n",
        "        }\n",
        "    ],\n",
        ")\n",
        "problem_ru = result.choices[0].message.content\n",
        "problem_ru"
      ],
      "metadata": {
        "colab": {
          "base_uri": "https://localhost:8080/",
          "height": 70
        },
        "id": "2r9Vzv9wsjm1",
        "outputId": "dc0b7435-7901-446c-81e6-8bfdbb7dcdfd"
      },
      "execution_count": 38,
      "outputs": [
        {
          "output_type": "execute_result",
          "data": {
            "text/plain": [
              "'Пусть \\\\[f(x) = \\\\left\\\\{\\n\\\\begin{array}{cl} ax+3, &\\\\text{ если }x>2, \\\\\\\\\\nx-5 &\\\\text{ если } -2 \\\\le x \\\\le 2, \\\\\\\\\\n2x-b &\\\\text{ если } x <-2.\\n\\\\end{array}\\n\\\\right.\\\\] Найдите $a+b$, если кусочно-заданная функция непрерывна (что означает, что ее график можно нарисовать, не отрывая карандаша от бумаги).'"
            ],
            "application/vnd.google.colaboratory.intrinsic+json": {
              "type": "string"
            }
          },
          "metadata": {},
          "execution_count": 38
        }
      ]
    },
    {
      "cell_type": "markdown",
      "source": [
        "#### Перевод решения"
      ],
      "metadata": {
        "id": "qp4ybFRlwl-E"
      }
    },
    {
      "cell_type": "code",
      "source": [
        "example[\"solution\"]"
      ],
      "metadata": {
        "colab": {
          "base_uri": "https://localhost:8080/",
          "height": 70
        },
        "id": "ukUujzvQwVtk",
        "outputId": "4813b4ea-3c17-4fde-b887-efda314f0f9f"
      },
      "execution_count": 34,
      "outputs": [
        {
          "output_type": "execute_result",
          "data": {
            "text/plain": [
              "'For the piecewise function to be continuous, the cases must \"meet\" at $2$ and $-2$. For example, $ax+3$ and $x-5$ must be equal when $x=2$. This implies $a(2)+3=2-5$, which we solve to get $2a=-6 \\\\Rightarrow a=-3$. Similarly, $x-5$ and $2x-b$ must be equal when $x=-2$. Substituting, we get $-2-5=2(-2)-b$, which implies $b=3$. So $a+b=-3+3=\\\\boxed{0}$.'"
            ],
            "application/vnd.google.colaboratory.intrinsic+json": {
              "type": "string"
            }
          },
          "metadata": {},
          "execution_count": 34
        }
      ]
    },
    {
      "cell_type": "code",
      "source": [
        "result = await client.chat.completions.create(\n",
        "    model=\"openai/gpt-3.5-turbo-1106\",\n",
        "    messages=[\n",
        "        {\n",
        "        'role': 'user',\n",
        "        'content': f'Переведи решение, используя latex. Только перевод. {example[\"solution\"]}'\n",
        "        }\n",
        "    ],\n",
        ")\n",
        "solution_ru = result.choices[0].message.content\n",
        "solution_ru"
      ],
      "metadata": {
        "colab": {
          "base_uri": "https://localhost:8080/",
          "height": 88
        },
        "id": "3Bs950McwJZ-",
        "outputId": "a30e072f-2eba-4e44-a64a-63efbb5d98ec"
      },
      "execution_count": 37,
      "outputs": [
        {
          "output_type": "execute_result",
          "data": {
            "text/plain": [
              "'Для того, чтобы кусочно-заданная функция была непрерывной, случаи должны \"совпадать\" при $x=2$ и $x=-2$. Например, $ax+3$ и $x-5$ должны быть равны при $x=2$. Это означает, что $a(2)+3=2-5$, откуда получаем $2a=-6 \\\\Rightarrow a=-3$. Аналогично, $x-5$ и $2x-b$ должны быть равны при $x=-2$. Подставив, получаем $-2-5=2(-2)-b$, что приводит к $b=3$. Таким образом, $a+b=-3+3=\\\\boxed{0}$.'"
            ],
            "application/vnd.google.colaboratory.intrinsic+json": {
              "type": "string"
            }
          },
          "metadata": {},
          "execution_count": 37
        }
      ]
    },
    {
      "cell_type": "markdown",
      "source": [],
      "metadata": {
        "id": "OllGkkGgupmF"
      }
    },
    {
      "cell_type": "code",
      "source": [
        "from openai import AsyncOpenAI\n",
        "from os import getenv\n",
        "\n",
        "class OpenAiTranslator:\n",
        "    def __init__(self):\n",
        "        self.client = AsyncOpenAI(\n",
        "            base_url=\"https://openrouter.ai/api/v1\",\n",
        "            api_key=open_ai_token,\n",
        "        )\n",
        "    async def problem_ru(self, problem):\n",
        "        result = await client.chat.completions.create(\n",
        "            model=\"openai/gpt-3.5-turbo-1106\",\n",
        "            messages=[\n",
        "                {\n",
        "                'role': 'user',\n",
        "                'content': f'Переведи задачу, используя latex. Только перевод. {problem}'\n",
        "                }\n",
        "            ],\n",
        "        )\n",
        "        return result.choices[0].message.content\n",
        "    async def solution_ru(self, solution):\n",
        "        result = await client.chat.completions.create(\n",
        "            model=\"openai/gpt-3.5-turbo-1106\",\n",
        "            messages=[\n",
        "                {\n",
        "                'role': 'user',\n",
        "                'content': f'Переведи решение, используя latex. Только перевод. {solution}'\n",
        "                }\n",
        "            ],\n",
        "        )\n",
        "        return result.choices[0].message.content\n"
      ],
      "metadata": {
        "id": "UEzy3h37vR2p"
      },
      "execution_count": 155,
      "outputs": []
    },
    {
      "cell_type": "markdown",
      "source": [
        "Начнем с тестового запуска на 10 задачах"
      ],
      "metadata": {
        "id": "09P8TTmvy3Ut"
      }
    },
    {
      "cell_type": "code",
      "source": [
        "import logging\n",
        "logging.basicConfig(level=logging.INFO)\n",
        "async def openAiWorker(worker_id,in_q,out_q):\n",
        "    translator = OpenAiTranslator()\n",
        "    while True:\n",
        "        task = await in_q.get()\n",
        "        task['problem_ru'] = await translator.problem_ru(task[\"problem\"])\n",
        "        print(f'{worker_id=}.{task[\"problem_ru\"]=}')\n",
        "        task['solution_ru'] = await translator.solution_ru(task[\"solution\"])\n",
        "        print(f'{worker_id=}.{task[\"solution_ru\"]=}')\n",
        "        await out_q.put(task)\n",
        "        in_q.task_done()\n"
      ],
      "metadata": {
        "id": "sk8SKB7Ztcay"
      },
      "execution_count": 157,
      "outputs": []
    },
    {
      "cell_type": "code",
      "source": [
        "from tqdm import tqdm\n",
        "import time\n",
        "for i in tqdm(range(10)):\n",
        "    time.sleep(1)"
      ],
      "metadata": {
        "colab": {
          "base_uri": "https://localhost:8080/"
        },
        "id": "axjxmDOGPTi6",
        "outputId": "3da7650e-1b04-4f5c-9bf5-23d4289c76ea"
      },
      "execution_count": 159,
      "outputs": [
        {
          "output_type": "stream",
          "name": "stderr",
          "text": [
            "100%|██████████| 10/10 [00:10<00:00,  1.00s/it]\n"
          ]
        }
      ]
    },
    {
      "cell_type": "markdown",
      "source": [
        "Справка по порядку работы с асинхронной очередью с ограниченым размером"
      ],
      "metadata": {
        "id": "PLUjABElQZkR"
      }
    },
    {
      "cell_type": "code",
      "source": [
        "a = asyncio.Queue(maxsize=3)\n",
        "\n",
        "await a.put({'item':1})\n",
        "print('1')\n",
        "await a.put(2)\n",
        "print('2')\n",
        "await a.put(3)\n",
        "print('3')\n",
        "await a.get()\n",
        "print(a)\n",
        "# опционально для получения сигнала\n",
        "#a.task_done()\n",
        "await a.put(4)\n",
        "print('4')"
      ],
      "metadata": {
        "colab": {
          "base_uri": "https://localhost:8080/"
        },
        "id": "KqdFCCafPnV5",
        "outputId": "044504db-6c5a-42a0-8e08-e0379da58497"
      },
      "execution_count": 166,
      "outputs": [
        {
          "output_type": "stream",
          "name": "stdout",
          "text": [
            "1\n",
            "2\n",
            "3\n",
            "<Queue maxsize=3 _queue=[2, 3] tasks=3>\n",
            "4\n"
          ]
        }
      ]
    },
    {
      "cell_type": "code",
      "source": [
        "import asyncio\n",
        "from tqdm import tqdm\n",
        "\n",
        "async def translate_tasks(size):\n",
        "\n",
        "    # ограничиваем размер входной очереди\n",
        "    input_q = asyncio.Queue(maxsize=3)\n",
        "    out_q = asyncio.Queue()\n",
        "\n",
        "    translation_pool = [asyncio.create_task(openAiWorker(worker_id, input_q, out_q)) for worker_id in range(3)]\n",
        "\n",
        "\n",
        "    for task in tqdm(tasks[:size]):\n",
        "        await input_q.put(task)\n",
        "\n",
        "    await input_q.join()\n",
        "\n",
        "    for task in translation_pool:\n",
        "        task.cancel()\n",
        "\n",
        "    return out_q\n",
        "\n",
        "results = await translate_tasks(10)\n",
        "results"
      ],
      "metadata": {
        "colab": {
          "base_uri": "https://localhost:8080/"
        },
        "id": "l1_1XoFMt2Wy",
        "outputId": "d6aad2d5-6873-4269-d907-e3e8474833c3"
      },
      "execution_count": 158,
      "outputs": [
        {
          "output_type": "stream",
          "name": "stderr",
          "text": [
            " 40%|████      | 4/10 [00:00<00:00, 11.14it/s]"
          ]
        },
        {
          "output_type": "stream",
          "name": "stdout",
          "text": [
            "worker_id=2.task[\"problem_ru\"]='Какова степень полинома $(4 +5x^3 +100 +2\\\\pi x^4 + \\\\sqrt{10}x^4 +9)$?'\n",
            "worker_id=0.task[\"problem_ru\"]='Find \\\\(a+b\\\\) if the piecewise function is continuous (which means that its graph can be drawn without lifting your pencil from the paper).'\n"
          ]
        },
        {
          "output_type": "stream",
          "name": "stderr",
          "text": [
            "\r 70%|███████   | 7/10 [00:04<00:02,  1.48it/s]"
          ]
        },
        {
          "output_type": "stream",
          "name": "stdout",
          "text": [
            "worker_id=1.task[\"problem_ru\"]='Образование прямоугольной формации - это формация с $m$ членами в каждом из $r$ рядов, где $m$ и $r$ - целые числа. У определенной формации меньше 100 членов. Директор располагает их в прямоугольной формации и обнаруживает, что у него остаются два лишних члена. Если он увеличивает количество членов в каждом ряду на 1 и уменьшает количество рядов на 2, в новой формации будет ровно столько мест для каждого члена. Какое максимальное количество членов может быть у группы?'\n",
            "worker_id=0.task[\"solution_ru\"]='Для того, чтобы кусочно-заданная функция была непрерывной, случаи должны \"совпадать\" при $2$ и $-2$. Например, $ax+3$ и $x-5$ должны быть равны при $x=2$. Это означает, что $a(2)+3=2-5$, что приводит к $2a=-6 \\\\Rightarrow a=-3$. Аналогично, $x-5$ и $2x-b$ должны быть равны при $x=-2$. Подставляя, получаем $-2-5=2(-2)-b$, что влечет за собой $b=3$. Таким образом, $a+b=-3+3=\\\\boxed{0}$.'\n"
          ]
        },
        {
          "output_type": "stream",
          "name": "stderr",
          "text": [
            "\r 80%|████████  | 8/10 [00:04<00:01,  1.67it/s]"
          ]
        },
        {
          "output_type": "stream",
          "name": "stdout",
          "text": [
            "worker_id=2.task[\"solution_ru\"]='Этот многочлен не записан в стандартной форме. Однако нам не нужно записывать его в стандартной форме, и нам не нужно обращать внимание на коэффициенты. Мы просто ищем показатели степени $x$. У нас есть член $x^4$ и ни одного другого члена более высокой степени, поэтому $\\\\boxed{4}$ - это степень многочлена.'\n",
            "worker_id=0.task[\"problem_ru\"]='Оцените $\\\\left\\\\lceil3\\\\left(6-\\\\frac12\\\\right)\\\\right\\\\rceil$.'\n",
            "worker_id=2.task[\"problem_ru\"]='Переведите задачу, используя LaTeX. Только перевод.\\n\\nСэм нанят на 20 дней. В дни, когда он работает, он зарабатывает 60 долларов. За каждый день, когда он не работает, из его заработка вычитается 30 долларов. В конце 20-дневного периода он получил 660 долларов. Сколько дней он не работал?'\n"
          ]
        },
        {
          "output_type": "stream",
          "name": "stderr",
          "text": [
            "\r 90%|█████████ | 9/10 [00:06<00:01,  1.04s/it]"
          ]
        },
        {
          "output_type": "stream",
          "name": "stdout",
          "text": [
            "worker_id=0.task[\"solution_ru\"]='Итак, $3\\\\left(6-\\\\frac12\\\\right)=18-1-\\\\frac12=17-\\\\frac12$. Поскольку $0\\\\le\\\\frac12<1$, мы имеем $\\\\left\\\\lceil17-\\\\frac12\\\\right\\\\rceil=\\\\boxed{17}$.'\n",
            "worker_id=0.task[\"problem_ru\"]='Найдите центр окружности с уравнением $x^2 - 6x + y^2 + 2y = 9$.'\n"
          ]
        },
        {
          "output_type": "stream",
          "name": "stderr",
          "text": [
            "100%|██████████| 10/10 [00:08<00:00,  1.19it/s]"
          ]
        },
        {
          "output_type": "stream",
          "name": "stdout",
          "text": [
            "worker_id=1.task[\"solution_ru\"]='Пусть $x$ - количество участников в каждом ряду в исходной формации, когда остаются двое лишних. Затем мы можем написать два уравнения из имеющейся информации: \\n$$rx+2=m$$\\n$$(r-2)(x+1)=m$$\\nПриравнивая их, мы получаем: \\n$$rx+2=(r-2)(x+1)=rx-2x+r-2$$\\n$$2=-2x+r-2$$\\n$$4=r-2x$$\\nМы знаем, что в оркестре меньше 100 участников. Исходя из первого уравнения, у нас должно быть $rx$ меньше 98. Мы можем попробовать несколько значений $r$ и $x$ в последнем уравнении. Если $r=18$, то $x=7$ и $rx=126$, что слишком много. Если $r=16$, то $x=6$ и $rx=96$, что меньше 98. Проверив второе уравнение, мы видим, что $(16-2)(6+1)=14\\\\cdot 7=98$, что и должно быть. Это наилучший вариант, поэтому наибольшее количество участников в оркестре может быть $\\\\boxed{98}$.'\n"
          ]
        },
        {
          "output_type": "stream",
          "name": "stderr",
          "text": [
            "\n"
          ]
        },
        {
          "output_type": "stream",
          "name": "stdout",
          "text": [
            "worker_id=0.task[\"solution_ru\"]='Завершая квадрат, мы получаем $(x - 3)^2 + (y + 1)^2 = 19$. Следовательно, центр окружности равен $\\\\boxed{(3, -1)}$.'\n",
            "worker_id=0.task[\"problem_ru\"]='Если $x = 2$ и $y = 5$, то каково значение выражения $\\\\frac{x^4+2y^2}{6}$?'\n",
            "worker_id=1.task[\"problem_ru\"]='Каковы все значения $p$, для которых для каждого $q>0$ выполняется\\n$$\\\\frac{3(pq^2+p^2q+3q^2+3pq)}{p+q}>2p^2q?$$\\nВыразите ваш ответ в интервальной записи в десятичной форме.'\n",
            "worker_id=2.task[\"solution_ru\"]='Определим через $x$ количество дней, которые Сэм работает, и через $y$ количество дней, которые он не работает. Мы можем составить следующую систему уравнений, отражающую данную информацию:\\n\\\\begin{align*}\\nx+y &= 20 \\\\\\\\\\n60x - 30y &= 660 \\\\\\\\\\n\\\\end{align*}\\nПервое уравнение представляет общее количество дней, которые Сэм работает, второе уравнение представляет его общую прибыль. Решив первое уравнение относительно $x$, получаем $x = 20 - y$. Подставив это во второе уравнение, получаем $60(20-y) - 30y = 660$. Упрощая, получаем $120 - 6y - 3y = 66$, что упрощается до $-9y = -54$, или $y = 6$. Таким образом, Сэм не работал $\\\\boxed{6}$ дней.'\n",
            "worker_id=0.task[\"solution_ru\"]='У нас есть  \\\\[\\\\frac{x^4 + 2y^2}{6} = \\\\frac{2^4 + 2(5^2)}{6} = \\\\frac{16+2(25)}{6} = \\\\frac{16+50}{6} = \\\\frac{66}{6} = \\\\boxed{11}.\\\\]'\n",
            "worker_id=2.task[\"problem_ru\"]='Последовательность целых чисел в строке квадратов и в каждом из двух столбцов квадратов образуют три различные арифметические последовательности. Каково значение $N$?'\n",
            "worker_id=0.task[\"problem_ru\"]='Tim хочет инвестировать некоторую сумму в банк, который начисляет проценты ежеквартально по годовой ставке $7\\\\%$. Какую сумму денег он должен инвестировать, если он хочет получить в конце 5 лет всего $\\\\$60,\\\\!000$?'\n",
            "worker_id=2.task[\"solution_ru\"]='Сначала мы находим общую разность в первом столбце квадратов, $18 - 14 = 4$, поэтому число над 14 - $14 - 4 = 10$, а число над 10 - $10 - 4 = 6$. Это также четвертое число в ряду, поэтому общая разность в ряду - $(6 - 21)/3 = -5$.\\n\\nТогда седьмое (и последнее) число в ряду - $21 - 5 \\\\cdot 6 = -9$. Во втором столбце общая разность равна $[(-17) - (-9)]/4 = -2$, поэтому $N = -9 - (-2) = \\\\boxed{-7}$.'\n",
            "worker_id=0.task[\"solution_ru\"]='Учитывая формулу $A=P\\\\left(1+\\\\frac{r}{n}\\\\right)^{nt}$, где $A$ - конечный остаток, $P$ - основная сумма, $r$ - процентная ставка, $t$ - количество лет, $n$ - количество раз, когда проценты начисляются в год. Эта формула представляет собой идею того, что проценты начисляются каждые $1/n$ лет с процентной ставкой $r/n$.\\n\\nПодставляя предоставленную информацию, у нас получается \\\\[60,\\\\!000=P\\\\left(1+\\\\frac{0.07}{4}\\\\right)^{4 \\\\cdot 5}.\\\\] Решая уравнение относительно $P$ получаем $P=42409.474...$, что округлено до ближайшего доллара дает $\\\\boxed{\\\\$42409}$.'\n",
            "worker_id=1.task[\"solution_ru\"]='Сначала мы упростим этот сложный выражение. Мы попытаемся разложить числитель слева: \\n\\\\begin{align*}\\npq^2+p^2q+3q^2+3pq &= q(pq + p^2 + 3q + 3p) \\\\\\\\\\n&= q[ p(q+p) + 3(q+p) ] \\\\\\\\\\n&= q(p+3)(q+p).\\n\\\\end{align*}\\nПодставляя это в числитель неравенства, получаем \\n$$\\\\frac{3q(p+3)(p+q)}{p+q}>2p^2q.$$ \\nЗаметим, что в числителе и знаменателе левой стороны присутствует $p+q$. Мы можем сократить эти слагаемые только если $p+q \\\\neq 0$. Так как мы ищем значения $p$, при которых неравенство справедливо для всех $q>0$, нам нужно, чтобы $p \\\\geq 0$, чтобы избежать деления на ноль.\\n\\nТакже, поскольку это должно быть верно для любого $q>0$, мы можем сократить $q$ с обеих сторон. Это дает \\n\\\\begin{align*}\\n3(p+3)&>2p^2\\\\Rightarrow\\\\\\\\\\n3p+9&>2p^2 \\\\Rightarrow\\\\\\\\\\n0&>2p^2-3p-9.\\n\\\\end{align*}\\nТеперь нам нужно решить это квадратное неравенство. Мы можем разложить квадратное уравнение как $2p^2-3p-9=(2p+3)(p-3)$. Корнями являются $p=3$ и $p=-1.5$. Поскольку график этой параболы направлен вверх, мы знаем, что значение $2p^2 - 3p - 9$ отрицательно между корнями, поэтому решение нашего неравенства будет $-1.5<p<3$. Но нам все еще нужно $0 \\\\leq p$, поэтому в интервальной записи ответ будет $\\\\boxed{[0,3)}$.'\n"
          ]
        },
        {
          "output_type": "execute_result",
          "data": {
            "text/plain": [
              "<Queue at 0x7eb348d731f0 maxsize=0 _queue=[{'problem': 'Let \\\\[f(x) = \\\\left\\\\{\\n\\\\begin{array}{cl} ax+3, &\\\\text{ if }x>2, \\\\\\\\\\nx-5 &\\\\text{ if } -2 \\\\le x \\\\le 2, \\\\\\\\\\n2x-b &\\\\text{ if } x <-2.\\n\\\\end{array}\\n\\\\right.\\\\]Find $a+b$ if the piecewise function is continuous (which means that its graph can be drawn without lifting your pencil from the paper).', 'level': 'Level 5', 'type': 'Algebra', 'solution': 'For the piecewise function to be continuous, the cases must \"meet\" at $2$ and $-2$. For example, $ax+3$ and $x-5$ must be equal when $x=2$. This implies $a(2)+3=2-5$, which we solve to get $2a=-6 \\\\Rightarrow a=-3$. Similarly, $x-5$ and $2x-b$ must be equal when $x=-2$. Substituting, we get $-2-5=2(-2)-b$, which implies $b=3$. So $a+b=-3+3=\\\\boxed{0}$.', 'problem_ru': 'Find \\\\(a+b\\\\) if the piecewise function is continuous (which means that its graph can be drawn without lifting your pencil from the paper).', 'solution_ru': 'Для того, чтобы кусочно-заданная функция была непрерывной, случаи должны \"совпадать\" при $2$ и $-2$. Например, $ax+3$ и $x-5$ должны быть равны при $x=2$. Это означает, что $a(2)+3=2-5$, что приводит к $2a=-6 \\\\Rightarrow a=-3$. Аналогично, $x-5$ и $2x-b$ должны быть равны при $x=-2$. Подставляя, получаем $-2-5=2(-2)-b$, что влечет за собой $b=3$. Таким образом, $a+b=-3+3=\\\\boxed{0}$.'}, {'problem': 'What is the degree of the polynomial $(4 +5x^3 +100 +2\\\\pi x^4 + \\\\sqrt{10}x^4 +9)$?', 'level': 'Level 3', 'type': 'Algebra', 'solution': \"This polynomial is not written in standard form.  However, we don't need to write it in standard form, nor do we need to pay attention to the coefficients.  We just look for the exponents on $x$.  We have an $x^4$ term and no other term of higher degree, so $\\\\boxed{4}$ is the degree of the polynomial.\", 'problem_ru': 'Какова степень полинома $(4 +5x^3 +100 +2\\\\pi x^4 + \\\\sqrt{10}x^4 +9)$?', 'solution_ru': 'Этот многочлен не записан в стандартной форме. Однако нам не нужно записывать его в стандартной форме, и нам не нужно обращать внимание на коэффициенты. Мы просто ищем показатели степени $x$. У нас есть член $x^4$ и ни одного другого члена более высокой степени, поэтому $\\\\boxed{4}$ - это степень многочлена.'}, {'problem': 'Evaluate $\\\\left\\\\lceil3\\\\left(6-\\\\frac12\\\\right)\\\\right\\\\rceil$.', 'level': 'Level 3', 'type': 'Algebra', 'solution': 'Firstly, $3\\\\left(6-\\\\frac12\\\\right)=18-1-\\\\frac12=17-\\\\frac12$.  Because $0\\\\le\\\\frac12<1$, we have $\\\\left\\\\lceil17-\\\\frac12\\\\right\\\\rceil=\\\\boxed{17}$.', 'problem_ru': 'Оцените $\\\\left\\\\lceil3\\\\left(6-\\\\frac12\\\\right)\\\\right\\\\rceil$.', 'solution_ru': 'Итак, $3\\\\left(6-\\\\frac12\\\\right)=18-1-\\\\frac12=17-\\\\frac12$. Поскольку $0\\\\le\\\\frac12<1$, мы имеем $\\\\left\\\\lceil17-\\\\frac12\\\\right\\\\rceil=\\\\boxed{17}$.'}, {'problem': 'A rectangular band formation is a formation with $m$ band members in each of $r$ rows, where $m$ and $r$ are integers. A particular band has less than 100 band members. The director arranges them in a rectangular formation and finds that he has two members left over. If he increases the number of members in each row by 1 and reduces the number of rows by 2, there are exactly enough places in the new formation for each band member. What is the largest number of members the band could have?', 'level': 'Level 5', 'type': 'Algebra', 'solution': 'Let $x$ be the number of band members in each row for the original formation, when two are left over.  Then we can write two equations from the given information: $$rx+2=m$$ $$(r-2)(x+1)=m$$ Setting these equal, we find: $$rx+2=(r-2)(x+1)=rx-2x+r-2$$ $$2=-2x+r-2$$ $$4=r-2x$$ We know that the band has less than 100 members.  Based on the first equation, we must have $rx$ less than 98.  We can guess and check some values of $r$ and $x$ in the last equation.  If $r=18$, then $x=7$, and $rx=126$ which is too big.  If $r=16$, then $x=6$, and $rx=96$, which is less than 98.  Checking back in the second formation, we see that $(16-2)(6+1)=14\\\\cdot 7=98$ as it should.  This is the best we can do, so the largest number of members the band could have is $\\\\boxed{98}$.', 'problem_ru': 'Образование прямоугольной формации - это формация с $m$ членами в каждом из $r$ рядов, где $m$ и $r$ - целые числа. У определенной формации меньше 100 членов. Директор располагает их в прямоугольной формации и обнаруживает, что у него остаются два лишних члена. Если он увеличивает количество членов в каждом ряду на 1 и уменьшает количество рядов на 2, в новой формации будет ровно столько мест для каждого члена. Какое максимальное количество членов может быть у группы?', 'solution_ru': 'Пусть $x$ - количество участников в каждом ряду в исходной формации, когда остаются двое лишних. Затем мы можем написать два уравнения из имеющейся информации: \\n$$rx+2=m$$\\n$$(r-2)(x+1)=m$$\\nПриравнивая их, мы получаем: \\n$$rx+2=(r-2)(x+1)=rx-2x+r-2$$\\n$$2=-2x+r-2$$\\n$$4=r-2x$$\\nМы знаем, что в оркестре меньше 100 участников. Исходя из первого уравнения, у нас должно быть $rx$ меньше 98. Мы можем попробовать несколько значений $r$ и $x$ в последнем уравнении. Если $r=18$, то $x=7$ и $rx=126$, что слишком много. Если $r=16$, то $x=6$ и $rx=96$, что меньше 98. Проверив второе уравнение, мы видим, что $(16-2)(6+1)=14\\\\cdot 7=98$, что и должно быть. Это наилучший вариант, поэтому наибольшее количество участников в оркестре может быть $\\\\boxed{98}$.'}, {'problem': 'Find the center of the circle with equation $x^2 - 6x + y^2 + 2y = 9$.', 'level': 'Level 4', 'type': 'Algebra', 'solution': 'Completing the square, we get $(x - 3)^2 + (y + 1)^2 = 19$. Therefore, the center of the circle is $\\\\boxed{(3, -1)}$.', 'problem_ru': 'Найдите центр окружности с уравнением $x^2 - 6x + y^2 + 2y = 9$.', 'solution_ru': 'Завершая квадрат, мы получаем $(x - 3)^2 + (y + 1)^2 = 19$. Следовательно, центр окружности равен $\\\\boxed{(3, -1)}$.'}, {'problem': 'Sam is hired for a 20-day period. On days that he works, he earns $\\\\$$60. For each day that he does not work, $\\\\$$30 is subtracted from his earnings. At the end of the 20-day period, he received $\\\\$$660. How many days did he not work?', 'level': 'Level 3', 'type': 'Algebra', 'solution': 'Call $x$ the number of days Sam works and $y$ the number of days he does not. We can set up the following system of equations to represent the given information: \\\\begin{align*}\\nx+y &= 20 \\\\\\\\\\n60x - 30y &= 660 \\\\\\\\\\n\\\\end{align*} The first equation represents the total number of days Sam works, and the second equation represents his total profit. Solving for $x$ in the first equation yields $x = 20 - y$. Substituting into the second equation gives $60(20-y) - 30y = 660$. Canceling a factor of $10$ and multiplying out gives $120 - 6y - 3y = 66$. This simplifies to $-9y = -54$, or $y = 6$. Thus, Sam did not work for $\\\\boxed{6}$ days.', 'problem_ru': 'Переведите задачу, используя LaTeX. Только перевод.\\n\\nСэм нанят на 20 дней. В дни, когда он работает, он зарабатывает 60 долларов. За каждый день, когда он не работает, из его заработка вычитается 30 долларов. В конце 20-дневного периода он получил 660 долларов. Сколько дней он не работал?', 'solution_ru': 'Определим через $x$ количество дней, которые Сэм работает, и через $y$ количество дней, которые он не работает. Мы можем составить следующую систему уравнений, отражающую данную информацию:\\n\\\\begin{align*}\\nx+y &= 20 \\\\\\\\\\n60x - 30y &= 660 \\\\\\\\\\n\\\\end{align*}\\nПервое уравнение представляет общее количество дней, которые Сэм работает, второе уравнение представляет его общую прибыль. Решив первое уравнение относительно $x$, получаем $x = 20 - y$. Подставив это во второе уравнение, получаем $60(20-y) - 30y = 660$. Упрощая, получаем $120 - 6y - 3y = 66$, что упрощается до $-9y = -54$, или $y = 6$. Таким образом, Сэм не работал $\\\\boxed{6}$ дней.'}, {'problem': 'If $x = 2$ and $y = 5$, then what is the value of $\\\\frac{x^4+2y^2}{6}$ ?', 'level': 'Level 1', 'type': 'Algebra', 'solution': 'We have  \\\\[\\\\frac{x^4 + 2y^2}{6} = \\\\frac{2^4 + 2(5^2)}{6} = \\\\frac{16+2(25)}{6} = \\\\frac{16+50}{6} = \\\\frac{66}{6} = \\\\boxed{11}.\\\\]', 'problem_ru': 'Если $x = 2$ и $y = 5$, то каково значение выражения $\\\\frac{x^4+2y^2}{6}$?', 'solution_ru': 'У нас есть  \\\\[\\\\frac{x^4 + 2y^2}{6} = \\\\frac{2^4 + 2(5^2)}{6} = \\\\frac{16+2(25)}{6} = \\\\frac{16+50}{6} = \\\\frac{66}{6} = \\\\boxed{11}.\\\\]'}, {'problem': 'The sequence of integers in the row of squares and in each of the two columns of squares form three distinct arithmetic sequences. What is the value of $N$?\\n\\n[asy]\\nunitsize(0.35inch);\\ndraw((0,0)--(7,0)--(7,1)--(0,1)--cycle);\\ndraw((1,0)--(1,1));\\ndraw((2,0)--(2,1));\\ndraw((3,0)--(3,1));\\ndraw((4,0)--(4,1));\\ndraw((5,0)--(5,1));\\ndraw((6,0)--(6,1));\\ndraw((6,2)--(7,2)--(7,-4)--(6,-4)--cycle);\\ndraw((6,-1)--(7,-1));\\ndraw((6,-2)--(7,-2));\\ndraw((6,-3)--(7,-3));\\ndraw((3,0)--(4,0)--(4,-3)--(3,-3)--cycle);\\ndraw((3,-1)--(4,-1));\\ndraw((3,-2)--(4,-2));\\nlabel(\"21\",(0.5,0.8),S);\\nlabel(\"14\",(3.5,-1.2),S);\\nlabel(\"18\",(3.5,-2.2),S);\\nlabel(\"$N$\",(6.5,1.8),S);\\nlabel(\"-17\",(6.5,-3.2),S);\\n[/asy]', 'level': 'Level 2', 'type': 'Algebra', 'solution': 'Since $18 - 14 = 4$, the common difference in the first column of squares is 4, so the number above 14 is $14 - 4 = 10$, and the number above 10 is $10 - 4 = 6$.  This is also the fourth number in the row, so the common difference in the row is $(6 - 21)/3 = -5$.\\n\\nThen the seventh (and last) number in the row is $21 - 5 \\\\cdot 6 = -9$.  In the second column, the common difference is $[(-17) - (-9)]/4 = -2$, so $N = -9 - (-2) = \\\\boxed{-7}$.', 'problem_ru': 'Последовательность целых чисел в строке квадратов и в каждом из двух столбцов квадратов образуют три различные арифметические последовательности. Каково значение $N$?', 'solution_ru': 'Сначала мы находим общую разность в первом столбце квадратов, $18 - 14 = 4$, поэтому число над 14 - $14 - 4 = 10$, а число над 10 - $10 - 4 = 6$. Это также четвертое число в ряду, поэтому общая разность в ряду - $(6 - 21)/3 = -5$.\\n\\nТогда седьмое (и последнее) число в ряду - $21 - 5 \\\\cdot 6 = -9$. Во втором столбце общая разность равна $[(-17) - (-9)]/4 = -2$, поэтому $N = -9 - (-2) = \\\\boxed{-7}$.'}, {'problem': 'Tim wants to invest some money in a bank which compounds quarterly with an annual interest rate of $7\\\\%$. To the nearest dollar, how much money should he invest if he wants a total of $\\\\$60,\\\\!000$ at the end of $5$ years?', 'level': 'Level 5', 'type': 'Algebra', 'solution': 'Recall the formula $A=P\\\\left(1+\\\\frac{r}{n}\\\\right)^{nt}$, where $A$ is the end balance, $P$ is the principal, $r$ is the interest rate, $t$ is the number of years, and $n$ is the number of times the interest is compounded in a year. This formula represents the idea that the interest is compounded every $1/n$ years with the rate of $r/n$.\\n\\nSubstituting the given information, we have \\\\[60,\\\\!000=P\\\\left(1+\\\\frac{0.07}{4}\\\\right)^{4 \\\\cdot 5}.\\\\]Solving for $P$ gives  $P=42409.474...$, which rounded to the nearest dollar is $\\\\boxed{\\\\$42409}$.', 'problem_ru': 'Tim хочет инвестировать некоторую сумму в банк, который начисляет проценты ежеквартально по годовой ставке $7\\\\%$. Какую сумму денег он должен инвестировать, если он хочет получить в конце 5 лет всего $\\\\$60,\\\\!000$?', 'solution_ru': 'Учитывая формулу $A=P\\\\left(1+\\\\frac{r}{n}\\\\right)^{nt}$, где $A$ - конечный остаток, $P$ - основная сумма, $r$ - процентная ставка, $t$ - количество лет, $n$ - количество раз, когда проценты начисляются в год. Эта формула представляет собой идею того, что проценты начисляются каждые $1/n$ лет с процентной ставкой $r/n$.\\n\\nПодставляя предоставленную информацию, у нас получается \\\\[60,\\\\!000=P\\\\left(1+\\\\frac{0.07}{4}\\\\right)^{4 \\\\cdot 5}.\\\\] Решая уравнение относительно $P$ получаем $P=42409.474...$, что округлено до ближайшего доллара дает $\\\\boxed{\\\\$42409}$.'}, {'problem': 'What are all values of $p$ such that for every $q>0$, we have   $$\\\\frac{3(pq^2+p^2q+3q^2+3pq)}{p+q}>2p^2q?$$ Express your answer in interval notation in decimal form.', 'level': 'Level 5', 'type': 'Algebra', 'solution': \"First we'll simplify that complicated expression. We attempt to factor the numerator of the left side: \\\\begin{align*}\\npq^2+p^2q+3q^2+3pq &= q(pq + p^2 + 3q + 3p) \\\\\\\\\\n&= q[ p(q+p) + 3(q+p) ] \\\\\\\\\\n&= q(p+3)(q+p).\\n\\\\end{align*}Substituting this in for the numerator in our inequality gives $$\\\\frac{3q(p+3)(p+q)}{p+q}>2p^2q.$$We note that left hand side has $p+q$ in both the numerator and denominator.  We can only cancel these terms if $p+q \\\\neq 0.$  Since we're looking for values of $p$ such that the inequality is true for all $q > 0,$ we need $p \\\\geq 0$ so that $p + q \\\\neq 0.$\\n\\nAlso because this must be true for every $q>0$, we can cancel the $q$'s on both sides. This gives  \\\\begin{align*}\\n3(p+3)&>2p^2\\\\Rightarrow\\\\\\\\\\n3p+9&>2p^2 \\\\Rightarrow\\\\\\\\\\n0&>2p^2-3p-9.\\n\\\\end{align*}Now we must solve this quadratic inequality. We can factor the quadratic as $2p^2-3p-9=(2p+3)(p-3)$. The roots are $p=3$ and $p=-1.5$. Since a graph of this parabola would open upwards, we know that the value of $2p^2 - 3p - 9$ is negative between the roots, so the solution to our inequality is $-1.5<p<3.$  But we still need $0 \\\\leq p,$ so in interval notation the answer is $\\\\boxed{[0,3)}$.\", 'problem_ru': 'Каковы все значения $p$, для которых для каждого $q>0$ выполняется\\n$$\\\\frac{3(pq^2+p^2q+3q^2+3pq)}{p+q}>2p^2q?$$\\nВыразите ваш ответ в интервальной записи в десятичной форме.', 'solution_ru': 'Сначала мы упростим этот сложный выражение. Мы попытаемся разложить числитель слева: \\n\\\\begin{align*}\\npq^2+p^2q+3q^2+3pq &= q(pq + p^2 + 3q + 3p) \\\\\\\\\\n&= q[ p(q+p) + 3(q+p) ] \\\\\\\\\\n&= q(p+3)(q+p).\\n\\\\end{align*}\\nПодставляя это в числитель неравенства, получаем \\n$$\\\\frac{3q(p+3)(p+q)}{p+q}>2p^2q.$$ \\nЗаметим, что в числителе и знаменателе левой стороны присутствует $p+q$. Мы можем сократить эти слагаемые только если $p+q \\\\neq 0$. Так как мы ищем значения $p$, при которых неравенство справедливо для всех $q>0$, нам нужно, чтобы $p \\\\geq 0$, чтобы избежать деления на ноль.\\n\\nТакже, поскольку это должно быть верно для любого $q>0$, мы можем сократить $q$ с обеих сторон. Это дает \\n\\\\begin{align*}\\n3(p+3)&>2p^2\\\\Rightarrow\\\\\\\\\\n3p+9&>2p^2 \\\\Rightarrow\\\\\\\\\\n0&>2p^2-3p-9.\\n\\\\end{align*}\\nТеперь нам нужно решить это квадратное неравенство. Мы можем разложить квадратное уравнение как $2p^2-3p-9=(2p+3)(p-3)$. Корнями являются $p=3$ и $p=-1.5$. Поскольку график этой параболы направлен вверх, мы знаем, что значение $2p^2 - 3p - 9$ отрицательно между корнями, поэтому решение нашего неравенства будет $-1.5<p<3$. Но нам все еще нужно $0 \\\\leq p$, поэтому в интервальной записи ответ будет $\\\\boxed{[0,3)}$.'}] tasks=10>"
            ]
          },
          "metadata": {},
          "execution_count": 158
        }
      ]
    },
    {
      "cell_type": "markdown",
      "source": [
        "#### Теперь работает ассистент :)"
      ],
      "metadata": {
        "id": "SE69mkk43viJ"
      }
    },
    {
      "cell_type": "code",
      "source": [
        "results = await translate_tasks(300)"
      ],
      "metadata": {
        "colab": {
          "base_uri": "https://localhost:8080/"
        },
        "id": "1Xizp2dw3PVB",
        "outputId": "5b02f93f-8719-41eb-815e-3806d8c01ca0"
      },
      "execution_count": 74,
      "outputs": [
        {
          "output_type": "stream",
          "name": "stderr",
          "text": [
            "100%|██████████| 300/300 [06:55<00:00,  1.38s/it]\n"
          ]
        }
      ]
    },
    {
      "cell_type": "code",
      "source": [
        "import pandas as pd\n",
        "\n",
        "df = pd.DataFrame(results._queue)\n"
      ],
      "metadata": {
        "id": "tCZzKDEM4PwE"
      },
      "execution_count": 76,
      "outputs": []
    },
    {
      "cell_type": "code",
      "source": [
        "df"
      ],
      "metadata": {
        "colab": {
          "base_uri": "https://localhost:8080/",
          "height": 788
        },
        "id": "N30FaFWL5y70",
        "outputId": "6cbda4b7-b14b-4d03-d889-568ae32cdae6"
      },
      "execution_count": 77,
      "outputs": [
        {
          "output_type": "execute_result",
          "data": {
            "text/plain": [
              "       level                                            problem  \\\n",
              "0    Level 3  What is the degree of the polynomial $(4 +5x^3...   \n",
              "1    Level 5  Let \\[f(x) = \\left\\{\\n\\begin{array}{cl} ax+3, ...   \n",
              "2    Level 3  Evaluate $\\left\\lceil3\\left(6-\\frac12\\right)\\r...   \n",
              "3    Level 5  A rectangular band formation is a formation wi...   \n",
              "4    Level 4  Find the center of the circle with equation $x...   \n",
              "..       ...                                                ...   \n",
              "295  Level 5  Let $(x,y)$ be an ordered pair of real numbers...   \n",
              "296  Level 2  What is the distance on a Cartesian coordinate...   \n",
              "297  Level 1     Simplify $16^{\\frac{1}{2}}-625^{\\frac{1}{2}}$.   \n",
              "298  Level 3  Without using a calculator, compute $1003^2-99...   \n",
              "299  Level 5  If $x$ and $y$ are positive integers such that...   \n",
              "\n",
              "                                            problem_ru  \\\n",
              "0    Какова степень полинома $(4 +5x^3 +100 +2\\pi x...   \n",
              "1    Find $a+b$ if the piecewise function is contin...   \n",
              "2    Оцените $\\left\\lceil3\\left(6-\\frac12\\right)\\ri...   \n",
              "3    Прямоугольная формация оркестра - это формация...   \n",
              "4    Find the center of the circle with equation \\n...   \n",
              "..                                                 ...   \n",
              "295  Пусть $(x,y)$ - упорядоченная пара действитель...   \n",
              "296  Каково расстояние на декартовой координатной п...   \n",
              "297  \\documentclass{article}\\n\\t\\usepackage[utf8]{i...   \n",
              "298  Вычислите $1003^2-997^2-1001^2+999^2$ без испо...   \n",
              "299  Если $x$ и $y$ - положительные целые числа так...   \n",
              "\n",
              "                                              solution  \\\n",
              "0    This polynomial is not written in standard for...   \n",
              "1    For the piecewise function to be continuous, t...   \n",
              "2    Firstly, $3\\left(6-\\frac12\\right)=18-1-\\frac12...   \n",
              "3    Let $x$ be the number of band members in each ...   \n",
              "4    Completing the square, we get $(x - 3)^2 + (y ...   \n",
              "..                                                 ...   \n",
              "295  Moving all the terms to the LHS, we have the e...   \n",
              "296  Using the distance formula, we get that the di...   \n",
              "297  We can simply plug in $16^{\\frac{1}{2}}=4$ and...   \n",
              "298  Applying the difference of squares factorizati...   \n",
              "299  We solve for $y$ in terms of $x$: \\[y = \\frac{...   \n",
              "\n",
              "                                           solution_ru     type  \n",
              "0    Этот многочлен не написан в стандартной форме....  Algebra  \n",
              "1    Для того чтобы кусочно-заданная функция была н...  Algebra  \n",
              "2    \\begin{align*}\\n3\\left(6-\\frac12\\right) &= 18-...  Algebra  \n",
              "3    Пусть $x$ - количество участников группы в каж...  Algebra  \n",
              "4    Завершая квадрат, получаем $(x - 3)^2 + (y + 1...  Algebra  \n",
              "..                                                 ...      ...  \n",
              "295  Перенеся все члены в левую часть, у нас есть у...  Algebra  \n",
              "296  Используя формулу расстояния, получаем, что ра...  Algebra  \n",
              "297  Просто подставим $16^{\\frac{1}{2}}=4$ и $625^{...  Algebra  \n",
              "298  Применяя факторизацию разности квадратов по от...  Algebra  \n",
              "299  Мы решаем для $y$ в терминах $x$: \\[y = \\frac{...  Algebra  \n",
              "\n",
              "[300 rows x 6 columns]"
            ],
            "text/html": [
              "\n",
              "  <div id=\"df-c885b82e-4e25-4059-b027-8b2c844397c7\" class=\"colab-df-container\">\n",
              "    <div>\n",
              "<style scoped>\n",
              "    .dataframe tbody tr th:only-of-type {\n",
              "        vertical-align: middle;\n",
              "    }\n",
              "\n",
              "    .dataframe tbody tr th {\n",
              "        vertical-align: top;\n",
              "    }\n",
              "\n",
              "    .dataframe thead th {\n",
              "        text-align: right;\n",
              "    }\n",
              "</style>\n",
              "<table border=\"1\" class=\"dataframe\">\n",
              "  <thead>\n",
              "    <tr style=\"text-align: right;\">\n",
              "      <th></th>\n",
              "      <th>level</th>\n",
              "      <th>problem</th>\n",
              "      <th>problem_ru</th>\n",
              "      <th>solution</th>\n",
              "      <th>solution_ru</th>\n",
              "      <th>type</th>\n",
              "    </tr>\n",
              "  </thead>\n",
              "  <tbody>\n",
              "    <tr>\n",
              "      <th>0</th>\n",
              "      <td>Level 3</td>\n",
              "      <td>What is the degree of the polynomial $(4 +5x^3...</td>\n",
              "      <td>Какова степень полинома $(4 +5x^3 +100 +2\\pi x...</td>\n",
              "      <td>This polynomial is not written in standard for...</td>\n",
              "      <td>Этот многочлен не написан в стандартной форме....</td>\n",
              "      <td>Algebra</td>\n",
              "    </tr>\n",
              "    <tr>\n",
              "      <th>1</th>\n",
              "      <td>Level 5</td>\n",
              "      <td>Let \\[f(x) = \\left\\{\\n\\begin{array}{cl} ax+3, ...</td>\n",
              "      <td>Find $a+b$ if the piecewise function is contin...</td>\n",
              "      <td>For the piecewise function to be continuous, t...</td>\n",
              "      <td>Для того чтобы кусочно-заданная функция была н...</td>\n",
              "      <td>Algebra</td>\n",
              "    </tr>\n",
              "    <tr>\n",
              "      <th>2</th>\n",
              "      <td>Level 3</td>\n",
              "      <td>Evaluate $\\left\\lceil3\\left(6-\\frac12\\right)\\r...</td>\n",
              "      <td>Оцените $\\left\\lceil3\\left(6-\\frac12\\right)\\ri...</td>\n",
              "      <td>Firstly, $3\\left(6-\\frac12\\right)=18-1-\\frac12...</td>\n",
              "      <td>\\begin{align*}\\n3\\left(6-\\frac12\\right) &amp;= 18-...</td>\n",
              "      <td>Algebra</td>\n",
              "    </tr>\n",
              "    <tr>\n",
              "      <th>3</th>\n",
              "      <td>Level 5</td>\n",
              "      <td>A rectangular band formation is a formation wi...</td>\n",
              "      <td>Прямоугольная формация оркестра - это формация...</td>\n",
              "      <td>Let $x$ be the number of band members in each ...</td>\n",
              "      <td>Пусть $x$ - количество участников группы в каж...</td>\n",
              "      <td>Algebra</td>\n",
              "    </tr>\n",
              "    <tr>\n",
              "      <th>4</th>\n",
              "      <td>Level 4</td>\n",
              "      <td>Find the center of the circle with equation $x...</td>\n",
              "      <td>Find the center of the circle with equation \\n...</td>\n",
              "      <td>Completing the square, we get $(x - 3)^2 + (y ...</td>\n",
              "      <td>Завершая квадрат, получаем $(x - 3)^2 + (y + 1...</td>\n",
              "      <td>Algebra</td>\n",
              "    </tr>\n",
              "    <tr>\n",
              "      <th>...</th>\n",
              "      <td>...</td>\n",
              "      <td>...</td>\n",
              "      <td>...</td>\n",
              "      <td>...</td>\n",
              "      <td>...</td>\n",
              "      <td>...</td>\n",
              "    </tr>\n",
              "    <tr>\n",
              "      <th>295</th>\n",
              "      <td>Level 5</td>\n",
              "      <td>Let $(x,y)$ be an ordered pair of real numbers...</td>\n",
              "      <td>Пусть $(x,y)$ - упорядоченная пара действитель...</td>\n",
              "      <td>Moving all the terms to the LHS, we have the e...</td>\n",
              "      <td>Перенеся все члены в левую часть, у нас есть у...</td>\n",
              "      <td>Algebra</td>\n",
              "    </tr>\n",
              "    <tr>\n",
              "      <th>296</th>\n",
              "      <td>Level 2</td>\n",
              "      <td>What is the distance on a Cartesian coordinate...</td>\n",
              "      <td>Каково расстояние на декартовой координатной п...</td>\n",
              "      <td>Using the distance formula, we get that the di...</td>\n",
              "      <td>Используя формулу расстояния, получаем, что ра...</td>\n",
              "      <td>Algebra</td>\n",
              "    </tr>\n",
              "    <tr>\n",
              "      <th>297</th>\n",
              "      <td>Level 1</td>\n",
              "      <td>Simplify $16^{\\frac{1}{2}}-625^{\\frac{1}{2}}$.</td>\n",
              "      <td>\\documentclass{article}\\n\\t\\usepackage[utf8]{i...</td>\n",
              "      <td>We can simply plug in $16^{\\frac{1}{2}}=4$ and...</td>\n",
              "      <td>Просто подставим $16^{\\frac{1}{2}}=4$ и $625^{...</td>\n",
              "      <td>Algebra</td>\n",
              "    </tr>\n",
              "    <tr>\n",
              "      <th>298</th>\n",
              "      <td>Level 3</td>\n",
              "      <td>Without using a calculator, compute $1003^2-99...</td>\n",
              "      <td>Вычислите $1003^2-997^2-1001^2+999^2$ без испо...</td>\n",
              "      <td>Applying the difference of squares factorizati...</td>\n",
              "      <td>Применяя факторизацию разности квадратов по от...</td>\n",
              "      <td>Algebra</td>\n",
              "    </tr>\n",
              "    <tr>\n",
              "      <th>299</th>\n",
              "      <td>Level 5</td>\n",
              "      <td>If $x$ and $y$ are positive integers such that...</td>\n",
              "      <td>Если $x$ и $y$ - положительные целые числа так...</td>\n",
              "      <td>We solve for $y$ in terms of $x$: \\[y = \\frac{...</td>\n",
              "      <td>Мы решаем для $y$ в терминах $x$: \\[y = \\frac{...</td>\n",
              "      <td>Algebra</td>\n",
              "    </tr>\n",
              "  </tbody>\n",
              "</table>\n",
              "<p>300 rows × 6 columns</p>\n",
              "</div>\n",
              "    <div class=\"colab-df-buttons\">\n",
              "\n",
              "  <div class=\"colab-df-container\">\n",
              "    <button class=\"colab-df-convert\" onclick=\"convertToInteractive('df-c885b82e-4e25-4059-b027-8b2c844397c7')\"\n",
              "            title=\"Convert this dataframe to an interactive table.\"\n",
              "            style=\"display:none;\">\n",
              "\n",
              "  <svg xmlns=\"http://www.w3.org/2000/svg\" height=\"24px\" viewBox=\"0 -960 960 960\">\n",
              "    <path d=\"M120-120v-720h720v720H120Zm60-500h600v-160H180v160Zm220 220h160v-160H400v160Zm0 220h160v-160H400v160ZM180-400h160v-160H180v160Zm440 0h160v-160H620v160ZM180-180h160v-160H180v160Zm440 0h160v-160H620v160Z\"/>\n",
              "  </svg>\n",
              "    </button>\n",
              "\n",
              "  <style>\n",
              "    .colab-df-container {\n",
              "      display:flex;\n",
              "      gap: 12px;\n",
              "    }\n",
              "\n",
              "    .colab-df-convert {\n",
              "      background-color: #E8F0FE;\n",
              "      border: none;\n",
              "      border-radius: 50%;\n",
              "      cursor: pointer;\n",
              "      display: none;\n",
              "      fill: #1967D2;\n",
              "      height: 32px;\n",
              "      padding: 0 0 0 0;\n",
              "      width: 32px;\n",
              "    }\n",
              "\n",
              "    .colab-df-convert:hover {\n",
              "      background-color: #E2EBFA;\n",
              "      box-shadow: 0px 1px 2px rgba(60, 64, 67, 0.3), 0px 1px 3px 1px rgba(60, 64, 67, 0.15);\n",
              "      fill: #174EA6;\n",
              "    }\n",
              "\n",
              "    .colab-df-buttons div {\n",
              "      margin-bottom: 4px;\n",
              "    }\n",
              "\n",
              "    [theme=dark] .colab-df-convert {\n",
              "      background-color: #3B4455;\n",
              "      fill: #D2E3FC;\n",
              "    }\n",
              "\n",
              "    [theme=dark] .colab-df-convert:hover {\n",
              "      background-color: #434B5C;\n",
              "      box-shadow: 0px 1px 3px 1px rgba(0, 0, 0, 0.15);\n",
              "      filter: drop-shadow(0px 1px 2px rgba(0, 0, 0, 0.3));\n",
              "      fill: #FFFFFF;\n",
              "    }\n",
              "  </style>\n",
              "\n",
              "    <script>\n",
              "      const buttonEl =\n",
              "        document.querySelector('#df-c885b82e-4e25-4059-b027-8b2c844397c7 button.colab-df-convert');\n",
              "      buttonEl.style.display =\n",
              "        google.colab.kernel.accessAllowed ? 'block' : 'none';\n",
              "\n",
              "      async function convertToInteractive(key) {\n",
              "        const element = document.querySelector('#df-c885b82e-4e25-4059-b027-8b2c844397c7');\n",
              "        const dataTable =\n",
              "          await google.colab.kernel.invokeFunction('convertToInteractive',\n",
              "                                                    [key], {});\n",
              "        if (!dataTable) return;\n",
              "\n",
              "        const docLinkHtml = 'Like what you see? Visit the ' +\n",
              "          '<a target=\"_blank\" href=https://colab.research.google.com/notebooks/data_table.ipynb>data table notebook</a>'\n",
              "          + ' to learn more about interactive tables.';\n",
              "        element.innerHTML = '';\n",
              "        dataTable['output_type'] = 'display_data';\n",
              "        await google.colab.output.renderOutput(dataTable, element);\n",
              "        const docLink = document.createElement('div');\n",
              "        docLink.innerHTML = docLinkHtml;\n",
              "        element.appendChild(docLink);\n",
              "      }\n",
              "    </script>\n",
              "  </div>\n",
              "\n",
              "\n",
              "<div id=\"df-012b1ee1-ba21-45fb-986a-ad35d1ecb2fa\">\n",
              "  <button class=\"colab-df-quickchart\" onclick=\"quickchart('df-012b1ee1-ba21-45fb-986a-ad35d1ecb2fa')\"\n",
              "            title=\"Suggest charts\"\n",
              "            style=\"display:none;\">\n",
              "\n",
              "<svg xmlns=\"http://www.w3.org/2000/svg\" height=\"24px\"viewBox=\"0 0 24 24\"\n",
              "     width=\"24px\">\n",
              "    <g>\n",
              "        <path d=\"M19 3H5c-1.1 0-2 .9-2 2v14c0 1.1.9 2 2 2h14c1.1 0 2-.9 2-2V5c0-1.1-.9-2-2-2zM9 17H7v-7h2v7zm4 0h-2V7h2v10zm4 0h-2v-4h2v4z\"/>\n",
              "    </g>\n",
              "</svg>\n",
              "  </button>\n",
              "\n",
              "<style>\n",
              "  .colab-df-quickchart {\n",
              "      --bg-color: #E8F0FE;\n",
              "      --fill-color: #1967D2;\n",
              "      --hover-bg-color: #E2EBFA;\n",
              "      --hover-fill-color: #174EA6;\n",
              "      --disabled-fill-color: #AAA;\n",
              "      --disabled-bg-color: #DDD;\n",
              "  }\n",
              "\n",
              "  [theme=dark] .colab-df-quickchart {\n",
              "      --bg-color: #3B4455;\n",
              "      --fill-color: #D2E3FC;\n",
              "      --hover-bg-color: #434B5C;\n",
              "      --hover-fill-color: #FFFFFF;\n",
              "      --disabled-bg-color: #3B4455;\n",
              "      --disabled-fill-color: #666;\n",
              "  }\n",
              "\n",
              "  .colab-df-quickchart {\n",
              "    background-color: var(--bg-color);\n",
              "    border: none;\n",
              "    border-radius: 50%;\n",
              "    cursor: pointer;\n",
              "    display: none;\n",
              "    fill: var(--fill-color);\n",
              "    height: 32px;\n",
              "    padding: 0;\n",
              "    width: 32px;\n",
              "  }\n",
              "\n",
              "  .colab-df-quickchart:hover {\n",
              "    background-color: var(--hover-bg-color);\n",
              "    box-shadow: 0 1px 2px rgba(60, 64, 67, 0.3), 0 1px 3px 1px rgba(60, 64, 67, 0.15);\n",
              "    fill: var(--button-hover-fill-color);\n",
              "  }\n",
              "\n",
              "  .colab-df-quickchart-complete:disabled,\n",
              "  .colab-df-quickchart-complete:disabled:hover {\n",
              "    background-color: var(--disabled-bg-color);\n",
              "    fill: var(--disabled-fill-color);\n",
              "    box-shadow: none;\n",
              "  }\n",
              "\n",
              "  .colab-df-spinner {\n",
              "    border: 2px solid var(--fill-color);\n",
              "    border-color: transparent;\n",
              "    border-bottom-color: var(--fill-color);\n",
              "    animation:\n",
              "      spin 1s steps(1) infinite;\n",
              "  }\n",
              "\n",
              "  @keyframes spin {\n",
              "    0% {\n",
              "      border-color: transparent;\n",
              "      border-bottom-color: var(--fill-color);\n",
              "      border-left-color: var(--fill-color);\n",
              "    }\n",
              "    20% {\n",
              "      border-color: transparent;\n",
              "      border-left-color: var(--fill-color);\n",
              "      border-top-color: var(--fill-color);\n",
              "    }\n",
              "    30% {\n",
              "      border-color: transparent;\n",
              "      border-left-color: var(--fill-color);\n",
              "      border-top-color: var(--fill-color);\n",
              "      border-right-color: var(--fill-color);\n",
              "    }\n",
              "    40% {\n",
              "      border-color: transparent;\n",
              "      border-right-color: var(--fill-color);\n",
              "      border-top-color: var(--fill-color);\n",
              "    }\n",
              "    60% {\n",
              "      border-color: transparent;\n",
              "      border-right-color: var(--fill-color);\n",
              "    }\n",
              "    80% {\n",
              "      border-color: transparent;\n",
              "      border-right-color: var(--fill-color);\n",
              "      border-bottom-color: var(--fill-color);\n",
              "    }\n",
              "    90% {\n",
              "      border-color: transparent;\n",
              "      border-bottom-color: var(--fill-color);\n",
              "    }\n",
              "  }\n",
              "</style>\n",
              "\n",
              "  <script>\n",
              "    async function quickchart(key) {\n",
              "      const quickchartButtonEl =\n",
              "        document.querySelector('#' + key + ' button');\n",
              "      quickchartButtonEl.disabled = true;  // To prevent multiple clicks.\n",
              "      quickchartButtonEl.classList.add('colab-df-spinner');\n",
              "      try {\n",
              "        const charts = await google.colab.kernel.invokeFunction(\n",
              "            'suggestCharts', [key], {});\n",
              "      } catch (error) {\n",
              "        console.error('Error during call to suggestCharts:', error);\n",
              "      }\n",
              "      quickchartButtonEl.classList.remove('colab-df-spinner');\n",
              "      quickchartButtonEl.classList.add('colab-df-quickchart-complete');\n",
              "    }\n",
              "    (() => {\n",
              "      let quickchartButtonEl =\n",
              "        document.querySelector('#df-012b1ee1-ba21-45fb-986a-ad35d1ecb2fa button');\n",
              "      quickchartButtonEl.style.display =\n",
              "        google.colab.kernel.accessAllowed ? 'block' : 'none';\n",
              "    })();\n",
              "  </script>\n",
              "</div>\n",
              "    </div>\n",
              "  </div>\n"
            ],
            "application/vnd.google.colaboratory.intrinsic+json": {
              "type": "dataframe",
              "variable_name": "df",
              "summary": "{\n  \"name\": \"df\",\n  \"rows\": 300,\n  \"fields\": [\n    {\n      \"column\": \"level\",\n      \"properties\": {\n        \"dtype\": \"category\",\n        \"num_unique_values\": 5,\n        \"samples\": [\n          \"Level 5\",\n          \"Level 2\",\n          \"Level 4\"\n        ],\n        \"semantic_type\": \"\",\n        \"description\": \"\"\n      }\n    },\n    {\n      \"column\": \"problem\",\n      \"properties\": {\n        \"dtype\": \"string\",\n        \"num_unique_values\": 300,\n        \"samples\": [\n          \"On a Cartesian coordinate plane, points $(2,1)$ and $(3, 4)$ are adjacent points on a square. What is the area of the square?\",\n          \"If the operation $Z$ is defined as $a Z b = b + 10a - a^2$, what is the value of $2Z6$?\",\n          \"Evaluate $\\\\log_5625$.\"\n        ],\n        \"semantic_type\": \"\",\n        \"description\": \"\"\n      }\n    },\n    {\n      \"column\": \"problem_ru\",\n      \"properties\": {\n        \"dtype\": \"string\",\n        \"num_unique_values\": 300,\n        \"samples\": [\n          \"\\u041d\\u0430 \\u0434\\u0435\\u043a\\u0430\\u0440\\u0442\\u043e\\u0432\\u043e\\u0439 \\u043a\\u043e\\u043e\\u0440\\u0434\\u0438\\u043d\\u0430\\u0442\\u043d\\u043e\\u0439 \\u043f\\u043b\\u043e\\u0441\\u043a\\u043e\\u0441\\u0442\\u0438 \\u0442\\u043e\\u0447\\u043a\\u0438 $(2,1)$ \\u0438 $(3, 4)$ \\u044f\\u0432\\u043b\\u044f\\u044e\\u0442\\u0441\\u044f \\u0441\\u043c\\u0435\\u0436\\u043d\\u044b\\u043c\\u0438 \\u0442\\u043e\\u0447\\u043a\\u0430\\u043c\\u0438 \\u043a\\u0432\\u0430\\u0434\\u0440\\u0430\\u0442\\u0430. \\u041a\\u0430\\u043a\\u043e\\u0432\\u0430 \\u043f\\u043b\\u043e\\u0449\\u0430\\u0434\\u044c \\u043a\\u0432\\u0430\\u0434\\u0440\\u0430\\u0442\\u0430?\",\n          \"\\u0415\\u0441\\u043b\\u0438 \\u043e\\u043f\\u0435\\u0440\\u0430\\u0446\\u0438\\u044f $Z$ \\u043e\\u043f\\u0440\\u0435\\u0434\\u0435\\u043b\\u0435\\u043d\\u0430 \\u043a\\u0430\\u043a $a Z b = b + 10a - a^2$, \\u0442\\u043e \\u043a\\u0430\\u043a\\u043e\\u0432\\u043e \\u0437\\u043d\\u0430\\u0447\\u0435\\u043d\\u0438\\u0435 $2Z6$?\\n\",\n          \"\\u0412\\u044b\\u0447\\u0438\\u0441\\u043b\\u0438\\u0442\\u044c $\\\\log_5 625$.\"\n        ],\n        \"semantic_type\": \"\",\n        \"description\": \"\"\n      }\n    },\n    {\n      \"column\": \"solution\",\n      \"properties\": {\n        \"dtype\": \"string\",\n        \"num_unique_values\": 300,\n        \"samples\": [\n          \"We use the distance formula to find the distance between the two points, which is the side length of the square.\\n$\\\\sqrt{(3-2)^2+(4-1)^2}=\\\\sqrt{1+9} = \\\\sqrt{10}$. Therefore, the area of the square is $(\\\\sqrt{10})^2 = \\\\boxed{10}$.\",\n          \"We compute\\n\\n$$2Z6=6+10(2)-2^2=\\\\boxed{22}$$\",\n          \"We have $5^4=625$, so $\\\\log_5 625 = \\\\boxed{4}$.\"\n        ],\n        \"semantic_type\": \"\",\n        \"description\": \"\"\n      }\n    },\n    {\n      \"column\": \"solution_ru\",\n      \"properties\": {\n        \"dtype\": \"string\",\n        \"num_unique_values\": 300,\n        \"samples\": [\n          \"\\u041c\\u044b \\u0438\\u0441\\u043f\\u043e\\u043b\\u044c\\u0437\\u0443\\u0435\\u043c \\u0444\\u043e\\u0440\\u043c\\u0443\\u043b\\u0443 \\u0440\\u0430\\u0441\\u0441\\u0442\\u043e\\u044f\\u043d\\u0438\\u044f, \\u0447\\u0442\\u043e\\u0431\\u044b \\u043d\\u0430\\u0439\\u0442\\u0438 \\u0440\\u0430\\u0441\\u0441\\u0442\\u043e\\u044f\\u043d\\u0438\\u0435 \\u043c\\u0435\\u0436\\u0434\\u0443 \\u0434\\u0432\\u0443\\u043c\\u044f \\u0442\\u043e\\u0447\\u043a\\u0430\\u043c\\u0438, \\u043a\\u043e\\u0442\\u043e\\u0440\\u043e\\u0435 \\u044f\\u0432\\u043b\\u044f\\u0435\\u0442\\u0441\\u044f \\u0434\\u043b\\u0438\\u043d\\u043e\\u0439 \\u0441\\u0442\\u043e\\u0440\\u043e\\u043d\\u044b \\u043a\\u0432\\u0430\\u0434\\u0440\\u0430\\u0442\\u0430.\\n$\\\\sqrt{(3-2)^2+(4-1)^2}=\\\\sqrt{1+9} = \\\\sqrt{10}$. \\u0421\\u043b\\u0435\\u0434\\u043e\\u0432\\u0430\\u0442\\u0435\\u043b\\u044c\\u043d\\u043e, \\u043f\\u043b\\u043e\\u0449\\u0430\\u0434\\u044c \\u043a\\u0432\\u0430\\u0434\\u0440\\u0430\\u0442\\u0430 \\u0440\\u0430\\u0432\\u043d\\u0430 $(\\\\sqrt{10})^2 = \\\\boxed{10}$.\",\n          \"\\u041c\\u044b \\u0432\\u044b\\u0447\\u0438\\u0441\\u043b\\u044f\\u0435\\u043c\\n\\n$$2Z6=6+10(2)-2^2=\\\\boxed{22}$$\",\n          \"\\u0423 \\u043d\\u0430\\u0441 \\u0435\\u0441\\u0442\\u044c $5^4=625$, \\u043f\\u043e\\u044d\\u0442\\u043e\\u043c\\u0443 $\\\\log_5 625 = \\\\boxed{4}$.\"\n        ],\n        \"semantic_type\": \"\",\n        \"description\": \"\"\n      }\n    },\n    {\n      \"column\": \"type\",\n      \"properties\": {\n        \"dtype\": \"category\",\n        \"num_unique_values\": 1,\n        \"samples\": [\n          \"Algebra\"\n        ],\n        \"semantic_type\": \"\",\n        \"description\": \"\"\n      }\n    }\n  ]\n}"
            }
          },
          "metadata": {},
          "execution_count": 77
        }
      ]
    },
    {
      "cell_type": "markdown",
      "source": [
        "Теперь я могу очень просто поделиться своим датасетом со всеми"
      ],
      "metadata": {
        "id": "NJ8UKKRL6gYf"
      }
    },
    {
      "cell_type": "code",
      "source": [
        "from datasets import Dataset\n",
        "dataset = Dataset.from_pandas(df)"
      ],
      "metadata": {
        "id": "TR_3Q32f5xke"
      },
      "execution_count": 78,
      "outputs": []
    },
    {
      "cell_type": "code",
      "source": [
        "from google.colab import userdata\n",
        "hf_token = userdata.get('HuggingFaceToken')"
      ],
      "metadata": {
        "id": "sYXLQXuO6BvC"
      },
      "execution_count": 80,
      "outputs": []
    },
    {
      "cell_type": "code",
      "source": [
        "dataset.push_to_hub(\"NMashalov/ru_tasks\",token=hf_token)"
      ],
      "metadata": {
        "colab": {
          "base_uri": "https://localhost:8080/",
          "height": 133,
          "referenced_widgets": [
            "eeea3c242f3e4896b65fb197d4d43206",
            "8035fbccbed24327bec778a42ca355bb",
            "c297a640bf214958b6f9dfc5a5c2a328",
            "cb6a0f7213f3460383de889287e0c582",
            "74535561dd124dee8b5d49dd3267fc31",
            "9fb017b187604bdfa746f42d6bc0f7bc",
            "48eed249ecbe473990ea4e4423dafba1",
            "f757803ae9444445aa26eaffdbf798d9",
            "21298a1f44b5406bb0b0880ece1843e0",
            "a8bd31b7f46c4cbc962b94202b03cd6f",
            "6ad982d896134f339634067afcf1e505",
            "554931f3291f489c8b3ff5fbe859b7e0",
            "3e16ecc371914828a34b6cd3bd9c8ffe",
            "810f8d8bf18a4ed39b2e332f778ba073",
            "88f69bccf4624ab79ba9871771502d1e",
            "78e65a183bf54fc98b4fb1adec7ca785",
            "1b6078d21bab40ed8f5961f75f091f42",
            "afe9bf68b53a4ac883759da40983d86c",
            "7edf4cae45d44370965a21b9014a82e6",
            "18a56395213f434f8f49adae6207d242",
            "85a152e31e0843a2907226b086f1d634",
            "5b120664e2784c308dca20475754bf99"
          ]
        },
        "id": "yGgRtQpK4PNW",
        "outputId": "25c83f99-dd45-4766-d9f9-9f99e23ee872"
      },
      "execution_count": 82,
      "outputs": [
        {
          "output_type": "display_data",
          "data": {
            "text/plain": [
              "Uploading the dataset shards:   0%|          | 0/1 [00:00<?, ?it/s]"
            ],
            "application/vnd.jupyter.widget-view+json": {
              "version_major": 2,
              "version_minor": 0,
              "model_id": "eeea3c242f3e4896b65fb197d4d43206"
            }
          },
          "metadata": {}
        },
        {
          "output_type": "display_data",
          "data": {
            "text/plain": [
              "Creating parquet from Arrow format:   0%|          | 0/1 [00:00<?, ?ba/s]"
            ],
            "application/vnd.jupyter.widget-view+json": {
              "version_major": 2,
              "version_minor": 0,
              "model_id": "554931f3291f489c8b3ff5fbe859b7e0"
            }
          },
          "metadata": {}
        },
        {
          "output_type": "execute_result",
          "data": {
            "text/plain": [
              "CommitInfo(commit_url='https://huggingface.co/datasets/NMashalov/ru_tasks/commit/ec911bde953457ab5544bb578024add406d8abba', commit_message='Upload dataset', commit_description='', oid='ec911bde953457ab5544bb578024add406d8abba', pr_url=None, pr_revision=None, pr_num=None)"
            ],
            "application/vnd.google.colaboratory.intrinsic+json": {
              "type": "string"
            }
          },
          "metadata": {},
          "execution_count": 82
        }
      ]
    },
    {
      "cell_type": "markdown",
      "source": [
        "В следующем занятии.\n",
        "\n",
        "Интерактивный поиск по учебнику, журналу"
      ],
      "metadata": {
        "id": "h2SRt7KS7SYb"
      }
    }
  ]
}