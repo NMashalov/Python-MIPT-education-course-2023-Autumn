{
  "nbformat": 4,
  "nbformat_minor": 0,
  "metadata": {
    "colab": {
      "provenance": [],
      "authorship_tag": "ABX9TyNEwnhysTmj4leEpvRU7htF",
      "include_colab_link": true
    },
    "kernelspec": {
      "name": "python3",
      "display_name": "Python 3"
    },
    "language_info": {
      "name": "python"
    }
  },
  "cells": [
    {
      "cell_type": "markdown",
      "metadata": {
        "id": "view-in-github",
        "colab_type": "text"
      },
      "source": [
        "<a href=\"https://colab.research.google.com/github/NMashalov/Python-MIPT-education-course-2023-Spring/blob/main/Part2.Telegram/Python_Generators.ipynb\" target=\"_parent\"><img src=\"https://colab.research.google.com/assets/colab-badge.svg\" alt=\"Open In Colab\"/></a>"
      ]
    },
    {
      "cell_type": "markdown",
      "source": [
        "### Ленивые вычсиления\n",
        "\n",
        "Ленивые (lazy) вычисления - термин пришедший из функционального программирования\n",
        "Это означает, что вычисления выполняются на ходу, а не заранее.\n",
        "Такой подход позволяет сократить расходы памяти\n",
        "\n",
        "\n",
        "Функция стандартного пакета `sys.getsizeof` позволяет узнать расход памяти на объект в памяти.\n",
        "Проверим зависит ли размер примитива `range` от его длины"
      ],
      "metadata": {
        "id": "S1RoJK_Irog4"
      }
    },
    {
      "cell_type": "code",
      "source": [
        "import sys\n",
        "print(sys.getsizeof(range(10)))\n",
        "print(sys.getsizeof(range(1_000)))\n",
        "print(sys.getsizeof(range(1_000_000)))"
      ],
      "metadata": {
        "colab": {
          "base_uri": "https://localhost:8080/"
        },
        "id": "WiGvG4Q6rg-e",
        "outputId": "fcc47dd3-2d41-4342-be19-582054a986b6"
      },
      "execution_count": null,
      "outputs": [
        {
          "output_type": "stream",
          "name": "stdout",
          "text": [
            "48\n",
            "48\n",
            "48\n"
          ]
        }
      ]
    },
    {
      "cell_type": "markdown",
      "source": [
        "Попробуем также с `list`"
      ],
      "metadata": {
        "id": "nBvkfstLspmr"
      }
    },
    {
      "cell_type": "code",
      "source": [
        "print(*(sys.getsizeof(list(range(i))) for i in [10,1_000,1_000_00]))"
      ],
      "metadata": {
        "colab": {
          "base_uri": "https://localhost:8080/"
        },
        "id": "WTp-SQcSsswy",
        "outputId": "792fdf61-4fb0-4e0e-fc70-91de59cb5bcf"
      },
      "execution_count": null,
      "outputs": [
        {
          "output_type": "stream",
          "name": "stdout",
          "text": [
            "136 8056 800056\n"
          ]
        }
      ]
    },
    {
      "cell_type": "markdown",
      "source": [
        "Размер затраченной памяти начинает прирастать\n",
        "Это критично в задачах, требующих работы с большими данными или выполняющими работу на протяжении долгого времени"
      ],
      "metadata": {
        "id": "-uW5S6xgtDo8"
      }
    },
    {
      "cell_type": "code",
      "source": [
        "print(sum(range(1_000_000_000)))"
      ],
      "metadata": {
        "colab": {
          "base_uri": "https://localhost:8080/"
        },
        "id": "dtCOtK4grJTx",
        "outputId": "95ece511-fe8f-47f0-e1c3-a52ec2271c2b"
      },
      "execution_count": null,
      "outputs": [
        {
          "output_type": "stream",
          "name": "stdout",
          "text": [
            "499999999500000000\n"
          ]
        }
      ]
    },
    {
      "cell_type": "code",
      "source": [
        "print(sum(list(range(1_000_000_000))))"
      ],
      "metadata": {
        "id": "qhYUUoratchz"
      },
      "execution_count": null,
      "outputs": []
    },
    {
      "cell_type": "markdown",
      "source": [
        "Процесс не выполнится и это нормально :) Нам не хватило памяти для хранения такого большого листа.  А справится ли специальна библиотека для вычислений numpy?"
      ],
      "metadata": {
        "id": "6BNBsOEft1Za"
      }
    },
    {
      "cell_type": "code",
      "source": [
        "import numpy\n",
        "x = numpy.arange(1_000_000_000)"
      ],
      "metadata": {
        "id": "IX3JVAj6uGQL"
      },
      "execution_count": null,
      "outputs": []
    },
    {
      "cell_type": "markdown",
      "source": [
        "Да, массив поместился в память.\n",
        "Представление целого числа в numpy примерно в 10 раз легче :)"
      ],
      "metadata": {
        "id": "WFYLQs8cvCyU"
      }
    },
    {
      "cell_type": "code",
      "source": [
        "import sys\n",
        "import numpy\n",
        "print(sys.getsizeof(list(range(1_000_000))))\n",
        "print(sys.getsizeof(numpy.arange(1_000_00)))"
      ],
      "metadata": {
        "colab": {
          "base_uri": "https://localhost:8080/"
        },
        "id": "L_oxaoaUvwj0",
        "outputId": "a0d59ae7-0b90-4a21-f406-b128170c8fb7"
      },
      "execution_count": null,
      "outputs": [
        {
          "output_type": "stream",
          "name": "stdout",
          "text": [
            "8000056\n",
            "800112\n"
          ]
        }
      ]
    },
    {
      "cell_type": "markdown",
      "source": [
        "Попробуем просуммировать встроенным методом"
      ],
      "metadata": {
        "id": "ZRtizsC7j8Ps"
      }
    },
    {
      "cell_type": "code",
      "source": [
        "x.sum()"
      ],
      "metadata": {
        "id": "Pe6X3FSQu_IG"
      },
      "execution_count": null,
      "outputs": []
    },
    {
      "cell_type": "markdown",
      "source": [
        "Не получилось :(\n",
        "Дело во внутренних оптимизациях numpy. Если использовать обычный sum все получится"
      ],
      "metadata": {
        "id": "xWlju0QAuWoy"
      }
    },
    {
      "cell_type": "code",
      "source": [
        "import numpy\n",
        "sum(numpy.arange(1_000_000_000))"
      ],
      "metadata": {
        "colab": {
          "base_uri": "https://localhost:8080/"
        },
        "id": "1daqUzg8uaw5",
        "outputId": "94d2f847-4931-491e-9229-d11466db29ae"
      },
      "execution_count": null,
      "outputs": [
        {
          "output_type": "execute_result",
          "data": {
            "text/plain": [
              "499999999500000000"
            ]
          },
          "metadata": {},
          "execution_count": 2
        }
      ]
    },
    {
      "cell_type": "markdown",
      "source": [
        "Расчет получился, но был очень долгий. Numpy при каждом обращении к массиву выполняет очень много работы по обработке исключений и вызове исходного кода на c.\n",
        "\n",
        "Но почему вызовов было много 🤔 Дело в том, что функция sum в python устроена рекурентно:\n",
        "\n"
      ],
      "metadata": {
        "id": "7j5dQaZpun0c"
      }
    },
    {
      "cell_type": "code",
      "source": [
        "list_to_sum = range(11)\n",
        "# последовательный обходчик\n",
        "walker = iter(list_to_sum)\n",
        "recurrent_unit = next(walker)\n",
        "print('Cнаружи цикла:', recurrent_unit)\n",
        "for x in walker:\n",
        "    print('Внутри цикла:', x)\n",
        "    recurrent_unit += x\n",
        "print(recurrent_unit)"
      ],
      "metadata": {
        "colab": {
          "base_uri": "https://localhost:8080/"
        },
        "id": "7zThSE1QvXV6",
        "outputId": "d32f4864-b146-4339-f392-4d7a937349b5"
      },
      "execution_count": null,
      "outputs": [
        {
          "output_type": "stream",
          "name": "stdout",
          "text": [
            "Cнаружи цикла: 0\n",
            "Внутри цикла: 1\n",
            "Внутри цикла: 2\n",
            "Внутри цикла: 3\n",
            "Внутри цикла: 4\n",
            "Внутри цикла: 5\n",
            "Внутри цикла: 6\n",
            "Внутри цикла: 7\n",
            "Внутри цикла: 8\n",
            "Внутри цикла: 9\n",
            "Внутри цикла: 10\n",
            "55\n"
          ]
        }
      ]
    },
    {
      "cell_type": "markdown",
      "source": [
        "`Iter` - это указатель. Он умеет три вещи:\n",
        "- вызывать у структуры метод-дескриптор `__iter__`\n",
        "- возвращать при вызове функции `next` элемент последовательности\n",
        "- вызывать метод последовательности `__next__` для понимания какой элемент следующий\n",
        "\n",
        "Поэтому размер iter не зависит от размера последовательности и даже размера ее элементов\n"
      ],
      "metadata": {
        "id": "CiyNDHsh1eGR"
      }
    },
    {
      "cell_type": "code",
      "source": [
        "import sys\n",
        "print(sys.getsizeof(iter(range(10))))\n",
        "print(sys.getsizeof(iter(range(1_000_000))))\n",
        "print(sys.getsizeof(iter([list(range(1_000_000)) for i in range(10)])))"
      ],
      "metadata": {
        "colab": {
          "base_uri": "https://localhost:8080/"
        },
        "id": "reuCxK-U2L5-",
        "outputId": "a929a5e5-2f1e-49b4-e7b9-0e5a14c248c8"
      },
      "execution_count": null,
      "outputs": [
        {
          "output_type": "stream",
          "name": "stdout",
          "text": [
            "48\n",
            "48\n",
            "48\n"
          ]
        }
      ]
    },
    {
      "cell_type": "markdown",
      "source": [
        "Обманем `iter`. Заставим его шагать по структуре не похожую на последовательность"
      ],
      "metadata": {
        "id": "UVue1LEH28MT"
      }
    },
    {
      "cell_type": "code",
      "source": [
        "class Trick:\n",
        "    def __iter__(self):\n",
        "        print('Обманули :)')\n",
        "        return self\n",
        "    def __next__(self):\n",
        "        return 'Нет тут ничего'\n",
        "\n",
        "\n",
        "t = iter(Trick())\n",
        "next(t),next(t)"
      ],
      "metadata": {
        "colab": {
          "base_uri": "https://localhost:8080/"
        },
        "id": "Z4ImC0vN23zR",
        "outputId": "f7ec153a-1165-4ec1-de23-db41504049a2"
      },
      "execution_count": null,
      "outputs": [
        {
          "output_type": "stream",
          "name": "stdout",
          "text": [
            "Обманули :)\n"
          ]
        },
        {
          "output_type": "execute_result",
          "data": {
            "text/plain": [
              "('Нет тут ничего', 'Нет тут ничего')"
            ]
          },
          "metadata": {},
          "execution_count": 27
        }
      ]
    },
    {
      "cell_type": "markdown",
      "source": [
        "Для работы с рекуррентными структурами также удобно использовать `functools.reduce`. Например, таким образом можно эффективно вычислить факториал"
      ],
      "metadata": {
        "id": "-Fg2LPgx2LIy"
      }
    },
    {
      "cell_type": "code",
      "source": [
        "import functools\n",
        "print(functools.reduce(lambda x,y: x*y, range(1,25)))"
      ],
      "metadata": {
        "colab": {
          "base_uri": "https://localhost:8080/"
        },
        "id": "YswnWZhJzXgf",
        "outputId": "627c4e03-fabe-4484-cd9d-dd1c98c5e234"
      },
      "execution_count": null,
      "outputs": [
        {
          "output_type": "execute_result",
          "data": {
            "text/plain": [
              "620448401733239439360000"
            ]
          },
          "metadata": {},
          "execution_count": 30
        }
      ]
    },
    {
      "cell_type": "markdown",
      "source": [
        "### 📝 Задача\n",
        "\n",
        "1. Сложите 1_000_000_000 равномерно распределенных чисел."
      ],
      "metadata": {
        "id": "rL9TyUiWtrlR"
      }
    },
    {
      "cell_type": "code",
      "source": [
        "# для задания равномерно распределенного числа можно использовать random\n",
        "from random import random\n",
        "\n",
        "random()"
      ],
      "metadata": {
        "colab": {
          "base_uri": "https://localhost:8080/"
        },
        "id": "PQkkZr1LtsI1",
        "outputId": "45f61a5b-b4e6-484a-a514-3aa5c8279cd4"
      },
      "execution_count": null,
      "outputs": [
        {
          "output_type": "execute_result",
          "data": {
            "text/plain": [
              "0.9296776503022031"
            ]
          },
          "metadata": {},
          "execution_count": 10
        }
      ]
    },
    {
      "cell_type": "markdown",
      "source": [
        "🦹 Вредные советы\n",
        "\n",
        "Я предложу плохую реализацию, как опорный пример. Покритикуйте подход, можно ли его улучшить?\n",
        "\n",
        "Решение через трюк с итератором"
      ],
      "metadata": {
        "id": "iyEJHfq93D4R"
      }
    },
    {
      "cell_type": "code",
      "source": [
        "import random\n",
        "class Trick:\n",
        "    def __init__(self,limit:int):\n",
        "        self.limit = limit\n",
        "    def __iter__(self):\n",
        "        self.counter = 0\n",
        "        return self\n",
        "    def __next__(self):\n",
        "        self.counter += 1\n",
        "        if self.counter <= self.limit:\n",
        "            return random.random()\n",
        "        else:\n",
        "            raise StopIteration\n",
        "\n",
        "sum(Trick(1_000_000_000))"
      ],
      "metadata": {
        "id": "Qb-vA-K62yDQ",
        "outputId": "18b6b404-5402-456b-b438-0ed5e4d5ee9e",
        "colab": {
          "base_uri": "https://localhost:8080/"
        }
      },
      "execution_count": 15,
      "outputs": [
        {
          "output_type": "execute_result",
          "data": {
            "text/plain": [
              "499994098.1147857"
            ]
          },
          "metadata": {},
          "execution_count": 15
        }
      ]
    },
    {
      "cell_type": "markdown",
      "source": [
        "\n",
        "\n",
        "2. Придумайте как с помощью iter обходить только четные элементы в последовательности"
      ],
      "metadata": {
        "id": "x-Poj-ag0QkE"
      }
    },
    {
      "cell_type": "code",
      "source": [
        "x = range(6)\n",
        "result = # Ваша магия 🔮 с iter() и x\n",
        "assert next(result)==1\n",
        "assert next(result)==3\n",
        "assert next(result)==5"
      ],
      "metadata": {
        "id": "ulF-YW5-0iXA"
      },
      "execution_count": null,
      "outputs": []
    },
    {
      "cell_type": "markdown",
      "source": [
        "🦹 Вредные советы"
      ],
      "metadata": {
        "id": "oOozqqqa8lp7"
      }
    },
    {
      "cell_type": "code",
      "source": [
        "import typing as tp\n",
        "class EvenIterator:\n",
        "    def __init__(self, sequence: tp.Iterable):\n",
        "        self.sequence = list(sequence)[1::2]\n",
        "    def __iter__(self):\n",
        "        return iter(self.sequence)\n",
        "\n",
        "x = range(6)\n",
        "result =iter(EvenIterator(x))\n",
        "assert next(result)==1\n",
        "assert next(result)==3\n",
        "assert next(result)==5"
      ],
      "metadata": {
        "id": "X85o251F8n4c"
      },
      "execution_count": 25,
      "outputs": []
    },
    {
      "cell_type": "markdown",
      "source": [
        "**Вывод**: по возможности используйте ленивые вычисления. Они значительно экономят расход памяти"
      ],
      "metadata": {
        "id": "kUX6oun3wjBv"
      }
    },
    {
      "cell_type": "markdown",
      "source": [
        "### Генераторы\n",
        "Это правило, которое задает последовательность на каждом ее шаге.\n",
        "\n",
        "📐Понятие пришло из теории рядов. Так, например, в теории групп Ли аргумент функции $\\exp(w)$ называют генератором, потому что на самом деле $w$ аргумент ряда $\\sum_{i=1}^\\infty \\frac{w^i}{n!}$\n",
        "\n",
        "Генераторы в python можно задать двумя простыми способами"
      ],
      "metadata": {
        "id": "ThqeklAb1ZSc"
      }
    },
    {
      "cell_type": "code",
      "source": [
        "import random\n",
        "# через скобки\n",
        "generator_1 = (random.random() for i in range(10))\n",
        "# через ключевое слово yield в функции\n",
        "def generator_2():\n",
        "    for i in range(10):\n",
        "        yield random.random()"
      ],
      "metadata": {
        "id": "o329PSca6EPt"
      },
      "execution_count": null,
      "outputs": []
    },
    {
      "cell_type": "markdown",
      "source": [
        "Вызвов генератор выполняется с помощью итератора"
      ],
      "metadata": {
        "id": "Dtjc46x--Pkf"
      }
    },
    {
      "cell_type": "code",
      "source": [
        "for item in generator_1:\n",
        "    print(item)\n",
        "print(*generator_2())"
      ],
      "metadata": {
        "colab": {
          "base_uri": "https://localhost:8080/"
        },
        "id": "JkmziS5H-UJ1",
        "outputId": "7f0db824-ec48-4946-9942-e279f3b2102a"
      },
      "execution_count": null,
      "outputs": [
        {
          "output_type": "stream",
          "name": "stdout",
          "text": [
            "0.6353597912927114\n",
            "0.18085771759577274\n",
            "0.48907213214096557\n",
            "0.9511970481915663\n",
            "0.33085704422149453\n",
            "0.8610810454924469\n",
            "0.04717197899797365\n",
            "0.03157459750462488\n",
            "0.5979285268247055\n",
            "0.9524130248180428\n",
            "0.5182904703764644 0.2749009307039585 0.6247895840259199 0.5365265245578852 0.6112135243809073 0.056363616594985344 0.1758741099282567 0.38201482424296285 0.308585552756096 0.1474230751110105\n"
          ]
        }
      ]
    },
    {
      "cell_type": "markdown",
      "source": [
        "Обратите внимание, что генератор заданного через `()` нельзя вызвать два раза, а через функцию можно"
      ],
      "metadata": {
        "id": "snLKismW-sB9"
      }
    },
    {
      "cell_type": "code",
      "source": [
        "for item in generator_1:\n",
        "    print(item)\n",
        "print(*generator_2())"
      ],
      "metadata": {
        "colab": {
          "base_uri": "https://localhost:8080/"
        },
        "id": "Wsnf71Ld-wHR",
        "outputId": "0d960570-8b36-403e-deb1-922a761de0a9"
      },
      "execution_count": null,
      "outputs": [
        {
          "output_type": "stream",
          "name": "stdout",
          "text": [
            "0.7434596839216792 0.9523808881335253 0.7408340751405318 0.5311508979576381 0.6433568850557354 0.49790071836777516 0.607993575028079 0.09296883620622576 0.25710656555403943 0.5423733459315748\n"
          ]
        }
      ]
    },
    {
      "cell_type": "markdown",
      "source": [
        "Дело в том, что функция с конструкцией `yield` возвращает `generator`, а не сами числа"
      ],
      "metadata": {
        "id": "RnLe7yDW-_2Y"
      }
    },
    {
      "cell_type": "code",
      "source": [
        "type(generator_2), type(generator_2()),type(next(generator_2())),"
      ],
      "metadata": {
        "colab": {
          "base_uri": "https://localhost:8080/"
        },
        "id": "YaYhQESH-bLl",
        "outputId": "c468ee8e-9edb-46f2-c79c-098c959d48c6"
      },
      "execution_count": null,
      "outputs": [
        {
          "output_type": "execute_result",
          "data": {
            "text/plain": [
              "(function, generator, float)"
            ]
          },
          "metadata": {},
          "execution_count": 51
        }
      ]
    },
    {
      "cell_type": "markdown",
      "source": [
        "Генераторы очень удобно использовать для чтения из файлов\n",
        "\n",
        "Создадим небольшой файл, содержащий числа от 1 до 20 на каждой новой строке"
      ],
      "metadata": {
        "id": "EPS0wFs__-IT"
      }
    },
    {
      "cell_type": "code",
      "source": [
        "with open('example.txt','w') as f:\n",
        "    for i in range(20):\n",
        "        f.write(f'{i}\\n')"
      ],
      "metadata": {
        "id": "6v71yPvFAaIc"
      },
      "execution_count": null,
      "outputs": []
    },
    {
      "cell_type": "markdown",
      "source": [
        "Jupyter notebook позволяет вызывать команды bash из ячейки. Для этого используем специальный символ `!`.\n",
        "\n",
        "Для вывода оодержимого файла в bash используется команда `cat`"
      ],
      "metadata": {
        "id": "YVUC_e4zAgCS"
      }
    },
    {
      "cell_type": "code",
      "source": [
        "!cat example.txt"
      ],
      "metadata": {
        "colab": {
          "base_uri": "https://localhost:8080/"
        },
        "id": "dveCJVFlAvah",
        "outputId": "67a939ee-84b5-4ab7-9907-823221536dbc"
      },
      "execution_count": null,
      "outputs": [
        {
          "output_type": "stream",
          "name": "stdout",
          "text": [
            "0\n",
            "1\n",
            "2\n",
            "3\n",
            "4\n",
            "5\n",
            "6\n",
            "7\n",
            "8\n",
            "9\n",
            "10\n",
            "11\n",
            "12\n",
            "13\n",
            "14\n",
            "15\n",
            "16\n",
            "17\n",
            "18\n",
            "19\n"
          ]
        }
      ]
    },
    {
      "cell_type": "markdown",
      "source": [
        "Попробуем написать функцию, которая возвращает файл для чтения"
      ],
      "metadata": {
        "id": "_FxvnpmzANSs"
      }
    },
    {
      "cell_type": "code",
      "source": [
        "def bad_reader():\n",
        "    with open('example.txt','r') as f:\n",
        "        return f"
      ],
      "metadata": {
        "id": "_7IZA_DK_eEm"
      },
      "execution_count": null,
      "outputs": []
    },
    {
      "cell_type": "code",
      "source": [
        "f = bad_reader()\n",
        "f.read()"
      ],
      "metadata": {
        "colab": {
          "base_uri": "https://localhost:8080/",
          "height": 141
        },
        "id": "a6D4PQVvH70q",
        "outputId": "19b5d72d-7cc9-4dab-f6c5-b3b4952977f0"
      },
      "execution_count": null,
      "outputs": [
        {
          "output_type": "error",
          "ename": "ValueError",
          "evalue": "I/O operation on closed file.",
          "traceback": [
            "\u001b[0;31m---------------------------------------------------------------------------\u001b[0m",
            "\u001b[0;31mValueError\u001b[0m                                Traceback (most recent call last)",
            "\u001b[0;32m<ipython-input-96-571e9fb02258>\u001b[0m in \u001b[0;36m<cell line: 1>\u001b[0;34m()\u001b[0m\n\u001b[0;32m----> 1\u001b[0;31m \u001b[0mf\u001b[0m\u001b[0;34m.\u001b[0m\u001b[0mread\u001b[0m\u001b[0;34m(\u001b[0m\u001b[0;34m)\u001b[0m\u001b[0;34m\u001b[0m\u001b[0;34m\u001b[0m\u001b[0m\n\u001b[0m",
            "\u001b[0;31mValueError\u001b[0m: I/O operation on closed file."
          ]
        }
      ]
    },
    {
      "cell_type": "markdown",
      "source": [
        "Ошибка означает, что соединение с файлом при начале его чтения уже было закрыто. Подключение было прервано контекстным менеджером `with` после того, как функция `bad_reader` завершила свою работу"
      ],
      "metadata": {
        "id": "0aNC2PJQHVa_"
      }
    },
    {
      "cell_type": "code",
      "source": [
        "def good_reader():\n",
        "    with open('example.txt','r') as f:\n",
        "         for line in f:\n",
        "            yield line"
      ],
      "metadata": {
        "id": "qbV3o-8xHtgA"
      },
      "execution_count": null,
      "outputs": []
    },
    {
      "cell_type": "code",
      "source": [
        "list(good_reader())"
      ],
      "metadata": {
        "colab": {
          "base_uri": "https://localhost:8080/"
        },
        "id": "WubbX5v6H1zS",
        "outputId": "e9b4a46d-af55-4f34-8b82-e07c02a2b72e"
      },
      "execution_count": null,
      "outputs": [
        {
          "output_type": "execute_result",
          "data": {
            "text/plain": [
              "['0\\n',\n",
              " '1\\n',\n",
              " '2\\n',\n",
              " '3\\n',\n",
              " '4\\n',\n",
              " '5\\n',\n",
              " '6\\n',\n",
              " '7\\n',\n",
              " '8\\n',\n",
              " '9\\n',\n",
              " '10\\n',\n",
              " '11\\n',\n",
              " '12\\n',\n",
              " '13\\n',\n",
              " '14\\n',\n",
              " '15\\n',\n",
              " '16\\n',\n",
              " '17\\n',\n",
              " '18\\n',\n",
              " '19\\n']"
            ]
          },
          "metadata": {},
          "execution_count": 101
        }
      ]
    },
    {
      "cell_type": "markdown",
      "source": [
        "Все получилось :) В данном случае генератор with понимает, что отключаться от файла нужно будет при полном прочтении файла"
      ],
      "metadata": {
        "id": "icDOn3eTIDmH"
      }
    },
    {
      "cell_type": "markdown",
      "source": [
        "Также генераторы удобны в обработке потоков\n",
        "\n",
        "Смешаем поток возрастающих и случайных чисел. Например, `range` и `random`"
      ],
      "metadata": {
        "id": "1F_YOwAO-Zmw"
      }
    },
    {
      "cell_type": "code",
      "source": [
        "def range_generator():\n",
        "    yield from range(10)\n",
        "\n",
        "def random_generator():\n",
        "    return (random.random() for _ in range(10))\n",
        "\n",
        "def mix_generator(generator_1, generator_2):\n",
        "    for value_from_gen_1, value_from_gen_2 in zip(generator_1,generator_2):\n",
        "        yield value_from_gen_1\n",
        "        yield value_from_gen_2\n",
        "\n",
        "print(*mix_generator(range_generator(),random_generator()))"
      ],
      "metadata": {
        "colab": {
          "base_uri": "https://localhost:8080/"
        },
        "id": "9HnSOpccGq7l",
        "outputId": "635d2639-c8e0-45a9-cb2b-c921d3a3c999"
      },
      "execution_count": null,
      "outputs": [
        {
          "output_type": "stream",
          "name": "stdout",
          "text": [
            "0 0.16483825214953907 1 0.7512267521616811 2 0.8078975381798265 3 0.9727118761043366 4 0.9967076990911371 5 0.8769332532338354 6 0.7377729685934948 7 0.5332234446968888 8 0.3722443312898651 9 0.7346960919612103\n"
          ]
        }
      ]
    },
    {
      "cell_type": "markdown",
      "source": [
        "Конструкция `yield from` позволяет создавать генератор из другого генератора или из последовательности"
      ],
      "metadata": {
        "id": "RGNA0RnTJCq9"
      }
    },
    {
      "cell_type": "markdown",
      "source": [
        "Обработчики можно композировать. Например сначала добавив число, а потом на него домножив"
      ],
      "metadata": {
        "id": "NAQRRxZnJCn-"
      }
    },
    {
      "cell_type": "code",
      "source": [
        "import typing as tp\n",
        "def add_stream(gen: tp.Iterable):\n",
        "    for i in gen:\n",
        "        yield i + 10\n",
        "\n",
        "def mult_stream(gen: tp.Iterable):\n",
        "    for i in gen:\n",
        "        yield i * 20"
      ],
      "metadata": {
        "id": "EZASe30Hq6Fw"
      },
      "execution_count": null,
      "outputs": []
    },
    {
      "cell_type": "code",
      "source": [
        "gen = range(10)\n",
        "print(*mult_stream(add_stream(gen)))"
      ],
      "metadata": {
        "colab": {
          "base_uri": "https://localhost:8080/"
        },
        "id": "klFdT_3y_55c",
        "outputId": "3ea9a374-d1a8-4e80-8ed1-d405eebdce4b"
      },
      "execution_count": null,
      "outputs": [
        {
          "output_type": "stream",
          "name": "stdout",
          "text": [
            "200 220 240 260 280 300 320 340 360 380\n"
          ]
        }
      ]
    },
    {
      "cell_type": "markdown",
      "source": [
        "Обратим внимание, что обработка в данной реализации выполняется последовательно.\n",
        "Выполнение следующей итерации начинается только после завершения предыдущей."
      ],
      "metadata": {
        "id": "M0CqRwbsKdLl"
      }
    },
    {
      "cell_type": "code",
      "execution_count": null,
      "metadata": {
        "colab": {
          "base_uri": "https://localhost:8080/"
        },
        "id": "NeW0znLfqYGN",
        "outputId": "b4f0670b-0b9e-466c-8a46-7b9d95b10c57"
      },
      "outputs": [
        {
          "output_type": "stream",
          "name": "stdout",
          "text": [
            "Подождали\n",
            "0\n",
            "Подождали\n",
            "1\n",
            "Подождали\n",
            "2\n",
            "Подождали\n",
            "3\n",
            "Подождали\n",
            "4\n",
            "Подождали\n",
            "5\n",
            "Подождали\n",
            "6\n",
            "Подождали\n",
            "7\n",
            "Подождали\n",
            "8\n",
            "Подождали\n",
            "9\n",
            "0 1 2 3 4 5 6 7 8 9\n"
          ]
        }
      ],
      "source": [
        "import time\n",
        "def sleep_stream(gen: tp.Iterable):\n",
        "    for i in gen:\n",
        "        print('Подождали')\n",
        "        time.sleep(0.5)\n",
        "        yield i\n",
        "\n",
        "def print_stream(gen: tp.Iterable):\n",
        "    for i in gen:\n",
        "        print(i)\n",
        "        yield i\n",
        "\n",
        "gen = range(10)\n",
        "print(*print_stream(sleep_stream(gen)))"
      ]
    },
    {
      "cell_type": "markdown",
      "source": [
        "Поскольку работа идет поэлементно, то вычисления можно прооводить даже с очень большими последовательностями"
      ],
      "metadata": {
        "id": "3nsyl0nVLs9q"
      }
    },
    {
      "cell_type": "code",
      "source": [
        "gen = (i*5 for i in range(100_000_000))\n",
        "print(sum(mult_stream(add_stream(gen))))"
      ],
      "metadata": {
        "colab": {
          "base_uri": "https://localhost:8080/"
        },
        "id": "NoMoLyD6Kpso",
        "outputId": "09ac7599-c991-4059-f25a-dd56bfe99045"
      },
      "execution_count": null,
      "outputs": [
        {
          "output_type": "stream",
          "name": "stdout",
          "text": [
            "500000015000000000\n"
          ]
        }
      ]
    },
    {
      "cell_type": "markdown",
      "source": [
        "### 📝 Задача\n",
        "1. Реализовать `range` с типом возвращаемого числа не `int`, а `str`\n"
      ],
      "metadata": {
        "id": "JDEtfcGMBCB6"
      }
    },
    {
      "cell_type": "markdown",
      "source": [
        "Ваше решение"
      ],
      "metadata": {
        "id": "XPqJEy5q2Ahc"
      }
    },
    {
      "cell_type": "code",
      "source": [],
      "metadata": {
        "id": "NDpkbfZb2BGz"
      },
      "execution_count": null,
      "outputs": []
    },
    {
      "cell_type": "markdown",
      "source": [
        "🦹 Вредные советы\n"
      ],
      "metadata": {
        "id": "Bb5OjVbG9Yiv"
      }
    },
    {
      "cell_type": "code",
      "source": [
        "def string_range(start=0, end =5, step=1):\n",
        "    trajectory = [str(i) for i in range(start,end,step)]\n",
        "    yield from trajectory\n",
        "\n",
        "assert tuple(string_range())==(\"0\",\"1\",\"2\",\"3\",\"4\")"
      ],
      "metadata": {
        "id": "KabQqzwPBh4p"
      },
      "execution_count": null,
      "outputs": []
    },
    {
      "cell_type": "markdown",
      "source": [
        "2. Реализуйте генератор чисел Фибоначи до числа `n`"
      ],
      "metadata": {
        "id": "CAkr6l_VCCKM"
      }
    },
    {
      "cell_type": "code",
      "source": [],
      "metadata": {
        "id": "_RlOtZ3_CBVs"
      },
      "execution_count": null,
      "outputs": []
    },
    {
      "cell_type": "markdown",
      "source": [
        "🦹 Вредные советы\n"
      ],
      "metadata": {
        "id": "CedgQNiJ9e6m"
      }
    },
    {
      "cell_type": "code",
      "source": [
        "\n",
        "def fib(n=5):\n",
        "    fib_prev,fib=1,1\n",
        "    yield fib_prev\n",
        "    yield fib\n",
        "    yield from (fib := fib_prev + (fib_prev := fib) for _ in range(n-2))\n",
        "\n",
        "list(fib(5))"
      ],
      "metadata": {
        "colab": {
          "base_uri": "https://localhost:8080/"
        },
        "id": "S6bf5Ws42Dqg",
        "outputId": "bf57582b-f3e2-40dc-fc3f-1fd81cb007ca"
      },
      "execution_count": 2,
      "outputs": [
        {
          "output_type": "execute_result",
          "data": {
            "text/plain": [
              "[1, 1, 2, 3, 5]"
            ]
          },
          "metadata": {},
          "execution_count": 2
        }
      ]
    },
    {
      "cell_type": "markdown",
      "source": [
        "### Бонус 🎆 Реализация асинхронности через генераторы\n",
        "\n",
        "В примере\n",
        "```python\n",
        "import time\n",
        "def sleep_stream(gen: tp.Iterable):\n",
        "    for i in gen:\n",
        "        print('Подождали')\n",
        "        time.sleep(0.3)\n",
        "        yield i\n",
        "def print_stream(gen: tp.Iterable):\n",
        "    for i in gen:\n",
        "        print(i)\n",
        "        yield i\n",
        "gen = range(10)\n",
        "print(*sleep_stream(print_stream(gen)))\n",
        "```\n",
        "мы почти все время ждали исполнения оператора `sleep_stream` прежде чем приступить к следующей итерации. Как можно было бы начинать на следующую задачу во время сна?"
      ],
      "metadata": {
        "id": "VMQb_JpPMEzL"
      }
    },
    {
      "cell_type": "markdown",
      "source": [
        "А что если вместо того, чтобы ждать, возвращать само ождиание 🤔\n",
        "\n",
        "Реализуем класс, который принимает значение `value` и домножает его на 10 за промежуток времени `wait_time`.  \n",
        "\n",
        "При инициализации класса он сразу начинает вычисление, представленное генератором. Если мы еще не успели посчитать, генератор ничего не возвращает - `None`, если вычисления уже выполнены, то возвращается результат вычисления `value*10`"
      ],
      "metadata": {
        "id": "yP7a4vjAQDYG"
      }
    },
    {
      "cell_type": "code",
      "source": [
        "import time\n",
        "\n",
        "class AwaitableMult:\n",
        "    def __init__(self,value,wait_time):\n",
        "        self.wait_time = wait_time\n",
        "        self.value = value\n",
        "        # и сразу запускаем\n",
        "        self.result = self.wait_value()\n",
        "        next(self.result)\n",
        "\n",
        "    def wait_value(self):\n",
        "        init_time = time.time()\n",
        "        now =  time.time()\n",
        "        while now - init_time < self.wait_time: #ждем следующего вызова для проверки времени\n",
        "            yield\n",
        "            now = time.time()\n",
        "        print(f'Результат {self.value* 10}')\n",
        "        yield self.value * 10"
      ],
      "metadata": {
        "id": "sy8A8wCTMhTA"
      },
      "execution_count": null,
      "outputs": []
    },
    {
      "cell_type": "markdown",
      "source": [
        "Для работы с таким классом мы реализуем опрашивающий цикл.\n",
        "\n",
        "Каждую десятую секунды мы будем спрашивать у генератора есть ли у него результат. Если его еще нет, то подождем ответа.\n",
        "Функция опроса будет записывать результаты выполнения в лист."
      ],
      "metadata": {
        "id": "SVh8rgtAQ1oL"
      }
    },
    {
      "cell_type": "code",
      "source": [
        "class Poll:\n",
        "    def __init__(self, awaitables: list[AwaitableMult]):\n",
        "        self.answers = []\n",
        "        self.awaitables = awaitables\n",
        "\n",
        "    def poll(self,awaitable):\n",
        "        # опрашиваем генератор\n",
        "        result = next(awaitable.result)\n",
        "        if result is None:\n",
        "            return True\n",
        "        else:\n",
        "            self.answers.append(result)\n",
        "            return False\n",
        "\n",
        "    def cycle(self):\n",
        "        while len(self.awaitables) > 0:\n",
        "            self.awaitables = [awaitable for awaitable in self.awaitables if self.poll(awaitable)]\n",
        "            # каждую 0.1 секунды опрашиваем закончилось ли ожидание в задаче\n",
        "            time.sleep(0.1)\n",
        "        return self.answers\n"
      ],
      "metadata": {
        "id": "yjQ-oIH8eheE"
      },
      "execution_count": null,
      "outputs": []
    },
    {
      "cell_type": "code",
      "source": [
        "from os import truncate\n",
        "import time\n",
        "import random\n",
        "import typing as tp\n",
        "\n",
        "# последовательно мы бы ожидали 21 секунду\n",
        "# но в итоге прождем всего 5\n",
        "awaitables= [AwaitableMult(i,i) for i in range(1,6)]\n",
        "answers = Poll(awaitables).cycle()\n",
        "print(answers)"
      ],
      "metadata": {
        "colab": {
          "base_uri": "https://localhost:8080/"
        },
        "id": "dE0OJuNRQpNo",
        "outputId": "a0ee29a6-62d1-4e3e-d30e-7e9d8c03cb58"
      },
      "execution_count": null,
      "outputs": [
        {
          "output_type": "stream",
          "name": "stdout",
          "text": [
            "Результат 10\n",
            "Результат 20\n",
            "Результат 30\n",
            "Результат 40\n",
            "Результат 50\n",
            "[10, 20, 30, 40, 50]\n"
          ]
        }
      ]
    },
    {
      "cell_type": "markdown",
      "source": [
        "Обратите внимание, что запуск выполняется сразу после создания класса `AwaitableMult`.\n",
        "Чтобы проверить это свойство, подождем три секунды перед запуском"
      ],
      "metadata": {
        "id": "fWRAEUEQd3uW"
      }
    },
    {
      "cell_type": "code",
      "source": [
        "awaitables= [AwaitableMult(i,i) for i in range(1,6)]\n",
        "time.sleep(3)\n",
        "answers = Poll(awaitables).cycle()\n",
        "print(answers)"
      ],
      "metadata": {
        "colab": {
          "base_uri": "https://localhost:8080/"
        },
        "id": "Ubl4A3Ehd0YX",
        "outputId": "9e321ce6-df61-4515-dda6-65f2dc5b9494"
      },
      "execution_count": null,
      "outputs": [
        {
          "output_type": "stream",
          "name": "stdout",
          "text": [
            "Результат 10\n",
            "Результат 20\n",
            "Результат 30\n",
            "Результат 40\n",
            "Результат 50\n",
            "[10, 20, 30, 40, 50]\n"
          ]
        }
      ]
    },
    {
      "cell_type": "markdown",
      "source": [
        "**Вывод**: Такой подход называется асинхроным или конкурентным. Главное преимущество подхода заключается в совместном, а не последовательном ожидании. Это актуально, когда мы собираем информацию из большого числа источников.\n",
        "\n",
        "Также мы научились реализовывать примитивы асинхроности используя генераторы.\n",
        "В программировании они называются:\n",
        "- `event_loop` - агент, опрашивающий в промежутки времени статус исполнения задачи\n",
        "- `coroutine` - функция стартующая задачу иумеющая сказать завершилась ли она или нет\n",
        "\n",
        "Стандартный пакет `asyncio` развивает подход набором удобных инструментов, позволяет опрашивать с разным приоритетом и сроком, обработывает исключения.\n",
        "\n"
      ],
      "metadata": {
        "id": "LWzeqToRWY8k"
      }
    }
  ]
}