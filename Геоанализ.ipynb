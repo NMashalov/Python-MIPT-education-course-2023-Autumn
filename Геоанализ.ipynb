{
  "nbformat": 4,
  "nbformat_minor": 0,
  "metadata": {
    "colab": {
      "provenance": [],
      "authorship_tag": "ABX9TyNzehg6XBa62j6eDv0Ky92f",
      "include_colab_link": true
    },
    "kernelspec": {
      "name": "python3",
      "display_name": "Python 3"
    },
    "language_info": {
      "name": "python"
    }
  },
  "cells": [
    {
      "cell_type": "markdown",
      "metadata": {
        "id": "view-in-github",
        "colab_type": "text"
      },
      "source": [
        "<a href=\"https://colab.research.google.com/github/NMashalov/Python-MIPT-education-course-2023-Spring/blob/main/%D0%93%D0%B5%D0%BE%D0%B0%D0%BD%D0%B0%D0%BB%D0%B8%D0%B7.ipynb\" target=\"_parent\"><img src=\"https://colab.research.google.com/assets/colab-badge.svg\" alt=\"Open In Colab\"/></a>"
      ]
    },
    {
      "cell_type": "markdown",
      "source": [
        "## Введение 📍\n",
        "\n",
        "Географическое представление:\n",
        "- поиск кратчайших маршрутов\n",
        "- демографический анализ\n",
        "- поиск мест для бизнеса\n",
        "\n",
        "Где еще может пригодиться? 🤔\n",
        "\n",
        "Для вдохновения на русском:\n",
        "https://habr.com/ru/articles/579838/"
      ],
      "metadata": {
        "id": "7a6MCHbxykwl"
      }
    },
    {
      "cell_type": "markdown",
      "source": [
        "### Open Street Maps 🌍 (Теория 📜)\n",
        "\n",
        "Открытый ресурс дополняющийся ~~энтузиастами~~ студентами географических институтов.\n",
        "\n",
        "\n",
        "Демо:\n",
        "- https://www.openstreetmap.org/#map=3/69.62/-74.90\n",
        "\n",
        "Основная информация:\n",
        "https://wiki.openstreetmap.org/\n",
        "\n",
        "Официальный вводный курс:\n",
        "https://wiki.openstreetmap.org/wiki/Beginners%27_guide\n",
        "\n",
        "Официальный редактор Id\n",
        "\n",
        "https://github.com/openstreetmap/iD\n"
      ],
      "metadata": {
        "id": "Fx37zrabwf7P"
      }
    },
    {
      "cell_type": "markdown",
      "source": [],
      "metadata": {
        "id": "sNvBrDvSd1Z8"
      }
    },
    {
      "cell_type": "markdown",
      "source": [
        "## Nominatim - бесплатный геокодер\n",
        "\n",
        "Документация официального пакета\n",
        "https://nominatim.org/release-docs/latest/library/Getting-Started/\n",
        "\n",
        "\n",
        "💰 Есть коммерческие решение от `dadata`, `2gis` и `yandex`"
      ],
      "metadata": {
        "id": "U3hC2t6ryzzE"
      }
    },
    {
      "cell_type": "markdown",
      "source": [
        "На самом деле он просто делает такие запросы:\n",
        "\n",
        "Результат запроса к\n",
        "https://nominatim.openstreetmap.org/search?q=Moscow&format=json\n",
        "```\n",
        "[\n",
        "  {\n",
        "    \"place_id\": 174337209,\n",
        "    \"licence\": \"Data © OpenStreetMap contributors, ODbL 1.0. http://osm.org/copyright\",\n",
        "    \"osm_type\": \"relation\",\n",
        "    \"osm_id\": 102269,\n",
        "    \"lat\": \"55.625578\",\n",
        "    \"lon\": \"37.6063916\",\n",
        "    \"class\": \"boundary\",\n",
        "    \"type\": \"administrative\",\n",
        "    \"place_rank\": 8,\n",
        "    \"importance\": 0.790819328283346,\n",
        "    \"addresstype\": \"state\",\n",
        "    \"name\": \"Moscow\",\n",
        "    \"display_name\": \"Moscow, Central Federal District, Russia\",\n",
        "    \"boundingbox\": [\n",
        "      \"55.1421745\",\n",
        "      \"56.0212238\",\n",
        "      \"36.8031012\",\n",
        "      \"37.9674277\"\n",
        "    ]\n",
        "  },\n",
        "  {\n",
        "    \"place_id\": 174493218,\n",
        "    \"licence\": \"Data © OpenStreetMap contributors, ODbL 1.0. http://osm.org/copyright\",\n",
        "    \"osm_type\": \"relation\",\n",
        "    \"osm_id\": 2555133,\n",
        "    \"lat\": \"55.7505412\",\n",
        "    \"lon\": \"37.6174782\",\n",
        "    \"class\": \"place\",\n",
        "    \"type\": \"city\",\n",
        "    \"place_rank\": 15,\n",
        "    \"importance\": 0.790819328283346,\n",
        "    \"addresstype\": \"city\",\n",
        "    \"name\": \"Moscow\",\n",
        "    \"display_name\": \"Moscow, Central Federal District, Russia\",\n",
        "    \"boundingbox\": [\n",
        "      \"55.4913076\",\n",
        "      \"55.9577717\",\n",
        "      \"37.2905020\",\n",
        "      \"37.9674277\"\n",
        "    ]\n",
        "  }\n",
        "]\n",
        "```"
      ],
      "metadata": {
        "id": "W8zmC6svwqLj"
      }
    },
    {
      "cell_type": "markdown",
      "source": [
        "## OSMnx\n",
        "\n",
        "Талантливо совмещает читалку OpenStreetMaps https://osmcode.org/pyosmium/ и библиотеку для работы с графами\n",
        "\n"
      ],
      "metadata": {
        "id": "11Una8U9wlUV"
      }
    },
    {
      "cell_type": "markdown",
      "source": [
        "### Полный анализ города\n",
        "\n",
        "⚠️ Загрузка может занять время"
      ],
      "metadata": {
        "id": "1dRTY5ZidaVT"
      }
    },
    {
      "cell_type": "code",
      "source": [
        "cities = ['Краснодар']\n",
        "polygon_krd = ox.geometries_from_place(cities, {'boundary':'administrative'}).reset_index()\n",
        "polygon_krd = polygon_krd[(polygon_krd['name'] == 'городской округ Краснодар')]\n",
        "# посмотрим что получилось\n",
        "visualize_polygons(polygon_krd['geometry'])"
      ],
      "metadata": {
        "id": "r2Y3xIokdWh4"
      },
      "execution_count": null,
      "outputs": []
    },
    {
      "cell_type": "markdown",
      "source": [
        "### Поиск кратчайшего маршрута"
      ],
      "metadata": {
        "id": "IcD8FP9MdXCI"
      }
    },
    {
      "cell_type": "code",
      "source": [
        "import osmnx as ox\n",
        "import networkx as nx\n",
        "\n",
        "ox.config(log_console=True, use_cache=True)\n",
        "\n",
        "# define the start and end locations in latlng\n",
        "start_latlng = (37.78497,-122.43327)\n",
        "end_latlng = (37.78071,-122.41445)\n",
        "\n",
        "# location where you want to find your route\n",
        "place = 'San Francisco, California, United States'\n",
        "\n",
        "# find shortest route based on the mode of travel\n",
        "mode = 'walk' # 'drive', 'bike', 'walk'\n",
        "\n",
        "# find shortest path based on distance or time\n",
        "optimizer = 'time' # 'length','time'\n",
        "\n",
        "# create graph from OSM within the boundaries of some\n",
        "# geocodable place(s)\n",
        "graph = ox.graph_from_place(place, network_type = mode)\n",
        "\n",
        "# find the nearest node to the start location\n",
        "orig_node = ox.get_nearest_node(graph, start_latlng)\n",
        "\n",
        "# find the nearest node to the end location\n",
        "dest_node = ox.get_nearest_node(graph, end_latlng)\n",
        "\n",
        "# find the shortest path\n",
        "shortest_route = nx.shortest_path(graph, orig_node,dest_node,\n",
        "                                  weight=optimizer)"
      ],
      "metadata": {
        "id": "CPxNqeJCcI1z"
      },
      "execution_count": null,
      "outputs": []
    },
    {
      "cell_type": "code",
      "source": [],
      "metadata": {
        "id": "7JMY0DqFcfKN"
      },
      "execution_count": null,
      "outputs": []
    },
    {
      "cell_type": "markdown",
      "source": [
        "## GeoPandas\n",
        "\n",
        "https://geopandas.org/en/stable/getting_started.html"
      ],
      "metadata": {
        "id": "uown0h28cpUH"
      }
    },
    {
      "cell_type": "code",
      "source": [],
      "metadata": {
        "id": "x_em71p2cpsS"
      },
      "execution_count": null,
      "outputs": []
    },
    {
      "cell_type": "markdown",
      "source": [
        "## h3\n",
        "\n",
        "Библиотека для хэширования\n",
        "\n",
        "https://github.com/uber/h3-py\n",
        "\n",
        "Пригождается для кластеризации разреженных данных. Зачем это нужно?\n",
        "\n",
        "\n",
        "\n",
        "На практике прекрасно работает в связке geopandas\n",
        "с https://github.com/DahnJ/H3-Pandas"
      ],
      "metadata": {
        "id": "tsn2ECCLcflw"
      }
    },
    {
      "cell_type": "code",
      "source": [
        "import h3\n",
        "lat, lng = 37.769377, -122.388903\n",
        "resolution = 9\n",
        "h3.latlng_to_cell(lat, lng, resolution)"
      ],
      "metadata": {
        "colab": {
          "base_uri": "https://localhost:8080/",
          "height": 366
        },
        "id": "GjULe09weYTq",
        "outputId": "e8aa05c3-5518-4a3b-e5f8-29d73292ab7f"
      },
      "execution_count": 1,
      "outputs": [
        {
          "output_type": "error",
          "ename": "ModuleNotFoundError",
          "evalue": "No module named 'h3'",
          "traceback": [
            "\u001b[0;31m---------------------------------------------------------------------------\u001b[0m",
            "\u001b[0;31mModuleNotFoundError\u001b[0m                       Traceback (most recent call last)",
            "\u001b[0;32m<ipython-input-1-834d442cfe24>\u001b[0m in \u001b[0;36m<cell line: 1>\u001b[0;34m()\u001b[0m\n\u001b[0;32m----> 1\u001b[0;31m \u001b[0;32mimport\u001b[0m \u001b[0mh3\u001b[0m\u001b[0;34m\u001b[0m\u001b[0;34m\u001b[0m\u001b[0m\n\u001b[0m\u001b[1;32m      2\u001b[0m \u001b[0mlat\u001b[0m\u001b[0;34m,\u001b[0m \u001b[0mlng\u001b[0m \u001b[0;34m=\u001b[0m \u001b[0;36m37.769377\u001b[0m\u001b[0;34m,\u001b[0m \u001b[0;34m-\u001b[0m\u001b[0;36m122.388903\u001b[0m\u001b[0;34m\u001b[0m\u001b[0;34m\u001b[0m\u001b[0m\n\u001b[1;32m      3\u001b[0m \u001b[0mresolution\u001b[0m \u001b[0;34m=\u001b[0m \u001b[0;36m9\u001b[0m\u001b[0;34m\u001b[0m\u001b[0;34m\u001b[0m\u001b[0m\n\u001b[1;32m      4\u001b[0m \u001b[0mh3\u001b[0m\u001b[0;34m.\u001b[0m\u001b[0mlatlng_to_cell\u001b[0m\u001b[0;34m(\u001b[0m\u001b[0mlat\u001b[0m\u001b[0;34m,\u001b[0m \u001b[0mlng\u001b[0m\u001b[0;34m,\u001b[0m \u001b[0mresolution\u001b[0m\u001b[0;34m)\u001b[0m\u001b[0;34m\u001b[0m\u001b[0;34m\u001b[0m\u001b[0m\n",
            "\u001b[0;31mModuleNotFoundError\u001b[0m: No module named 'h3'",
            "",
            "\u001b[0;31m---------------------------------------------------------------------------\u001b[0;32m\nNOTE: If your import is failing due to a missing package, you can\nmanually install dependencies using either !pip or !apt.\n\nTo view examples of installing some common dependencies, click the\n\"Open Examples\" button below.\n\u001b[0;31m---------------------------------------------------------------------------\u001b[0m\n"
          ],
          "errorDetails": {
            "actions": [
              {
                "action": "open_url",
                "actionText": "Open Examples",
                "url": "/notebooks/snippets/importing_libraries.ipynb"
              }
            ]
          }
        }
      ]
    },
    {
      "cell_type": "code",
      "source": [
        "import numpy as np\n",
        "import pandas as pd\n",
        "np.random.seed(1729)\n",
        "df = pd.DataFrame({\n",
        "  'lat': np.random.uniform(50, 51, 100),\n",
        "  'lng': np.random.uniform(14, 15, 100),\n",
        "  'value': np.random.poisson(100, 100)})\n",
        "})"
      ],
      "metadata": {
        "id": "OMjvAc7Bc4U9"
      },
      "execution_count": null,
      "outputs": []
    },
    {
      "cell_type": "markdown",
      "source": [
        "## Folium 🗺️\n",
        "\n",
        "Инструмент визуализации для python основанный на Leaflet\n",
        "http://leafletjs.com/\n",
        "\n",
        "\n",
        " (будет очень полезен если вы захотите встроить карту на свой вебсайт)"
      ],
      "metadata": {
        "id": "XvHm2UBWyNBS"
      }
    },
    {
      "cell_type": "markdown",
      "source": [
        "Терминология 📝.\n",
        "\n",
        "- тайл - слой карты"
      ],
      "metadata": {
        "id": "G4CHSdKpcd-c"
      }
    },
    {
      "cell_type": "code",
      "execution_count": null,
      "metadata": {
        "id": "oo-pOxBYwOfv"
      },
      "outputs": [],
      "source": [
        "import folium\n",
        "\n",
        "folium.TileLayer('openstreetmap').add_to(shortest_route_map)\n",
        "folium.TileLayer('Stamen Terrain').add_to(shortest_route_map)\n",
        "folium.TileLayer('Stamen Toner').add_to(shortest_route_map)\n",
        "folium.TileLayer('Stamen Water Color').add_to(shortest_route_map)\n",
        "folium.TileLayer('cartodbpositron').add_to(shortest_route_map)\n",
        "folium.TileLayer('cartodbdark_matter').add_to(shortest_route_map)\n",
        "folium.LayerControl().add_to(shortest_route_map)\n",
        "shortest_route_map"
      ]
    }
  ]
}